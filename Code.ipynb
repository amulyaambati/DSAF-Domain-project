{
 "cells": [
  {
   "cell_type": "markdown",
   "metadata": {
    "id": "hPpaDDFCbDeM"
   },
   "source": [
    "# Effects of Geopolitical events on currency exchange rates"
   ]
  },
  {
   "cell_type": "markdown",
   "metadata": {
    "id": "odVgSWdlAUf8"
   },
   "source": [
    "### **Authors**\n",
    "\n",
    "* Sai Vamshi Challamala , SaiVamshi.Challamalla@colorado.edu\n",
    "* Sneha Sasanapuri , snsa4676@colorado.edu\n",
    "* Amulya Ambati , Ambati.Amulya@colorado.edu\n",
    "* Lakshmi Prasanna Poluru , Prasanna.Poluru@colorado.edu\n",
    "* Venkata Harshith Nikhil , VenkataHarshithNikhil.Samudrala@colorado.edu\n",
    "* Abhishek Reddy Gorla , AbhishekReddy.Gorla@colorado.edu"
   ]
  },
  {
   "cell_type": "markdown",
   "metadata": {},
   "source": [
    "1. The online published report is at [link](https://amulyaambati.github.io/DSAF-Domain-project/)\n",
    "2. Link to Github page is at [link](https://github.com/amulyaambati/DSAF-Domain-project)"
   ]
  },
  {
   "cell_type": "markdown",
   "metadata": {
    "id": "H3ChuJOikApl"
   },
   "source": [
    "###**Introduction**"
   ]
  },
  {
   "cell_type": "markdown",
   "metadata": {
    "id": "sa27zY8TCgk3"
   },
   "source": [
    "The intricate tapestry of the global financial landscape is woven with complex threads, where seismic events possess the potential to profoundly alter the terrain of currency exchange rates. Few episodes in financial history have left as deep an imprint as the 2008 financial crisis and the convergence of geopolitical tensions during the Russia-Ukraine conflict. Omitting intricate specifics, our analysis explores the dynamic interaction between geopolitical tension and global financial instability."
   ]
  },
  {
   "cell_type": "markdown",
   "metadata": {
    "id": "FXdIIAjXC3AC"
   },
   "source": [
    "**Goal of the Project**\n",
    "\n",
    "Can we analyse the effect of geopolitical tension or natural events on fluctuations of currency exchange rates?\n"
   ]
  },
  {
   "cell_type": "markdown",
   "metadata": {
    "id": "_P-JyxIVDE9b"
   },
   "source": [
    "**Exploring global currency exchange rates dataset**\n",
    "\n",
    "*The Significance of Currency Exchange Rates*\n",
    "\n",
    "Currency exchange rates occupy a pivotal role within the global economic landscape, exerting substantial influence over matters of trade, investment, and international financial transactions. These rates reflect the relative values of different currencies and have a profound impact on businesses, governments, investors, and individuals alike. Understanding and analyzing currency exchange rate data is essential for making informed decisions in the realm of international finance.\n",
    "\n",
    "In this report, we delve into the world of exploratory data analysis of currency exchange rates spanning the period from 2005 to 2023. This introduction serves as a primer for the subsequent sections, providing an overview of why currency exchange rate data is crucial, its sources, and how it can be analyzed to gain valuable insights.\n",
    "\n",
    "*Description*\n",
    "\n",
    "The currency exchange rates in this dataset represent the value of one currency in terms of US Dollar for every single day. For example, if the exchange rate between the U.S. Dollar (USD) and the Euro (EUR) is 1.20 on the date Febuary 19,2018 , it means that one USD can be exchanged for 1.20 EUR on that particular day. On a whole it's a day level dataset.\n",
    "\n",
    "*Source*\n",
    "\n",
    "Data Source: The data employed in this report has been sourced from an external Application Programming Interface (API) accessible at https://api.exchangerate.host/timeseries, as of the date September 24, 2023. This particular API was chosen due to its extensive day level information, making it an ideal source for our analysis of currency exchange rate trends.\n",
    "\n",
    "*Retrieval*\n",
    "\n",
    "Data retrieval from the API was executed through the utilization of HTTP GET requests directed to designated endpoints. This procedure was accomplished through the Python programming language, employing the 'requests' library, a well-regarded tool in the field of data acquisition.\n",
    "\n"
   ]
  },
  {
   "cell_type": "markdown",
   "metadata": {
    "id": "O7QCMyjbGRG1"
   },
   "source": [
    "**Install Required Libraries:**\n",
    "\n",
    "Let's begin by importing some useful libraries, including _\"pandas\", \"numpy\", \"datetime\", and \"plotly\"_. These libraries will enable us to perform data manipulation, address data quality issues, and create compelling visualizations."
   ]
  },
  {
   "cell_type": "code",
   "execution_count": 1,
   "metadata": {
    "id": "WeSPa43NGgn9"
   },
   "outputs": [],
   "source": [
    "import pandas as pd\n",
    "from datetime import date,timedelta,datetime\n",
    "import requests\n",
    "from io import StringIO\n",
    "import numpy as np\n",
    "import plotly.express as px\n",
    "import warnings\n",
    "warnings.filterwarnings(\"ignore\")\n",
    "import plotly.io as pio\n",
    "pio.renderers.default = \"notebook_connected\""
   ]
  },
  {
   "cell_type": "markdown",
   "metadata": {
    "id": "-izXcnU9GwQT"
   },
   "source": [
    "## Data pull\n",
    "\n",
    "\n",
    "Recognizing the significance of historical data spanning the preceding two decades, we have initiated this data acquisition process begining  from the year 2000 to the present date (09/23/2023)'.\n",
    "\n"
   ]
  },
  {
   "cell_type": "markdown",
   "metadata": {
    "id": "GAZz8gImUMqG"
   },
   "source": [
    "NOTE : Unfortunately the API has suddenly started asking for api_key since 09/28/2023. Hence commented the below data pulling code and loading the data from csv file (that was saved as a backup after pulling from API)."
   ]
  },
  {
   "cell_type": "code",
   "execution_count": 2,
   "metadata": {
    "id": "0m1mGoiSHmg6"
   },
   "outputs": [],
   "source": [
    "def get_rates(base_currency,start_date,end_date):\n",
    "  url = f'https://api.exchangerate.host/timeseries'\n",
    "  payload = {'base':base_currency,'start_date':start_date,'end_date':end_date}\n",
    "  response = requests.get(url,params= payload)\n",
    "  data  = response.json()\n",
    "  return data"
   ]
  },
  {
   "cell_type": "markdown",
   "metadata": {
    "id": "syPnDzagyTVK"
   },
   "source": [
    "The `get_rates()` function returns a dictionary with data starting from `start_date` to `end_date`, where the key `rates` is of our interest, which contains the data in the following format :\n",
    "\n",
    "_'rates' : {'2000-01-01' :{'usd':1 , 'inr' : 45, 'yun' : ......}, '2000-01-02' :{'usd':1 , 'inr' : 45.1, 'yun' : ......} .................'2023-09-01' :{'usd':1 , 'inr' : 82, 'yun' : ......}}_\n"
   ]
  },
  {
   "cell_type": "code",
   "execution_count": 3,
   "metadata": {
    "id": "u3X-vdmtIYD5"
   },
   "outputs": [],
   "source": [
    "# history = []\n",
    "# for year in range(2000,2024):\n",
    "#   start_date = date(year, 1, 1)\n",
    "#   start_year= start_date.year\n",
    "#   if start_year%4==0:\n",
    "#     end_date = start_date + timedelta(days = 365)\n",
    "#   else:\n",
    "#     end_date = start_date + timedelta(days = 364)\n",
    "#   rates_data = get_rates('USD',start_date,end_date)\n",
    "#   for date_ in rates_data['rates'].keys():\n",
    "#     for currency_code,value in rates_data['rates'][date_].items():\n",
    "#       history.append([date_,currency_code,value])"
   ]
  },
  {
   "cell_type": "markdown",
   "metadata": {
    "id": "dkDMJd2lyoKj"
   },
   "source": [
    "While trying to pull the data from the above designated API, we found a limitation pertaining to data retrieval capacity within a single API call. So, in order to tackle this issue our solution entails invoking the API within a loop, specifically targeting each year.\n",
    "\n",
    "\n",
    "In an effort to circumvent data loss during a leap year, we have implemented a condition to ascertain the leap year status, subsequently adjusting the number of days as necessitated within the code excerpt provided below"
   ]
  },
  {
   "cell_type": "code",
   "execution_count": 4,
   "metadata": {
    "id": "MroxHseoInEa"
   },
   "outputs": [],
   "source": [
    "# df = pd.DataFrame(history, columns=['date','currency_code','exchange_rate'])\n",
    "# df['year'] = pd.to_datetime(df['date']).dt.year"
   ]
  },
  {
   "cell_type": "markdown",
   "metadata": {
    "id": "W3wWALggyJKi"
   },
   "source": [
    "In this stage of our process, we transformed previously acquired data, which exists in a list format, into a structured pandas dataframe. Additionally, we have extracted year data from date column and stored in a sepearte columnn so that any analysis and aggreagtions can be done at an yearly level."
   ]
  },
  {
   "cell_type": "code",
   "execution_count": 5,
   "metadata": {
    "id": "atoX0gMUI5uC"
   },
   "outputs": [],
   "source": [
    "#df.to_csv('rates.csv')"
   ]
  },
  {
   "cell_type": "markdown",
   "metadata": {
    "id": "bsW2frhazMMf"
   },
   "source": [
    "Finally, the gathered data is stored in a csv file, so as to avoid re-running the data pull multiple times and to have a backup in case API stops working."
   ]
  },
  {
   "cell_type": "markdown",
   "metadata": {
    "id": "Zqp9I6qVYkTz"
   },
   "source": [
    "Uploaded the dataset to github and reading it from there, so as to make the report reproducible."
   ]
  },
  {
   "cell_type": "code",
   "execution_count": 6,
   "metadata": {
    "id": "QUhdnyVM-eNq"
   },
   "outputs": [],
   "source": [
    "url = 'https://raw.githubusercontent.com/amulyaambati/DSAF-Domain-project/main/rates.csv'\n",
    "response = requests.get(url)\n",
    "data = StringIO(response.text)\n",
    "df = pd.read_csv(data)"
   ]
  },
  {
   "cell_type": "code",
   "execution_count": 7,
   "metadata": {
    "colab": {
     "base_uri": "https://localhost:8080/",
     "height": 112
    },
    "id": "NgCAkWiFwDrO",
    "outputId": "16a256fd-6ce3-4322-8187-f0068269415d"
   },
   "outputs": [
    {
     "data": {
      "text/html": [
       "<div>\n",
       "<style scoped>\n",
       "    .dataframe tbody tr th:only-of-type {\n",
       "        vertical-align: middle;\n",
       "    }\n",
       "\n",
       "    .dataframe tbody tr th {\n",
       "        vertical-align: top;\n",
       "    }\n",
       "\n",
       "    .dataframe thead th {\n",
       "        text-align: right;\n",
       "    }\n",
       "</style>\n",
       "<table border=\"1\" class=\"dataframe\">\n",
       "  <thead>\n",
       "    <tr style=\"text-align: right;\">\n",
       "      <th></th>\n",
       "      <th>date</th>\n",
       "      <th>currency_code</th>\n",
       "      <th>exchange_rate</th>\n",
       "      <th>year</th>\n",
       "    </tr>\n",
       "  </thead>\n",
       "  <tbody>\n",
       "    <tr>\n",
       "      <th>0</th>\n",
       "      <td>1/1/2000</td>\n",
       "      <td>USD</td>\n",
       "      <td>1.000000</td>\n",
       "      <td>2000</td>\n",
       "    </tr>\n",
       "    <tr>\n",
       "      <th>1</th>\n",
       "      <td>1/1/2000</td>\n",
       "      <td>JPY</td>\n",
       "      <td>102.259606</td>\n",
       "      <td>2000</td>\n",
       "    </tr>\n",
       "  </tbody>\n",
       "</table>\n",
       "</div>"
      ],
      "text/plain": [
       "       date currency_code  exchange_rate  year\n",
       "0  1/1/2000           USD       1.000000  2000\n",
       "1  1/1/2000           JPY     102.259606  2000"
      ]
     },
     "execution_count": 7,
     "metadata": {},
     "output_type": "execute_result"
    }
   ],
   "source": [
    "df.head(2)"
   ]
  },
  {
   "cell_type": "markdown",
   "metadata": {
    "id": "upoBp_sJJlVQ"
   },
   "source": [
    "The above exchange rates dataset contains the data of all the existing currencies. Since its not possible to analyze all the currency exchange rates, we want to focus on currencies of particular countries of interest. Hence for that reason we would need a `country to currency code` mapping."
   ]
  },
  {
   "cell_type": "code",
   "execution_count": 8,
   "metadata": {
    "colab": {
     "base_uri": "https://localhost:8080/",
     "height": 206
    },
    "id": "WVKUA75JJpTg",
    "outputId": "097c7974-e8e5-429f-d2ec-e1bd7b1d9c36"
   },
   "outputs": [
    {
     "data": {
      "text/html": [
       "<div>\n",
       "<style scoped>\n",
       "    .dataframe tbody tr th:only-of-type {\n",
       "        vertical-align: middle;\n",
       "    }\n",
       "\n",
       "    .dataframe tbody tr th {\n",
       "        vertical-align: top;\n",
       "    }\n",
       "\n",
       "    .dataframe thead th {\n",
       "        text-align: right;\n",
       "    }\n",
       "</style>\n",
       "<table border=\"1\" class=\"dataframe\">\n",
       "  <thead>\n",
       "    <tr style=\"text-align: right;\">\n",
       "      <th></th>\n",
       "      <th>currency_code</th>\n",
       "      <th>Country</th>\n",
       "      <th>Currency Name</th>\n",
       "    </tr>\n",
       "  </thead>\n",
       "  <tbody>\n",
       "    <tr>\n",
       "      <th>0</th>\n",
       "      <td>AFN</td>\n",
       "      <td>AFGHANISTAN</td>\n",
       "      <td>Afghani</td>\n",
       "    </tr>\n",
       "    <tr>\n",
       "      <th>1</th>\n",
       "      <td>ALL</td>\n",
       "      <td>ALBANIA</td>\n",
       "      <td>Lek</td>\n",
       "    </tr>\n",
       "    <tr>\n",
       "      <th>2</th>\n",
       "      <td>DZD</td>\n",
       "      <td>ALGERIA</td>\n",
       "      <td>Algerian Dinar</td>\n",
       "    </tr>\n",
       "    <tr>\n",
       "      <th>3</th>\n",
       "      <td>USD</td>\n",
       "      <td>AMERICAN SAMOA</td>\n",
       "      <td>US Dollar</td>\n",
       "    </tr>\n",
       "    <tr>\n",
       "      <th>4</th>\n",
       "      <td>EUR</td>\n",
       "      <td>ANDORRA</td>\n",
       "      <td>Euro</td>\n",
       "    </tr>\n",
       "  </tbody>\n",
       "</table>\n",
       "</div>"
      ],
      "text/plain": [
       "  currency_code         Country   Currency Name\n",
       "0           AFN     AFGHANISTAN         Afghani\n",
       "1           ALL         ALBANIA             Lek\n",
       "2           DZD         ALGERIA  Algerian Dinar\n",
       "3           USD  AMERICAN SAMOA       US Dollar\n",
       "4           EUR         ANDORRA            Euro"
      ]
     },
     "execution_count": 8,
     "metadata": {},
     "output_type": "execute_result"
    }
   ],
   "source": [
    "url = 'https://raw.githubusercontent.com/amulyaambati/DSAF-Domain-project/main/country_code_to_currency_code.csv'\n",
    "response = requests.get(url)\n",
    "data = StringIO(response.text)\n",
    "codes = pd.read_csv(data)\n",
    "codes =  codes[['Currency_Code','Country','Currency Name']]\n",
    "codes.rename(columns={'Currency_Code':'currency_code'},inplace=True)\n",
    "codes.head()"
   ]
  },
  {
   "cell_type": "markdown",
   "metadata": {
    "id": "l8E2BBnFJyo1"
   },
   "source": [
    "In the next step, we are integrating currency exchange rate data with corresponding country currency information. Given our specific focus on particular countries of interest, the inclusion of currency-to-country mapping is indispensable for meaningful analysis. As such, we have employed an 'inner' join operation to combine these datasets, ensuring that only records with matching currency-to-country information are retained for further analysis."
   ]
  },
  {
   "cell_type": "code",
   "execution_count": 9,
   "metadata": {
    "id": "kHr6qJY4J2P0"
   },
   "outputs": [],
   "source": [
    "df = df.merge(codes,how='inner',on='currency_code')"
   ]
  },
  {
   "cell_type": "code",
   "execution_count": 10,
   "metadata": {
    "colab": {
     "base_uri": "https://localhost:8080/"
    },
    "id": "UdyvxCEYJ3WI",
    "outputId": "a5e3d75e-4532-41e0-f6bf-eb256745d3a5"
   },
   "outputs": [
    {
     "data": {
      "text/plain": [
       "(1644353, 6)"
      ]
     },
     "execution_count": 10,
     "metadata": {},
     "output_type": "execute_result"
    }
   ],
   "source": [
    "df.shape"
   ]
  },
  {
   "cell_type": "code",
   "execution_count": 11,
   "metadata": {
    "colab": {
     "base_uri": "https://localhost:8080/",
     "height": 206
    },
    "id": "fw5rQwNKI7f2",
    "outputId": "c0c963be-a25e-4390-b82a-82a347a950ed"
   },
   "outputs": [
    {
     "data": {
      "text/html": [
       "<div>\n",
       "<style scoped>\n",
       "    .dataframe tbody tr th:only-of-type {\n",
       "        vertical-align: middle;\n",
       "    }\n",
       "\n",
       "    .dataframe tbody tr th {\n",
       "        vertical-align: top;\n",
       "    }\n",
       "\n",
       "    .dataframe thead th {\n",
       "        text-align: right;\n",
       "    }\n",
       "</style>\n",
       "<table border=\"1\" class=\"dataframe\">\n",
       "  <thead>\n",
       "    <tr style=\"text-align: right;\">\n",
       "      <th></th>\n",
       "      <th>date</th>\n",
       "      <th>currency_code</th>\n",
       "      <th>exchange_rate</th>\n",
       "      <th>year</th>\n",
       "      <th>Country</th>\n",
       "      <th>Currency Name</th>\n",
       "    </tr>\n",
       "  </thead>\n",
       "  <tbody>\n",
       "    <tr>\n",
       "      <th>0</th>\n",
       "      <td>1/1/2000</td>\n",
       "      <td>USD</td>\n",
       "      <td>1.0</td>\n",
       "      <td>2000</td>\n",
       "      <td>AMERICAN SAMOA</td>\n",
       "      <td>US Dollar</td>\n",
       "    </tr>\n",
       "    <tr>\n",
       "      <th>1</th>\n",
       "      <td>1/1/2000</td>\n",
       "      <td>USD</td>\n",
       "      <td>1.0</td>\n",
       "      <td>2000</td>\n",
       "      <td>BONAIRE| SINT EUSTATIUS AND SABA</td>\n",
       "      <td>US Dollar</td>\n",
       "    </tr>\n",
       "    <tr>\n",
       "      <th>2</th>\n",
       "      <td>1/1/2000</td>\n",
       "      <td>USD</td>\n",
       "      <td>1.0</td>\n",
       "      <td>2000</td>\n",
       "      <td>BRITISH INDIAN OCEAN TERRITORY (THE)</td>\n",
       "      <td>US Dollar</td>\n",
       "    </tr>\n",
       "    <tr>\n",
       "      <th>3</th>\n",
       "      <td>1/1/2000</td>\n",
       "      <td>USD</td>\n",
       "      <td>1.0</td>\n",
       "      <td>2000</td>\n",
       "      <td>ECUADOR</td>\n",
       "      <td>US Dollar</td>\n",
       "    </tr>\n",
       "    <tr>\n",
       "      <th>4</th>\n",
       "      <td>1/1/2000</td>\n",
       "      <td>USD</td>\n",
       "      <td>1.0</td>\n",
       "      <td>2000</td>\n",
       "      <td>EL SALVADOR</td>\n",
       "      <td>US Dollar</td>\n",
       "    </tr>\n",
       "  </tbody>\n",
       "</table>\n",
       "</div>"
      ],
      "text/plain": [
       "       date currency_code  exchange_rate  year  \\\n",
       "0  1/1/2000           USD            1.0  2000   \n",
       "1  1/1/2000           USD            1.0  2000   \n",
       "2  1/1/2000           USD            1.0  2000   \n",
       "3  1/1/2000           USD            1.0  2000   \n",
       "4  1/1/2000           USD            1.0  2000   \n",
       "\n",
       "                                Country Currency Name  \n",
       "0                        AMERICAN SAMOA     US Dollar  \n",
       "1      BONAIRE| SINT EUSTATIUS AND SABA     US Dollar  \n",
       "2  BRITISH INDIAN OCEAN TERRITORY (THE)     US Dollar  \n",
       "3                               ECUADOR     US Dollar  \n",
       "4                           EL SALVADOR     US Dollar  "
      ]
     },
     "execution_count": 11,
     "metadata": {},
     "output_type": "execute_result"
    }
   ],
   "source": [
    "df.head()"
   ]
  },
  {
   "cell_type": "markdown",
   "metadata": {
    "id": "x9kqhYslJ6ZK"
   },
   "source": [
    "### End of data extraction\n",
    "\n"
   ]
  },
  {
   "cell_type": "markdown",
   "metadata": {
    "id": "nB52y_KX1SIh"
   },
   "source": [
    "We have identified the top 20 GDP countries by referring to the information available at [link](https://www.worldometers.info/gdp/gdp-by-country/), and have created a list of these nations.  \n"
   ]
  },
  {
   "cell_type": "code",
   "execution_count": 12,
   "metadata": {
    "id": "svhMIsqOKJDc"
   },
   "outputs": [],
   "source": [
    "top20_countries = ['CHINA',\n",
    "                   'JAPAN',\n",
    "                   'GERMANY',\n",
    "                   'INDIA',\n",
    "                   'UNITED KINGDOM OF GREAT BRITAIN AND NORTHERN IRELAND (THE)',\n",
    "                   'FRANCE',\n",
    "                   'RUSSIAN FEDERATION (THE)',\n",
    "                   'CANADA',\n",
    "                   'ITALY',\n",
    "                   'BRAZIL',\n",
    "                   'AUSTRALIA',\n",
    "                   'KOREA (THE REPUBLIC OF)',\n",
    "                   'MEXICO',\n",
    "                   'SPAIN',\n",
    "                   'INDONESIA',\n",
    "                   'SAUDI ARABIA',\n",
    "                   'NETHERLANDS (THE)',\n",
    "                   'TURKEY',\n",
    "                   'SWITZERLAND',\n",
    "                   'POLAND']"
   ]
  },
  {
   "cell_type": "markdown",
   "metadata": {
    "id": "ZpM1HcZTKMhc"
   },
   "source": [
    "Here we are subsetting the data for above countries."
   ]
  },
  {
   "cell_type": "code",
   "execution_count": 13,
   "metadata": {
    "id": "j_Y_IicOKNSi"
   },
   "outputs": [],
   "source": [
    "sub_df = df[df['Country'].isin(top20_countries)]"
   ]
  },
  {
   "cell_type": "code",
   "execution_count": 14,
   "metadata": {
    "colab": {
     "base_uri": "https://localhost:8080/"
    },
    "id": "xYb-kk4vKQC_",
    "outputId": "fbab87f2-3f6c-4fb9-8d6a-9052e72ee030"
   },
   "outputs": [
    {
     "data": {
      "text/plain": [
       "(160946, 6)"
      ]
     },
     "execution_count": 14,
     "metadata": {},
     "output_type": "execute_result"
    }
   ],
   "source": [
    "sub_df.shape"
   ]
  },
  {
   "cell_type": "markdown",
   "metadata": {
    "id": "5fJt4FpjKVTe"
   },
   "source": [
    "## Data Quality check"
   ]
  },
  {
   "cell_type": "markdown",
   "metadata": {
    "id": "WRRGWn1NS9FM"
   },
   "source": [
    "### Checking for missing entries/values."
   ]
  },
  {
   "cell_type": "markdown",
   "metadata": {
    "id": "bFU3abxxK7AJ"
   },
   "source": [
    "In this context, we are verifying the presence of exchange rate values for every date between January 1, 2000, and September 23, 2023."
   ]
  },
  {
   "cell_type": "code",
   "execution_count": 15,
   "metadata": {
    "colab": {
     "base_uri": "https://localhost:8080/"
    },
    "id": "sEMdRe-aL7B7",
    "outputId": "38473099-8fca-4d2a-f8fa-1d0bc114136f"
   },
   "outputs": [
    {
     "name": "stdout",
     "output_type": "stream",
     "text": [
      "8667 days\n"
     ]
    }
   ],
   "source": [
    "date1 = date(2000, 1, 1)\n",
    "date2 = date(2023, 9, 23)\n",
    "print((date2 - date1).days + 1, \"days\")"
   ]
  },
  {
   "cell_type": "code",
   "execution_count": 16,
   "metadata": {
    "colab": {
     "base_uri": "https://localhost:8080/"
    },
    "id": "xK1WkgIcKX1j",
    "outputId": "b126c434-f2ae-464c-deb2-13a7e11faf97"
   },
   "outputs": [
    {
     "data": {
      "text/plain": [
       "JAPAN                                                         8667\n",
       "FRANCE                                                        8667\n",
       "SPAIN                                                         8667\n",
       "UNITED KINGDOM OF GREAT BRITAIN AND NORTHERN IRELAND (THE)    8667\n",
       "ITALY                                                         8667\n",
       "GERMANY                                                       8667\n",
       "NETHERLANDS (THE)                                             8667\n",
       "KOREA (THE REPUBLIC OF)                                       8667\n",
       "CANADA                                                        8667\n",
       "AUSTRALIA                                                     8667\n",
       "SWITZERLAND                                                   8667\n",
       "POLAND                                                        8667\n",
       "INDONESIA                                                     7229\n",
       "CHINA                                                         7225\n",
       "MEXICO                                                        7222\n",
       "BRAZIL                                                        7210\n",
       "INDIA                                                         7203\n",
       "SAUDI ARABIA                                                  7184\n",
       "TURKEY                                                        6838\n",
       "RUSSIAN FEDERATION (THE)                                      6831\n",
       "Name: Country, dtype: int64"
      ]
     },
     "execution_count": 16,
     "metadata": {},
     "output_type": "execute_result"
    }
   ],
   "source": [
    "sub_df[['Country','date']].drop_duplicates()['Country'].value_counts()"
   ]
  },
  {
   "cell_type": "markdown",
   "metadata": {
    "id": "jYH07Mq4M07F"
   },
   "source": [
    "We are seeing that for few countries, no.of exchange rate entries is lesser in number. Hence, it is important to see if there is any pattern in missing entries."
   ]
  },
  {
   "cell_type": "code",
   "execution_count": 17,
   "metadata": {
    "colab": {
     "base_uri": "https://localhost:8080/",
     "height": 944
    },
    "id": "eHgFfiNGKe46",
    "outputId": "77b70253-1f7c-4489-bdc9-4264cca2c48b"
   },
   "outputs": [
    {
     "data": {
      "text/html": [
       "<div>\n",
       "<style scoped>\n",
       "    .dataframe tbody tr th:only-of-type {\n",
       "        vertical-align: middle;\n",
       "    }\n",
       "\n",
       "    .dataframe tbody tr th {\n",
       "        vertical-align: top;\n",
       "    }\n",
       "\n",
       "    .dataframe thead tr th {\n",
       "        text-align: left;\n",
       "    }\n",
       "\n",
       "    .dataframe thead tr:last-of-type th {\n",
       "        text-align: right;\n",
       "    }\n",
       "</style>\n",
       "<table border=\"1\" class=\"dataframe\">\n",
       "  <thead>\n",
       "    <tr>\n",
       "      <th></th>\n",
       "      <th colspan=\"10\" halign=\"left\">Currency Name</th>\n",
       "      <th>...</th>\n",
       "      <th colspan=\"10\" halign=\"left\">exchange_rate</th>\n",
       "    </tr>\n",
       "    <tr>\n",
       "      <th>year</th>\n",
       "      <th>2000</th>\n",
       "      <th>2001</th>\n",
       "      <th>2002</th>\n",
       "      <th>2003</th>\n",
       "      <th>2004</th>\n",
       "      <th>2005</th>\n",
       "      <th>2006</th>\n",
       "      <th>2007</th>\n",
       "      <th>2008</th>\n",
       "      <th>2009</th>\n",
       "      <th>...</th>\n",
       "      <th>2014</th>\n",
       "      <th>2015</th>\n",
       "      <th>2016</th>\n",
       "      <th>2017</th>\n",
       "      <th>2018</th>\n",
       "      <th>2019</th>\n",
       "      <th>2020</th>\n",
       "      <th>2021</th>\n",
       "      <th>2022</th>\n",
       "      <th>2023</th>\n",
       "    </tr>\n",
       "    <tr>\n",
       "      <th>Country</th>\n",
       "      <th></th>\n",
       "      <th></th>\n",
       "      <th></th>\n",
       "      <th></th>\n",
       "      <th></th>\n",
       "      <th></th>\n",
       "      <th></th>\n",
       "      <th></th>\n",
       "      <th></th>\n",
       "      <th></th>\n",
       "      <th></th>\n",
       "      <th></th>\n",
       "      <th></th>\n",
       "      <th></th>\n",
       "      <th></th>\n",
       "      <th></th>\n",
       "      <th></th>\n",
       "      <th></th>\n",
       "      <th></th>\n",
       "      <th></th>\n",
       "      <th></th>\n",
       "    </tr>\n",
       "  </thead>\n",
       "  <tbody>\n",
       "    <tr>\n",
       "      <th>AUSTRALIA</th>\n",
       "      <td>366.0</td>\n",
       "      <td>365.0</td>\n",
       "      <td>365.0</td>\n",
       "      <td>365.0</td>\n",
       "      <td>366.0</td>\n",
       "      <td>365.0</td>\n",
       "      <td>365.0</td>\n",
       "      <td>365.0</td>\n",
       "      <td>366.0</td>\n",
       "      <td>365.0</td>\n",
       "      <td>...</td>\n",
       "      <td>365.0</td>\n",
       "      <td>365.0</td>\n",
       "      <td>366.0</td>\n",
       "      <td>365.0</td>\n",
       "      <td>365.0</td>\n",
       "      <td>365.0</td>\n",
       "      <td>366.0</td>\n",
       "      <td>365.0</td>\n",
       "      <td>365.0</td>\n",
       "      <td>266.0</td>\n",
       "    </tr>\n",
       "    <tr>\n",
       "      <th>BRAZIL</th>\n",
       "      <td>NaN</td>\n",
       "      <td>NaN</td>\n",
       "      <td>NaN</td>\n",
       "      <td>26.0</td>\n",
       "      <td>355.0</td>\n",
       "      <td>358.0</td>\n",
       "      <td>365.0</td>\n",
       "      <td>361.0</td>\n",
       "      <td>366.0</td>\n",
       "      <td>365.0</td>\n",
       "      <td>...</td>\n",
       "      <td>365.0</td>\n",
       "      <td>365.0</td>\n",
       "      <td>366.0</td>\n",
       "      <td>365.0</td>\n",
       "      <td>365.0</td>\n",
       "      <td>365.0</td>\n",
       "      <td>366.0</td>\n",
       "      <td>365.0</td>\n",
       "      <td>365.0</td>\n",
       "      <td>266.0</td>\n",
       "    </tr>\n",
       "    <tr>\n",
       "      <th>CANADA</th>\n",
       "      <td>366.0</td>\n",
       "      <td>365.0</td>\n",
       "      <td>365.0</td>\n",
       "      <td>365.0</td>\n",
       "      <td>366.0</td>\n",
       "      <td>365.0</td>\n",
       "      <td>365.0</td>\n",
       "      <td>365.0</td>\n",
       "      <td>366.0</td>\n",
       "      <td>365.0</td>\n",
       "      <td>...</td>\n",
       "      <td>365.0</td>\n",
       "      <td>365.0</td>\n",
       "      <td>366.0</td>\n",
       "      <td>365.0</td>\n",
       "      <td>365.0</td>\n",
       "      <td>365.0</td>\n",
       "      <td>366.0</td>\n",
       "      <td>365.0</td>\n",
       "      <td>365.0</td>\n",
       "      <td>266.0</td>\n",
       "    </tr>\n",
       "    <tr>\n",
       "      <th>CHINA</th>\n",
       "      <td>NaN</td>\n",
       "      <td>NaN</td>\n",
       "      <td>NaN</td>\n",
       "      <td>26.0</td>\n",
       "      <td>359.0</td>\n",
       "      <td>365.0</td>\n",
       "      <td>365.0</td>\n",
       "      <td>365.0</td>\n",
       "      <td>366.0</td>\n",
       "      <td>365.0</td>\n",
       "      <td>...</td>\n",
       "      <td>365.0</td>\n",
       "      <td>365.0</td>\n",
       "      <td>366.0</td>\n",
       "      <td>365.0</td>\n",
       "      <td>365.0</td>\n",
       "      <td>365.0</td>\n",
       "      <td>366.0</td>\n",
       "      <td>365.0</td>\n",
       "      <td>365.0</td>\n",
       "      <td>266.0</td>\n",
       "    </tr>\n",
       "    <tr>\n",
       "      <th>FRANCE</th>\n",
       "      <td>366.0</td>\n",
       "      <td>365.0</td>\n",
       "      <td>365.0</td>\n",
       "      <td>365.0</td>\n",
       "      <td>366.0</td>\n",
       "      <td>365.0</td>\n",
       "      <td>365.0</td>\n",
       "      <td>365.0</td>\n",
       "      <td>366.0</td>\n",
       "      <td>365.0</td>\n",
       "      <td>...</td>\n",
       "      <td>365.0</td>\n",
       "      <td>365.0</td>\n",
       "      <td>366.0</td>\n",
       "      <td>365.0</td>\n",
       "      <td>365.0</td>\n",
       "      <td>365.0</td>\n",
       "      <td>366.0</td>\n",
       "      <td>365.0</td>\n",
       "      <td>365.0</td>\n",
       "      <td>266.0</td>\n",
       "    </tr>\n",
       "    <tr>\n",
       "      <th>GERMANY</th>\n",
       "      <td>366.0</td>\n",
       "      <td>365.0</td>\n",
       "      <td>365.0</td>\n",
       "      <td>365.0</td>\n",
       "      <td>366.0</td>\n",
       "      <td>365.0</td>\n",
       "      <td>365.0</td>\n",
       "      <td>365.0</td>\n",
       "      <td>366.0</td>\n",
       "      <td>365.0</td>\n",
       "      <td>...</td>\n",
       "      <td>365.0</td>\n",
       "      <td>365.0</td>\n",
       "      <td>366.0</td>\n",
       "      <td>365.0</td>\n",
       "      <td>365.0</td>\n",
       "      <td>365.0</td>\n",
       "      <td>366.0</td>\n",
       "      <td>365.0</td>\n",
       "      <td>365.0</td>\n",
       "      <td>266.0</td>\n",
       "    </tr>\n",
       "    <tr>\n",
       "      <th>INDIA</th>\n",
       "      <td>NaN</td>\n",
       "      <td>NaN</td>\n",
       "      <td>NaN</td>\n",
       "      <td>31.0</td>\n",
       "      <td>364.0</td>\n",
       "      <td>364.0</td>\n",
       "      <td>365.0</td>\n",
       "      <td>362.0</td>\n",
       "      <td>338.0</td>\n",
       "      <td>365.0</td>\n",
       "      <td>...</td>\n",
       "      <td>365.0</td>\n",
       "      <td>365.0</td>\n",
       "      <td>366.0</td>\n",
       "      <td>365.0</td>\n",
       "      <td>365.0</td>\n",
       "      <td>365.0</td>\n",
       "      <td>366.0</td>\n",
       "      <td>365.0</td>\n",
       "      <td>365.0</td>\n",
       "      <td>266.0</td>\n",
       "    </tr>\n",
       "    <tr>\n",
       "      <th>INDONESIA</th>\n",
       "      <td>NaN</td>\n",
       "      <td>NaN</td>\n",
       "      <td>NaN</td>\n",
       "      <td>31.0</td>\n",
       "      <td>358.0</td>\n",
       "      <td>365.0</td>\n",
       "      <td>365.0</td>\n",
       "      <td>365.0</td>\n",
       "      <td>366.0</td>\n",
       "      <td>365.0</td>\n",
       "      <td>...</td>\n",
       "      <td>365.0</td>\n",
       "      <td>365.0</td>\n",
       "      <td>366.0</td>\n",
       "      <td>365.0</td>\n",
       "      <td>365.0</td>\n",
       "      <td>365.0</td>\n",
       "      <td>366.0</td>\n",
       "      <td>365.0</td>\n",
       "      <td>365.0</td>\n",
       "      <td>266.0</td>\n",
       "    </tr>\n",
       "    <tr>\n",
       "      <th>ITALY</th>\n",
       "      <td>366.0</td>\n",
       "      <td>365.0</td>\n",
       "      <td>365.0</td>\n",
       "      <td>365.0</td>\n",
       "      <td>366.0</td>\n",
       "      <td>365.0</td>\n",
       "      <td>365.0</td>\n",
       "      <td>365.0</td>\n",
       "      <td>366.0</td>\n",
       "      <td>365.0</td>\n",
       "      <td>...</td>\n",
       "      <td>365.0</td>\n",
       "      <td>365.0</td>\n",
       "      <td>366.0</td>\n",
       "      <td>365.0</td>\n",
       "      <td>365.0</td>\n",
       "      <td>365.0</td>\n",
       "      <td>366.0</td>\n",
       "      <td>365.0</td>\n",
       "      <td>365.0</td>\n",
       "      <td>266.0</td>\n",
       "    </tr>\n",
       "    <tr>\n",
       "      <th>JAPAN</th>\n",
       "      <td>366.0</td>\n",
       "      <td>365.0</td>\n",
       "      <td>365.0</td>\n",
       "      <td>365.0</td>\n",
       "      <td>366.0</td>\n",
       "      <td>365.0</td>\n",
       "      <td>365.0</td>\n",
       "      <td>365.0</td>\n",
       "      <td>366.0</td>\n",
       "      <td>365.0</td>\n",
       "      <td>...</td>\n",
       "      <td>365.0</td>\n",
       "      <td>365.0</td>\n",
       "      <td>366.0</td>\n",
       "      <td>365.0</td>\n",
       "      <td>365.0</td>\n",
       "      <td>365.0</td>\n",
       "      <td>366.0</td>\n",
       "      <td>365.0</td>\n",
       "      <td>365.0</td>\n",
       "      <td>266.0</td>\n",
       "    </tr>\n",
       "    <tr>\n",
       "      <th>KOREA (THE REPUBLIC OF)</th>\n",
       "      <td>366.0</td>\n",
       "      <td>365.0</td>\n",
       "      <td>365.0</td>\n",
       "      <td>365.0</td>\n",
       "      <td>366.0</td>\n",
       "      <td>365.0</td>\n",
       "      <td>365.0</td>\n",
       "      <td>365.0</td>\n",
       "      <td>366.0</td>\n",
       "      <td>365.0</td>\n",
       "      <td>...</td>\n",
       "      <td>365.0</td>\n",
       "      <td>365.0</td>\n",
       "      <td>366.0</td>\n",
       "      <td>365.0</td>\n",
       "      <td>365.0</td>\n",
       "      <td>365.0</td>\n",
       "      <td>366.0</td>\n",
       "      <td>365.0</td>\n",
       "      <td>365.0</td>\n",
       "      <td>266.0</td>\n",
       "    </tr>\n",
       "    <tr>\n",
       "      <th>MEXICO</th>\n",
       "      <td>NaN</td>\n",
       "      <td>NaN</td>\n",
       "      <td>NaN</td>\n",
       "      <td>31.0</td>\n",
       "      <td>362.0</td>\n",
       "      <td>358.0</td>\n",
       "      <td>365.0</td>\n",
       "      <td>361.0</td>\n",
       "      <td>366.0</td>\n",
       "      <td>365.0</td>\n",
       "      <td>...</td>\n",
       "      <td>365.0</td>\n",
       "      <td>365.0</td>\n",
       "      <td>366.0</td>\n",
       "      <td>365.0</td>\n",
       "      <td>365.0</td>\n",
       "      <td>365.0</td>\n",
       "      <td>366.0</td>\n",
       "      <td>365.0</td>\n",
       "      <td>365.0</td>\n",
       "      <td>266.0</td>\n",
       "    </tr>\n",
       "    <tr>\n",
       "      <th>NETHERLANDS (THE)</th>\n",
       "      <td>366.0</td>\n",
       "      <td>365.0</td>\n",
       "      <td>365.0</td>\n",
       "      <td>365.0</td>\n",
       "      <td>366.0</td>\n",
       "      <td>365.0</td>\n",
       "      <td>365.0</td>\n",
       "      <td>365.0</td>\n",
       "      <td>366.0</td>\n",
       "      <td>365.0</td>\n",
       "      <td>...</td>\n",
       "      <td>365.0</td>\n",
       "      <td>365.0</td>\n",
       "      <td>366.0</td>\n",
       "      <td>365.0</td>\n",
       "      <td>365.0</td>\n",
       "      <td>365.0</td>\n",
       "      <td>366.0</td>\n",
       "      <td>365.0</td>\n",
       "      <td>365.0</td>\n",
       "      <td>266.0</td>\n",
       "    </tr>\n",
       "    <tr>\n",
       "      <th>POLAND</th>\n",
       "      <td>366.0</td>\n",
       "      <td>365.0</td>\n",
       "      <td>365.0</td>\n",
       "      <td>365.0</td>\n",
       "      <td>366.0</td>\n",
       "      <td>365.0</td>\n",
       "      <td>365.0</td>\n",
       "      <td>365.0</td>\n",
       "      <td>366.0</td>\n",
       "      <td>365.0</td>\n",
       "      <td>...</td>\n",
       "      <td>365.0</td>\n",
       "      <td>365.0</td>\n",
       "      <td>366.0</td>\n",
       "      <td>365.0</td>\n",
       "      <td>365.0</td>\n",
       "      <td>365.0</td>\n",
       "      <td>366.0</td>\n",
       "      <td>365.0</td>\n",
       "      <td>365.0</td>\n",
       "      <td>266.0</td>\n",
       "    </tr>\n",
       "    <tr>\n",
       "      <th>RUSSIAN FEDERATION (THE)</th>\n",
       "      <td>NaN</td>\n",
       "      <td>NaN</td>\n",
       "      <td>NaN</td>\n",
       "      <td>31.0</td>\n",
       "      <td>48.0</td>\n",
       "      <td>277.0</td>\n",
       "      <td>365.0</td>\n",
       "      <td>365.0</td>\n",
       "      <td>366.0</td>\n",
       "      <td>365.0</td>\n",
       "      <td>...</td>\n",
       "      <td>365.0</td>\n",
       "      <td>365.0</td>\n",
       "      <td>366.0</td>\n",
       "      <td>365.0</td>\n",
       "      <td>365.0</td>\n",
       "      <td>365.0</td>\n",
       "      <td>366.0</td>\n",
       "      <td>365.0</td>\n",
       "      <td>365.0</td>\n",
       "      <td>266.0</td>\n",
       "    </tr>\n",
       "    <tr>\n",
       "      <th>SAUDI ARABIA</th>\n",
       "      <td>NaN</td>\n",
       "      <td>NaN</td>\n",
       "      <td>NaN</td>\n",
       "      <td>31.0</td>\n",
       "      <td>358.0</td>\n",
       "      <td>364.0</td>\n",
       "      <td>365.0</td>\n",
       "      <td>365.0</td>\n",
       "      <td>365.0</td>\n",
       "      <td>362.0</td>\n",
       "      <td>...</td>\n",
       "      <td>365.0</td>\n",
       "      <td>365.0</td>\n",
       "      <td>366.0</td>\n",
       "      <td>363.0</td>\n",
       "      <td>365.0</td>\n",
       "      <td>334.0</td>\n",
       "      <td>366.0</td>\n",
       "      <td>365.0</td>\n",
       "      <td>365.0</td>\n",
       "      <td>266.0</td>\n",
       "    </tr>\n",
       "    <tr>\n",
       "      <th>SPAIN</th>\n",
       "      <td>366.0</td>\n",
       "      <td>365.0</td>\n",
       "      <td>365.0</td>\n",
       "      <td>365.0</td>\n",
       "      <td>366.0</td>\n",
       "      <td>365.0</td>\n",
       "      <td>365.0</td>\n",
       "      <td>365.0</td>\n",
       "      <td>366.0</td>\n",
       "      <td>365.0</td>\n",
       "      <td>...</td>\n",
       "      <td>365.0</td>\n",
       "      <td>365.0</td>\n",
       "      <td>366.0</td>\n",
       "      <td>365.0</td>\n",
       "      <td>365.0</td>\n",
       "      <td>365.0</td>\n",
       "      <td>366.0</td>\n",
       "      <td>365.0</td>\n",
       "      <td>365.0</td>\n",
       "      <td>266.0</td>\n",
       "    </tr>\n",
       "    <tr>\n",
       "      <th>SWITZERLAND</th>\n",
       "      <td>366.0</td>\n",
       "      <td>365.0</td>\n",
       "      <td>365.0</td>\n",
       "      <td>365.0</td>\n",
       "      <td>366.0</td>\n",
       "      <td>365.0</td>\n",
       "      <td>365.0</td>\n",
       "      <td>365.0</td>\n",
       "      <td>366.0</td>\n",
       "      <td>365.0</td>\n",
       "      <td>...</td>\n",
       "      <td>365.0</td>\n",
       "      <td>365.0</td>\n",
       "      <td>366.0</td>\n",
       "      <td>365.0</td>\n",
       "      <td>365.0</td>\n",
       "      <td>365.0</td>\n",
       "      <td>366.0</td>\n",
       "      <td>365.0</td>\n",
       "      <td>365.0</td>\n",
       "      <td>266.0</td>\n",
       "    </tr>\n",
       "    <tr>\n",
       "      <th>TURKEY</th>\n",
       "      <td>NaN</td>\n",
       "      <td>NaN</td>\n",
       "      <td>NaN</td>\n",
       "      <td>NaN</td>\n",
       "      <td>NaN</td>\n",
       "      <td>363.0</td>\n",
       "      <td>365.0</td>\n",
       "      <td>365.0</td>\n",
       "      <td>366.0</td>\n",
       "      <td>365.0</td>\n",
       "      <td>...</td>\n",
       "      <td>365.0</td>\n",
       "      <td>365.0</td>\n",
       "      <td>366.0</td>\n",
       "      <td>365.0</td>\n",
       "      <td>365.0</td>\n",
       "      <td>365.0</td>\n",
       "      <td>366.0</td>\n",
       "      <td>365.0</td>\n",
       "      <td>365.0</td>\n",
       "      <td>266.0</td>\n",
       "    </tr>\n",
       "    <tr>\n",
       "      <th>UNITED KINGDOM OF GREAT BRITAIN AND NORTHERN IRELAND (THE)</th>\n",
       "      <td>366.0</td>\n",
       "      <td>365.0</td>\n",
       "      <td>365.0</td>\n",
       "      <td>365.0</td>\n",
       "      <td>366.0</td>\n",
       "      <td>365.0</td>\n",
       "      <td>365.0</td>\n",
       "      <td>365.0</td>\n",
       "      <td>366.0</td>\n",
       "      <td>365.0</td>\n",
       "      <td>...</td>\n",
       "      <td>365.0</td>\n",
       "      <td>365.0</td>\n",
       "      <td>366.0</td>\n",
       "      <td>365.0</td>\n",
       "      <td>365.0</td>\n",
       "      <td>365.0</td>\n",
       "      <td>366.0</td>\n",
       "      <td>365.0</td>\n",
       "      <td>365.0</td>\n",
       "      <td>266.0</td>\n",
       "    </tr>\n",
       "  </tbody>\n",
       "</table>\n",
       "<p>20 rows × 96 columns</p>\n",
       "</div>"
      ],
      "text/plain": [
       "                                                   Currency Name         \\\n",
       "year                                                        2000   2001   \n",
       "Country                                                                   \n",
       "AUSTRALIA                                                  366.0  365.0   \n",
       "BRAZIL                                                       NaN    NaN   \n",
       "CANADA                                                     366.0  365.0   \n",
       "CHINA                                                        NaN    NaN   \n",
       "FRANCE                                                     366.0  365.0   \n",
       "GERMANY                                                    366.0  365.0   \n",
       "INDIA                                                        NaN    NaN   \n",
       "INDONESIA                                                    NaN    NaN   \n",
       "ITALY                                                      366.0  365.0   \n",
       "JAPAN                                                      366.0  365.0   \n",
       "KOREA (THE REPUBLIC OF)                                    366.0  365.0   \n",
       "MEXICO                                                       NaN    NaN   \n",
       "NETHERLANDS (THE)                                          366.0  365.0   \n",
       "POLAND                                                     366.0  365.0   \n",
       "RUSSIAN FEDERATION (THE)                                     NaN    NaN   \n",
       "SAUDI ARABIA                                                 NaN    NaN   \n",
       "SPAIN                                                      366.0  365.0   \n",
       "SWITZERLAND                                                366.0  365.0   \n",
       "TURKEY                                                       NaN    NaN   \n",
       "UNITED KINGDOM OF GREAT BRITAIN AND NORTHERN IR...         366.0  365.0   \n",
       "\n",
       "                                                                         \\\n",
       "year                                                 2002   2003   2004   \n",
       "Country                                                                   \n",
       "AUSTRALIA                                           365.0  365.0  366.0   \n",
       "BRAZIL                                                NaN   26.0  355.0   \n",
       "CANADA                                              365.0  365.0  366.0   \n",
       "CHINA                                                 NaN   26.0  359.0   \n",
       "FRANCE                                              365.0  365.0  366.0   \n",
       "GERMANY                                             365.0  365.0  366.0   \n",
       "INDIA                                                 NaN   31.0  364.0   \n",
       "INDONESIA                                             NaN   31.0  358.0   \n",
       "ITALY                                               365.0  365.0  366.0   \n",
       "JAPAN                                               365.0  365.0  366.0   \n",
       "KOREA (THE REPUBLIC OF)                             365.0  365.0  366.0   \n",
       "MEXICO                                                NaN   31.0  362.0   \n",
       "NETHERLANDS (THE)                                   365.0  365.0  366.0   \n",
       "POLAND                                              365.0  365.0  366.0   \n",
       "RUSSIAN FEDERATION (THE)                              NaN   31.0   48.0   \n",
       "SAUDI ARABIA                                          NaN   31.0  358.0   \n",
       "SPAIN                                               365.0  365.0  366.0   \n",
       "SWITZERLAND                                         365.0  365.0  366.0   \n",
       "TURKEY                                                NaN    NaN    NaN   \n",
       "UNITED KINGDOM OF GREAT BRITAIN AND NORTHERN IR...  365.0  365.0  366.0   \n",
       "\n",
       "                                                                         \\\n",
       "year                                                 2005   2006   2007   \n",
       "Country                                                                   \n",
       "AUSTRALIA                                           365.0  365.0  365.0   \n",
       "BRAZIL                                              358.0  365.0  361.0   \n",
       "CANADA                                              365.0  365.0  365.0   \n",
       "CHINA                                               365.0  365.0  365.0   \n",
       "FRANCE                                              365.0  365.0  365.0   \n",
       "GERMANY                                             365.0  365.0  365.0   \n",
       "INDIA                                               364.0  365.0  362.0   \n",
       "INDONESIA                                           365.0  365.0  365.0   \n",
       "ITALY                                               365.0  365.0  365.0   \n",
       "JAPAN                                               365.0  365.0  365.0   \n",
       "KOREA (THE REPUBLIC OF)                             365.0  365.0  365.0   \n",
       "MEXICO                                              358.0  365.0  361.0   \n",
       "NETHERLANDS (THE)                                   365.0  365.0  365.0   \n",
       "POLAND                                              365.0  365.0  365.0   \n",
       "RUSSIAN FEDERATION (THE)                            277.0  365.0  365.0   \n",
       "SAUDI ARABIA                                        364.0  365.0  365.0   \n",
       "SPAIN                                               365.0  365.0  365.0   \n",
       "SWITZERLAND                                         365.0  365.0  365.0   \n",
       "TURKEY                                              363.0  365.0  365.0   \n",
       "UNITED KINGDOM OF GREAT BRITAIN AND NORTHERN IR...  365.0  365.0  365.0   \n",
       "\n",
       "                                                                  ...  \\\n",
       "year                                                 2008   2009  ...   \n",
       "Country                                                           ...   \n",
       "AUSTRALIA                                           366.0  365.0  ...   \n",
       "BRAZIL                                              366.0  365.0  ...   \n",
       "CANADA                                              366.0  365.0  ...   \n",
       "CHINA                                               366.0  365.0  ...   \n",
       "FRANCE                                              366.0  365.0  ...   \n",
       "GERMANY                                             366.0  365.0  ...   \n",
       "INDIA                                               338.0  365.0  ...   \n",
       "INDONESIA                                           366.0  365.0  ...   \n",
       "ITALY                                               366.0  365.0  ...   \n",
       "JAPAN                                               366.0  365.0  ...   \n",
       "KOREA (THE REPUBLIC OF)                             366.0  365.0  ...   \n",
       "MEXICO                                              366.0  365.0  ...   \n",
       "NETHERLANDS (THE)                                   366.0  365.0  ...   \n",
       "POLAND                                              366.0  365.0  ...   \n",
       "RUSSIAN FEDERATION (THE)                            366.0  365.0  ...   \n",
       "SAUDI ARABIA                                        365.0  362.0  ...   \n",
       "SPAIN                                               366.0  365.0  ...   \n",
       "SWITZERLAND                                         366.0  365.0  ...   \n",
       "TURKEY                                              366.0  365.0  ...   \n",
       "UNITED KINGDOM OF GREAT BRITAIN AND NORTHERN IR...  366.0  365.0  ...   \n",
       "\n",
       "                                                   exchange_rate         \\\n",
       "year                                                        2014   2015   \n",
       "Country                                                                   \n",
       "AUSTRALIA                                                  365.0  365.0   \n",
       "BRAZIL                                                     365.0  365.0   \n",
       "CANADA                                                     365.0  365.0   \n",
       "CHINA                                                      365.0  365.0   \n",
       "FRANCE                                                     365.0  365.0   \n",
       "GERMANY                                                    365.0  365.0   \n",
       "INDIA                                                      365.0  365.0   \n",
       "INDONESIA                                                  365.0  365.0   \n",
       "ITALY                                                      365.0  365.0   \n",
       "JAPAN                                                      365.0  365.0   \n",
       "KOREA (THE REPUBLIC OF)                                    365.0  365.0   \n",
       "MEXICO                                                     365.0  365.0   \n",
       "NETHERLANDS (THE)                                          365.0  365.0   \n",
       "POLAND                                                     365.0  365.0   \n",
       "RUSSIAN FEDERATION (THE)                                   365.0  365.0   \n",
       "SAUDI ARABIA                                               365.0  365.0   \n",
       "SPAIN                                                      365.0  365.0   \n",
       "SWITZERLAND                                                365.0  365.0   \n",
       "TURKEY                                                     365.0  365.0   \n",
       "UNITED KINGDOM OF GREAT BRITAIN AND NORTHERN IR...         365.0  365.0   \n",
       "\n",
       "                                                                         \\\n",
       "year                                                 2016   2017   2018   \n",
       "Country                                                                   \n",
       "AUSTRALIA                                           366.0  365.0  365.0   \n",
       "BRAZIL                                              366.0  365.0  365.0   \n",
       "CANADA                                              366.0  365.0  365.0   \n",
       "CHINA                                               366.0  365.0  365.0   \n",
       "FRANCE                                              366.0  365.0  365.0   \n",
       "GERMANY                                             366.0  365.0  365.0   \n",
       "INDIA                                               366.0  365.0  365.0   \n",
       "INDONESIA                                           366.0  365.0  365.0   \n",
       "ITALY                                               366.0  365.0  365.0   \n",
       "JAPAN                                               366.0  365.0  365.0   \n",
       "KOREA (THE REPUBLIC OF)                             366.0  365.0  365.0   \n",
       "MEXICO                                              366.0  365.0  365.0   \n",
       "NETHERLANDS (THE)                                   366.0  365.0  365.0   \n",
       "POLAND                                              366.0  365.0  365.0   \n",
       "RUSSIAN FEDERATION (THE)                            366.0  365.0  365.0   \n",
       "SAUDI ARABIA                                        366.0  363.0  365.0   \n",
       "SPAIN                                               366.0  365.0  365.0   \n",
       "SWITZERLAND                                         366.0  365.0  365.0   \n",
       "TURKEY                                              366.0  365.0  365.0   \n",
       "UNITED KINGDOM OF GREAT BRITAIN AND NORTHERN IR...  366.0  365.0  365.0   \n",
       "\n",
       "                                                                         \\\n",
       "year                                                 2019   2020   2021   \n",
       "Country                                                                   \n",
       "AUSTRALIA                                           365.0  366.0  365.0   \n",
       "BRAZIL                                              365.0  366.0  365.0   \n",
       "CANADA                                              365.0  366.0  365.0   \n",
       "CHINA                                               365.0  366.0  365.0   \n",
       "FRANCE                                              365.0  366.0  365.0   \n",
       "GERMANY                                             365.0  366.0  365.0   \n",
       "INDIA                                               365.0  366.0  365.0   \n",
       "INDONESIA                                           365.0  366.0  365.0   \n",
       "ITALY                                               365.0  366.0  365.0   \n",
       "JAPAN                                               365.0  366.0  365.0   \n",
       "KOREA (THE REPUBLIC OF)                             365.0  366.0  365.0   \n",
       "MEXICO                                              365.0  366.0  365.0   \n",
       "NETHERLANDS (THE)                                   365.0  366.0  365.0   \n",
       "POLAND                                              365.0  366.0  365.0   \n",
       "RUSSIAN FEDERATION (THE)                            365.0  366.0  365.0   \n",
       "SAUDI ARABIA                                        334.0  366.0  365.0   \n",
       "SPAIN                                               365.0  366.0  365.0   \n",
       "SWITZERLAND                                         365.0  366.0  365.0   \n",
       "TURKEY                                              365.0  366.0  365.0   \n",
       "UNITED KINGDOM OF GREAT BRITAIN AND NORTHERN IR...  365.0  366.0  365.0   \n",
       "\n",
       "                                                                  \n",
       "year                                                 2022   2023  \n",
       "Country                                                           \n",
       "AUSTRALIA                                           365.0  266.0  \n",
       "BRAZIL                                              365.0  266.0  \n",
       "CANADA                                              365.0  266.0  \n",
       "CHINA                                               365.0  266.0  \n",
       "FRANCE                                              365.0  266.0  \n",
       "GERMANY                                             365.0  266.0  \n",
       "INDIA                                               365.0  266.0  \n",
       "INDONESIA                                           365.0  266.0  \n",
       "ITALY                                               365.0  266.0  \n",
       "JAPAN                                               365.0  266.0  \n",
       "KOREA (THE REPUBLIC OF)                             365.0  266.0  \n",
       "MEXICO                                              365.0  266.0  \n",
       "NETHERLANDS (THE)                                   365.0  266.0  \n",
       "POLAND                                              365.0  266.0  \n",
       "RUSSIAN FEDERATION (THE)                            365.0  266.0  \n",
       "SAUDI ARABIA                                        365.0  266.0  \n",
       "SPAIN                                               365.0  266.0  \n",
       "SWITZERLAND                                         365.0  266.0  \n",
       "TURKEY                                              365.0  266.0  \n",
       "UNITED KINGDOM OF GREAT BRITAIN AND NORTHERN IR...  365.0  266.0  \n",
       "\n",
       "[20 rows x 96 columns]"
      ]
     },
     "execution_count": 17,
     "metadata": {},
     "output_type": "execute_result"
    }
   ],
   "source": [
    "pd.pivot_table(data = sub_df , index = 'Country',columns = 'year',aggfunc='count')"
   ]
  },
  {
   "cell_type": "code",
   "execution_count": 18,
   "metadata": {
    "colab": {
     "base_uri": "https://localhost:8080/"
    },
    "id": "Mi-v_RBTPFDC",
    "outputId": "414f1ac6-ee8e-411a-95b8-24289c8b69c6"
   },
   "outputs": [
    {
     "data": {
      "text/plain": [
       "JAPAN                                                         24\n",
       "FRANCE                                                        24\n",
       "SPAIN                                                         24\n",
       "UNITED KINGDOM OF GREAT BRITAIN AND NORTHERN IRELAND (THE)    24\n",
       "ITALY                                                         24\n",
       "GERMANY                                                       24\n",
       "NETHERLANDS (THE)                                             24\n",
       "KOREA (THE REPUBLIC OF)                                       24\n",
       "CANADA                                                        24\n",
       "AUSTRALIA                                                     24\n",
       "SWITZERLAND                                                   24\n",
       "POLAND                                                        24\n",
       "BRAZIL                                                        21\n",
       "CHINA                                                         21\n",
       "INDONESIA                                                     21\n",
       "INDIA                                                         21\n",
       "MEXICO                                                        21\n",
       "RUSSIAN FEDERATION (THE)                                      21\n",
       "SAUDI ARABIA                                                  21\n",
       "TURKEY                                                        19\n",
       "Name: Country, dtype: int64"
      ]
     },
     "execution_count": 18,
     "metadata": {},
     "output_type": "execute_result"
    }
   ],
   "source": [
    "sub_df[['Country','year']].drop_duplicates()['Country'].value_counts()"
   ]
  },
  {
   "cell_type": "markdown",
   "metadata": {
    "id": "0cxl-yx4PKgY"
   },
   "source": [
    "From the above two outputs it is evident that for few currency rates, data is completely missing from 2000 to 2004.In the subsequent years, few values are missing for some of the currencies. Hence, we will be completely removing the data from 2000 to 2004 and carry out the analysis from 2005 to 2023."
   ]
  },
  {
   "cell_type": "code",
   "execution_count": 19,
   "metadata": {
    "id": "I74ZHOABRkN8"
   },
   "outputs": [],
   "source": [
    "sub_df_1 = sub_df[sub_df['year'] > 2004]"
   ]
  },
  {
   "cell_type": "code",
   "execution_count": 20,
   "metadata": {
    "colab": {
     "base_uri": "https://localhost:8080/"
    },
    "id": "amKTmYi6R0TX",
    "outputId": "306ed2e3-0976-4e6c-fa9e-e07a38cd7d23"
   },
   "outputs": [
    {
     "data": {
      "text/plain": [
       "(136611, 6)"
      ]
     },
     "execution_count": 20,
     "metadata": {},
     "output_type": "execute_result"
    }
   ],
   "source": [
    "sub_df_1.shape"
   ]
  },
  {
   "cell_type": "markdown",
   "metadata": {
    "id": "jJyirhUeRToA"
   },
   "source": [
    "Let's calculate the missing value percentage post 2004, to see how to handle the data."
   ]
  },
  {
   "cell_type": "code",
   "execution_count": 21,
   "metadata": {
    "colab": {
     "base_uri": "https://localhost:8080/"
    },
    "id": "PkiwqjllQoD_",
    "outputId": "ab73a148-b027-4910-ddd8-d01f6fe3d92c"
   },
   "outputs": [
    {
     "data": {
      "text/plain": [
       "Country                                                   \n",
       "AUSTRALIA                                                     1.000000\n",
       "ITALY                                                         1.000000\n",
       "SWITZERLAND                                                   1.000000\n",
       "SPAIN                                                         1.000000\n",
       "POLAND                                                        1.000000\n",
       "NETHERLANDS (THE)                                             1.000000\n",
       "JAPAN                                                         1.000000\n",
       "KOREA (THE REPUBLIC OF)                                       1.000000\n",
       "INDONESIA                                                     1.000000\n",
       "GERMANY                                                       1.000000\n",
       "FRANCE                                                        1.000000\n",
       "CHINA                                                         1.000000\n",
       "CANADA                                                        1.000000\n",
       "UNITED KINGDOM OF GREAT BRITAIN AND NORTHERN IRELAND (THE)    1.000000\n",
       "TURKEY                                                        0.999708\n",
       "BRAZIL                                                        0.998392\n",
       "MEXICO                                                        0.998392\n",
       "INDIA                                                         0.995322\n",
       "SAUDI ARABIA                                                  0.993421\n",
       "RUSSIAN FEDERATION (THE)                                      0.987135\n",
       "dtype: float64"
      ]
     },
     "execution_count": 21,
     "metadata": {},
     "output_type": "execute_result"
    }
   ],
   "source": [
    "date1 = date(2005, 1, 1)\n",
    "date2 = date(2023, 9, 23)\n",
    "total_days = (date2-date1).days + 1\n",
    "\n",
    "sub_df_1[['Country']].value_counts()/ total_days"
   ]
  },
  {
   "cell_type": "markdown",
   "metadata": {
    "id": "htdGHXAbTgVy"
   },
   "source": [
    "For 7 countries, less then 0.01% of the data missing, which is very minute.Hence proceeding with the current data."
   ]
  },
  {
   "cell_type": "markdown",
   "metadata": {
    "id": "sGOJnYOkS34S"
   },
   "source": [
    "### Checking for any absurd values"
   ]
  },
  {
   "cell_type": "code",
   "execution_count": 22,
   "metadata": {
    "colab": {
     "base_uri": "https://localhost:8080/"
    },
    "id": "7opsFFlkS3F3",
    "outputId": "1f8ace25-f6fe-45b8-9a6f-416c9745b95a"
   },
   "outputs": [
    {
     "data": {
      "text/plain": [
       "count    136611.000000\n",
       "mean        652.812196\n",
       "std        2597.284434\n",
       "min           0.474218\n",
       "25%           0.894055\n",
       "50%           2.273476\n",
       "75%          23.548924\n",
       "max       16502.554580\n",
       "Name: exchange_rate, dtype: float64"
      ]
     },
     "execution_count": 22,
     "metadata": {},
     "output_type": "execute_result"
    }
   ],
   "source": [
    "sub_df_1['exchange_rate'].describe()"
   ]
  },
  {
   "cell_type": "markdown",
   "metadata": {
    "id": "ynqHBAsxTU8r"
   },
   "source": [
    "There aren't any non-positive values as such. Hence the data is good to go."
   ]
  },
  {
   "cell_type": "markdown",
   "metadata": {
    "id": "ZGlzAThyRvmG"
   },
   "source": [
    "## Data Analysis and Visualization"
   ]
  },
  {
   "cell_type": "code",
   "execution_count": 23,
   "metadata": {
    "id": "7Do9kABQRyQe"
   },
   "outputs": [],
   "source": [
    "def get_country_year_stat(df,country,year):\n",
    "  grouped_data = df.groupby(['Country','year'])['exchange_rate'].describe().reset_index()\n",
    "  stats = grouped_data[(grouped_data['Country']==country) & (grouped_data['year']==year)].drop(['count','25%','50%','75%'],axis=1)\n",
    "  return stats"
   ]
  },
  {
   "cell_type": "code",
   "execution_count": 24,
   "metadata": {
    "colab": {
     "base_uri": "https://localhost:8080/",
     "height": 80
    },
    "id": "sfrE43MPAMf5",
    "outputId": "6eceda96-a0ae-4911-bdcf-0f47c0e6422e"
   },
   "outputs": [
    {
     "data": {
      "text/html": [
       "<div>\n",
       "<style scoped>\n",
       "    .dataframe tbody tr th:only-of-type {\n",
       "        vertical-align: middle;\n",
       "    }\n",
       "\n",
       "    .dataframe tbody tr th {\n",
       "        vertical-align: top;\n",
       "    }\n",
       "\n",
       "    .dataframe thead th {\n",
       "        text-align: right;\n",
       "    }\n",
       "</style>\n",
       "<table border=\"1\" class=\"dataframe\">\n",
       "  <thead>\n",
       "    <tr style=\"text-align: right;\">\n",
       "      <th></th>\n",
       "      <th>Country</th>\n",
       "      <th>year</th>\n",
       "      <th>mean</th>\n",
       "      <th>std</th>\n",
       "      <th>min</th>\n",
       "      <th>max</th>\n",
       "    </tr>\n",
       "  </thead>\n",
       "  <tbody>\n",
       "    <tr>\n",
       "      <th>8</th>\n",
       "      <td>AUSTRALIA</td>\n",
       "      <td>2008</td>\n",
       "      <td>1.195436</td>\n",
       "      <td>0.181465</td>\n",
       "      <td>1.021133</td>\n",
       "      <td>1.651584</td>\n",
       "    </tr>\n",
       "  </tbody>\n",
       "</table>\n",
       "</div>"
      ],
      "text/plain": [
       "     Country  year      mean       std       min       max\n",
       "8  AUSTRALIA  2008  1.195436  0.181465  1.021133  1.651584"
      ]
     },
     "execution_count": 24,
     "metadata": {},
     "output_type": "execute_result"
    }
   ],
   "source": [
    "country = 'AUSTRALIA'\n",
    "year = 2008\n",
    "get_country_year_stat(sub_df,country,year)"
   ]
  },
  {
   "cell_type": "markdown",
   "metadata": {
    "id": "XqCgncxpXB5w"
   },
   "source": [
    "The next analysis and vizualization that we would like to get is, the general trend of country's currency exchange rate over the years. To get this trend line, we need to aggregate the data at year level through mean."
   ]
  },
  {
   "cell_type": "code",
   "execution_count": 25,
   "metadata": {
    "id": "qb1aVWgOR8dI"
   },
   "outputs": [],
   "source": [
    "def get_year_wise(df):\n",
    "  stats = df.groupby(['Country','year'])['exchange_rate'].mean().reset_index()\n",
    "  return stats"
   ]
  },
  {
   "cell_type": "code",
   "execution_count": 26,
   "metadata": {
    "id": "qitmodPuXqmb"
   },
   "outputs": [],
   "source": [
    "year_wise = get_year_wise(sub_df_1)"
   ]
  },
  {
   "cell_type": "code",
   "execution_count": 27,
   "metadata": {
    "colab": {
     "base_uri": "https://localhost:8080/",
     "height": 542
    },
    "id": "7NXZIOLUXmJw",
    "outputId": "22343050-3f84-488f-fb0e-f18622750962"
   },
   "outputs": [
    {
     "data": {
      "text/html": [
       "        <script type=\"text/javascript\">\n",
       "        window.PlotlyConfig = {MathJaxConfig: 'local'};\n",
       "        if (window.MathJax) {MathJax.Hub.Config({SVG: {font: \"STIX-Web\"}});}\n",
       "        if (typeof require !== 'undefined') {\n",
       "        require.undef(\"plotly\");\n",
       "        requirejs.config({\n",
       "            paths: {\n",
       "                'plotly': ['https://cdn.plot.ly/plotly-2.9.0.min']\n",
       "            }\n",
       "        });\n",
       "        require(['plotly'], function(Plotly) {\n",
       "            window._Plotly = Plotly;\n",
       "        });\n",
       "        }\n",
       "        </script>\n",
       "        "
      ]
     },
     "metadata": {},
     "output_type": "display_data"
    },
    {
     "data": {
      "text/html": [
       "<div>                            <div id=\"480f29cc-3476-49dc-a219-63c63069a826\" class=\"plotly-graph-div\" style=\"height:525px; width:100%;\"></div>            <script type=\"text/javascript\">                require([\"plotly\"], function(Plotly) {                    window.PLOTLYENV=window.PLOTLYENV || {};                                    if (document.getElementById(\"480f29cc-3476-49dc-a219-63c63069a826\")) {                    Plotly.newPlot(                        \"480f29cc-3476-49dc-a219-63c63069a826\",                        [{\"hovertemplate\":\"Country=AUSTRALIA<br>year=%{x}<br>exchange_rate=%{y}<extra></extra>\",\"legendgroup\":\"AUSTRALIA\",\"line\":{\"color\":\"#636efa\",\"dash\":\"solid\"},\"marker\":{\"symbol\":\"circle\"},\"mode\":\"markers+lines\",\"name\":\"AUSTRALIA\",\"orientation\":\"v\",\"showlegend\":true,\"x\":[2005,2006,2007,2008,2009,2010,2011,2012,2013,2014,2015,2016,2017,2018,2019,2020,2021,2022,2023],\"xaxis\":\"x\",\"y\":[1.311883901369863,1.3271241150684931,1.1942532958904108,1.1954363278688525,1.2786287698630137,1.0899299397260274,0.9692830767123287,0.965858693989071,1.0360553479452055,1.1096551835616437,1.330735509589041,1.3444924262295082,1.3050974,1.3392218438356165,1.438862698630137,1.4528335573770492,1.332352901369863,1.4420260821917807,1.4942812293233083],\"yaxis\":\"y\",\"type\":\"scatter\"},{\"hovertemplate\":\"Country=BRAZIL<br>year=%{x}<br>exchange_rate=%{y}<extra></extra>\",\"legendgroup\":\"BRAZIL\",\"line\":{\"color\":\"#EF553B\",\"dash\":\"solid\"},\"marker\":{\"symbol\":\"circle\"},\"mode\":\"markers+lines\",\"name\":\"BRAZIL\",\"orientation\":\"v\",\"showlegend\":true,\"x\":[2005,2006,2007,2008,2009,2010,2011,2012,2013,2014,2015,2016,2017,2018,2019,2020,2021,2022,2023],\"xaxis\":\"x\",\"y\":[2.3635956368715085,2.1698136,1.9440312880886428,1.8309892868852458,1.992751,1.7573374410958904,1.6689779479452056,1.95043437431694,2.1539193232876714,2.349426920547945,3.3232813068493154,3.485879904371585,3.189807136986301,3.649681873972603,3.9406939999999997,5.14800381420765,5.396541156164384,5.161465893150685,5.005243575187969],\"yaxis\":\"y\",\"type\":\"scatter\"},{\"hovertemplate\":\"Country=CANADA<br>year=%{x}<br>exchange_rate=%{y}<extra></extra>\",\"legendgroup\":\"CANADA\",\"line\":{\"color\":\"#00cc96\",\"dash\":\"solid\"},\"marker\":{\"symbol\":\"circle\"},\"mode\":\"markers+lines\",\"name\":\"CANADA\",\"orientation\":\"v\",\"showlegend\":true,\"x\":[2005,2006,2007,2008,2009,2010,2011,2012,2013,2014,2015,2016,2017,2018,2019,2020,2021,2022,2023],\"xaxis\":\"x\",\"y\":[1.2106691945205479,1.1337521561643837,1.0728239698630138,1.065287224043716,1.1397801452054794,1.0300052109589042,0.9888216465753424,0.9994283852459017,1.0296518520547946,1.1040194520547946,1.2771208493150685,1.3246567650273224,1.2983374684931506,1.2957160657534248,1.3268333424657535,1.3410948661202184,1.2537238657534246,1.3017789260273973,1.346125969924812],\"yaxis\":\"y\",\"type\":\"scatter\"},{\"hovertemplate\":\"Country=CHINA<br>year=%{x}<br>exchange_rate=%{y}<extra></extra>\",\"legendgroup\":\"CHINA\",\"line\":{\"color\":\"#ab63fa\",\"dash\":\"solid\"},\"marker\":{\"symbol\":\"circle\"},\"mode\":\"markers+lines\",\"name\":\"CHINA\",\"orientation\":\"v\",\"showlegend\":true,\"x\":[2005,2006,2007,2008,2009,2010,2011,2012,2013,2014,2015,2016,2017,2018,2019,2020,2021,2022,2023],\"xaxis\":\"x\",\"y\":[8.164166780821917,7.939530084931507,7.588820616438356,6.923990855191256,6.803353232876713,6.7528577972602735,6.449651104109589,6.294116314207651,6.132600671232877,6.151806019178082,6.273066523287671,6.628478243169399,6.746763126027398,6.605397780821918,6.898768715068493,6.897627469945355,6.450916320547945,6.727380208219177,7.021353721804512],\"yaxis\":\"y\",\"type\":\"scatter\"},{\"hovertemplate\":\"Country=FRANCE<br>year=%{x}<br>exchange_rate=%{y}<extra></extra>\",\"legendgroup\":\"FRANCE\",\"line\":{\"color\":\"#FFA15A\",\"dash\":\"solid\"},\"marker\":{\"symbol\":\"circle\"},\"mode\":\"markers+lines\",\"name\":\"FRANCE\",\"orientation\":\"v\",\"showlegend\":true,\"x\":[2005,2006,2007,2008,2009,2010,2011,2012,2013,2014,2015,2016,2017,2018,2019,2020,2021,2022,2023],\"xaxis\":\"x\",\"y\":[0.8046543397260273,0.7962701863013699,0.7303073150684931,0.6823282595628416,0.7187558246575342,0.7551722383561644,0.7189601698630137,0.7781994590163935,0.7531657972602739,0.7535439232876713,0.9008989452054795,0.9035143524590165,0.8870849643835615,0.8473942657534246,0.8932456410958903,0.8770771475409836,0.8458162493150685,0.9510782986301369,0.9220174887218046],\"yaxis\":\"y\",\"type\":\"scatter\"},{\"hovertemplate\":\"Country=GERMANY<br>year=%{x}<br>exchange_rate=%{y}<extra></extra>\",\"legendgroup\":\"GERMANY\",\"line\":{\"color\":\"#19d3f3\",\"dash\":\"solid\"},\"marker\":{\"symbol\":\"circle\"},\"mode\":\"markers+lines\",\"name\":\"GERMANY\",\"orientation\":\"v\",\"showlegend\":true,\"x\":[2005,2006,2007,2008,2009,2010,2011,2012,2013,2014,2015,2016,2017,2018,2019,2020,2021,2022,2023],\"xaxis\":\"x\",\"y\":[0.8046543397260273,0.7962701863013699,0.7303073150684931,0.6823282595628416,0.7187558246575342,0.7551722383561644,0.7189601698630137,0.7781994590163935,0.7531657972602739,0.7535439232876713,0.9008989452054795,0.9035143524590165,0.8870849643835615,0.8473942657534246,0.8932456410958903,0.8770771475409836,0.8458162493150685,0.9510782986301369,0.9220174887218046],\"yaxis\":\"y\",\"type\":\"scatter\"},{\"hovertemplate\":\"Country=INDIA<br>year=%{x}<br>exchange_rate=%{y}<extra></extra>\",\"legendgroup\":\"INDIA\",\"line\":{\"color\":\"#FF6692\",\"dash\":\"solid\"},\"marker\":{\"symbol\":\"circle\"},\"mode\":\"markers+lines\",\"name\":\"INDIA\",\"orientation\":\"v\",\"showlegend\":true,\"x\":[2005,2006,2007,2008,2009,2010,2011,2012,2013,2014,2015,2016,2017,2018,2019,2020,2021,2022,2023],\"xaxis\":\"x\",\"y\":[43.97944257692308,45.12163404109589,41.165829569060776,43.37903776331361,48.25114498082191,45.60469389863014,46.528010923287674,53.347818491803274,58.471546241095886,60.94858508767123,64.04567852328768,67.04224032513662,65.00486531780821,68.31044538904109,70.31648073424658,74.0740202568306,73.91510477534247,78.56207899726027,82.2807674924812],\"yaxis\":\"y\",\"type\":\"scatter\"},{\"hovertemplate\":\"Country=INDONESIA<br>year=%{x}<br>exchange_rate=%{y}<extra></extra>\",\"legendgroup\":\"INDONESIA\",\"line\":{\"color\":\"#B6E880\",\"dash\":\"solid\"},\"marker\":{\"symbol\":\"circle\"},\"mode\":\"markers+lines\",\"name\":\"INDONESIA\",\"orientation\":\"v\",\"showlegend\":true,\"x\":[2005,2006,2007,2008,2009,2010,2011,2012,2013,2014,2015,2016,2017,2018,2019,2020,2021,2022,2023],\"xaxis\":\"x\",\"y\":[9677.783550726028,8909.788509142465,8903.894138808218,9511.047804193988,10286.39694489589,9010.26030129589,8718.94052719178,9316.364424387977,10393.543591142467,11590.353353060274,13161.713668673972,12967.341159035517,13019.38461851233,14176.441630547944,14097.823500547946,14431.357123232241,14310.342907808219,14844.453651452055,15103.258548646618],\"yaxis\":\"y\",\"type\":\"scatter\"},{\"hovertemplate\":\"Country=ITALY<br>year=%{x}<br>exchange_rate=%{y}<extra></extra>\",\"legendgroup\":\"ITALY\",\"line\":{\"color\":\"#FF97FF\",\"dash\":\"solid\"},\"marker\":{\"symbol\":\"circle\"},\"mode\":\"markers+lines\",\"name\":\"ITALY\",\"orientation\":\"v\",\"showlegend\":true,\"x\":[2005,2006,2007,2008,2009,2010,2011,2012,2013,2014,2015,2016,2017,2018,2019,2020,2021,2022,2023],\"xaxis\":\"x\",\"y\":[0.8046543397260273,0.7962701863013699,0.7303073150684931,0.6823282595628416,0.7187558246575342,0.7551722383561644,0.7189601698630137,0.7781994590163935,0.7531657972602739,0.7535439232876713,0.9008989452054795,0.9035143524590165,0.8870849643835615,0.8473942657534246,0.8932456410958903,0.8770771475409836,0.8458162493150685,0.9510782986301369,0.9220174887218046],\"yaxis\":\"y\",\"type\":\"scatter\"},{\"hovertemplate\":\"Country=JAPAN<br>year=%{x}<br>exchange_rate=%{y}<extra></extra>\",\"legendgroup\":\"JAPAN\",\"line\":{\"color\":\"#FECB52\",\"dash\":\"solid\"},\"marker\":{\"symbol\":\"circle\"},\"mode\":\"markers+lines\",\"name\":\"JAPAN\",\"orientation\":\"v\",\"showlegend\":true,\"x\":[2005,2006,2007,2008,2009,2010,2011,2012,2013,2014,2015,2016,2017,2018,2019,2020,2021,2022,2023],\"xaxis\":\"x\",\"y\":[110.1159184,116.30314648219178,117.73966996438357,103.19099315300546,93.60046004931506,87.76817617260274,79.74377429863014,79.81494027595629,97.60839846849315,105.83736949863012,121.01753555890411,108.77017017759563,112.16014831780822,110.42960159452053,108.99992504383562,106.76631420491803,109.81194227945207,131.3934745452055,137.76398671428572],\"yaxis\":\"y\",\"type\":\"scatter\"},{\"hovertemplate\":\"Country=KOREA (THE REPUBLIC OF)<br>year=%{x}<br>exchange_rate=%{y}<extra></extra>\",\"legendgroup\":\"KOREA (THE REPUBLIC OF)\",\"line\":{\"color\":\"#636efa\",\"dash\":\"solid\"},\"marker\":{\"symbol\":\"circle\"},\"mode\":\"markers+lines\",\"name\":\"KOREA (THE REPUBLIC OF)\",\"orientation\":\"v\",\"showlegend\":true,\"x\":[2005,2006,2007,2008,2009,2010,2011,2012,2013,2014,2015,2016,2017,2018,2019,2020,2021,2022,2023],\"xaxis\":\"x\",\"y\":[1020.0583120767122,941.7666900383562,924.7736074575342,1097.9993410628415,1272.750250531507,1155.094474830137,1105.9181579479452,1125.020673521858,1092.397109309589,1051.365116769863,1129.5413550520548,1157.5018925519125,1128.7253073753425,1098.9971538547945,1163.6295697589042,1178.6970187486338,1144.8364147150685,1291.0414774273972,1299.1976702330828],\"yaxis\":\"y\",\"type\":\"scatter\"},{\"hovertemplate\":\"Country=MEXICO<br>year=%{x}<br>exchange_rate=%{y}<extra></extra>\",\"legendgroup\":\"MEXICO\",\"line\":{\"color\":\"#EF553B\",\"dash\":\"solid\"},\"marker\":{\"symbol\":\"circle\"},\"mode\":\"markers+lines\",\"name\":\"MEXICO\",\"orientation\":\"v\",\"showlegend\":true,\"x\":[2005,2006,2007,2008,2009,2010,2011,2012,2013,2014,2015,2016,2017,2018,2019,2020,2021,2022,2023],\"xaxis\":\"x\",\"y\":[10.833797480446927,10.737408156164383,10.710553961218835,10.970459833333333,13.367010194520548,12.513478065753423,12.384928487671232,13.15800050819672,12.756000430136986,13.302218698630139,15.85763275890411,18.664966475409837,18.92353241917808,19.229356723287673,19.250116263013698,21.468261579234973,20.281242493150685,20.09687083287671,17.79604082706767],\"yaxis\":\"y\",\"type\":\"scatter\"},{\"hovertemplate\":\"Country=NETHERLANDS (THE)<br>year=%{x}<br>exchange_rate=%{y}<extra></extra>\",\"legendgroup\":\"NETHERLANDS (THE)\",\"line\":{\"color\":\"#00cc96\",\"dash\":\"solid\"},\"marker\":{\"symbol\":\"circle\"},\"mode\":\"markers+lines\",\"name\":\"NETHERLANDS (THE)\",\"orientation\":\"v\",\"showlegend\":true,\"x\":[2005,2006,2007,2008,2009,2010,2011,2012,2013,2014,2015,2016,2017,2018,2019,2020,2021,2022,2023],\"xaxis\":\"x\",\"y\":[0.8046543397260273,0.7962701863013699,0.7303073150684931,0.6823282595628416,0.7187558246575342,0.7551722383561644,0.7189601698630137,0.7781994590163935,0.7531657972602739,0.7535439232876713,0.9008989452054795,0.9035143524590165,0.8870849643835615,0.8473942657534246,0.8932456410958903,0.8770771475409836,0.8458162493150685,0.9510782986301369,0.9220174887218046],\"yaxis\":\"y\",\"type\":\"scatter\"},{\"hovertemplate\":\"Country=POLAND<br>year=%{x}<br>exchange_rate=%{y}<extra></extra>\",\"legendgroup\":\"POLAND\",\"line\":{\"color\":\"#ab63fa\",\"dash\":\"solid\"},\"marker\":{\"symbol\":\"circle\"},\"mode\":\"markers+lines\",\"name\":\"POLAND\",\"orientation\":\"v\",\"showlegend\":true,\"x\":[2005,2006,2007,2008,2009,2010,2011,2012,2013,2014,2015,2016,2017,2018,2019,2020,2021,2022,2023],\"xaxis\":\"x\",\"y\":[3.2315910164383563,3.0925702164383564,2.760864189041096,2.4017521448087433,3.1106252465753426,3.0136696246575343,2.960924591780822,3.2523484836065575,3.1571339698630134,3.151734290410959,3.765517016438356,3.9392369344262295,3.776526879452055,3.6106362575342463,3.837507709589041,3.896235841530055,3.8613543643835615,4.456448547945206,4.224628037593985],\"yaxis\":\"y\",\"type\":\"scatter\"},{\"hovertemplate\":\"Country=RUSSIAN FEDERATION (THE)<br>year=%{x}<br>exchange_rate=%{y}<extra></extra>\",\"legendgroup\":\"RUSSIAN FEDERATION (THE)\",\"line\":{\"color\":\"#FFA15A\",\"dash\":\"solid\"},\"marker\":{\"symbol\":\"circle\"},\"mode\":\"markers+lines\",\"name\":\"RUSSIAN FEDERATION (THE)\",\"orientation\":\"v\",\"showlegend\":true,\"x\":[2005,2006,2007,2008,2009,2010,2011,2012,2013,2014,2015,2016,2017,2018,2019,2020,2021,2022,2023],\"xaxis\":\"x\",\"y\":[28.440018353790617,26.937107646575342,25.44591275890411,24.69328730874317,31.5679941369863,30.30587041369863,29.18711873150685,31.002550418032786,31.808885802739727,38.40529750410959,60.72152241643836,66.78186980874317,58.23436736712328,62.75079357260274,64.69620860273972,72.27323661748635,73.68600917808219,69.8187183890411,82.61588727819549],\"yaxis\":\"y\",\"type\":\"scatter\"},{\"hovertemplate\":\"Country=SAUDI ARABIA<br>year=%{x}<br>exchange_rate=%{y}<extra></extra>\",\"legendgroup\":\"SAUDI ARABIA\",\"line\":{\"color\":\"#19d3f3\",\"dash\":\"solid\"},\"marker\":{\"symbol\":\"circle\"},\"mode\":\"markers+lines\",\"name\":\"SAUDI ARABIA\",\"orientation\":\"v\",\"showlegend\":true,\"x\":[2005,2006,2007,2008,2009,2010,2011,2012,2013,2014,2015,2016,2017,2018,2019,2020,2021,2022,2023],\"xaxis\":\"x\",\"y\":[3.7484705989010987,3.746599824657534,3.7409721561643834,3.73389857260274,3.7397656933701655,3.7430125414364643,3.74505603038674,3.743213090410959,3.744028695890411,3.7452390520547945,3.7455568657534246,3.741712275956284,3.743626710743802,3.7445797917808217,3.7454269191616767,3.7509617704918035,3.750311923287671,3.7533484767123286,3.750530015037594],\"yaxis\":\"y\",\"type\":\"scatter\"},{\"hovertemplate\":\"Country=SPAIN<br>year=%{x}<br>exchange_rate=%{y}<extra></extra>\",\"legendgroup\":\"SPAIN\",\"line\":{\"color\":\"#FF6692\",\"dash\":\"solid\"},\"marker\":{\"symbol\":\"circle\"},\"mode\":\"markers+lines\",\"name\":\"SPAIN\",\"orientation\":\"v\",\"showlegend\":true,\"x\":[2005,2006,2007,2008,2009,2010,2011,2012,2013,2014,2015,2016,2017,2018,2019,2020,2021,2022,2023],\"xaxis\":\"x\",\"y\":[0.8046543397260273,0.7962701863013699,0.7303073150684931,0.6823282595628416,0.7187558246575342,0.7551722383561644,0.7189601698630137,0.7781994590163935,0.7531657972602739,0.7535439232876713,0.9008989452054795,0.9035143524590165,0.8870849643835615,0.8473942657534246,0.8932456410958903,0.8770771475409836,0.8458162493150685,0.9510782986301369,0.9220174887218046],\"yaxis\":\"y\",\"type\":\"scatter\"},{\"hovertemplate\":\"Country=SWITZERLAND<br>year=%{x}<br>exchange_rate=%{y}<extra></extra>\",\"legendgroup\":\"SWITZERLAND\",\"line\":{\"color\":\"#B6E880\",\"dash\":\"solid\"},\"marker\":{\"symbol\":\"circle\"},\"mode\":\"markers+lines\",\"name\":\"SWITZERLAND\",\"orientation\":\"v\",\"showlegend\":true,\"x\":[2005,2006,2007,2008,2009,2010,2011,2012,2013,2014,2015,2016,2017,2018,2019,2020,2021,2022,2023],\"xaxis\":\"x\",\"y\":[1.2456009150684932,1.2524147315068492,1.1994330136986302,1.0804041284153005,1.0841541342465753,1.0428414109589041,0.886682509589041,0.9377651475409836,0.9268849232876712,0.9150043342465753,0.9620969698630136,0.9847068961748633,0.9844801808219178,0.9783309589041096,0.9935822410958903,0.9386944644808743,0.9142103506849315,0.9548084876712328,0.9023022969924811],\"yaxis\":\"y\",\"type\":\"scatter\"},{\"hovertemplate\":\"Country=TURKEY<br>year=%{x}<br>exchange_rate=%{y}<extra></extra>\",\"legendgroup\":\"TURKEY\",\"line\":{\"color\":\"#FF97FF\",\"dash\":\"solid\"},\"marker\":{\"symbol\":\"circle\"},\"mode\":\"markers+lines\",\"name\":\"TURKEY\",\"orientation\":\"v\",\"showlegend\":true,\"x\":[2005,2006,2007,2008,2009,2010,2011,2012,2013,2014,2015,2016,2017,2018,2019,2020,2021,2022,2023],\"xaxis\":\"x\",\"y\":[1.3429558347107438,1.4169213397260274,1.2865188575342466,1.2974782021857925,1.550887402739726,1.5059693041095892,1.677111328767123,1.7995257349726776,1.9035238876712328,2.185621301369863,2.7208504273972602,3.0207863551912566,3.64600561369863,4.836438421917808,5.6762190136986295,7.016824691256831,8.89146504931507,16.567807589041095,22.081427597744362],\"yaxis\":\"y\",\"type\":\"scatter\"},{\"hovertemplate\":\"Country=UNITED KINGDOM OF GREAT BRITAIN AND NORTHERN IRELAND (THE)<br>year=%{x}<br>exchange_rate=%{y}<extra></extra>\",\"legendgroup\":\"UNITED KINGDOM OF GREAT BRITAIN AND NORTHERN IRELAND (THE)\",\"line\":{\"color\":\"#FECB52\",\"dash\":\"solid\"},\"marker\":{\"symbol\":\"circle\"},\"mode\":\"markers+lines\",\"name\":\"UNITED KINGDOM OF GREAT BRITAIN AND NORTHERN IRELAND (THE)\",\"orientation\":\"v\",\"showlegend\":true,\"x\":[2005,2006,2007,2008,2009,2010,2011,2012,2013,2014,2015,2016,2017,2018,2019,2020,2021,2022,2023],\"xaxis\":\"x\",\"y\":[0.5499243561643835,0.542891495890411,0.49953266575342464,0.5445637021857923,0.6402852082191781,0.6471791479452055,0.6237532630136986,0.6310268306010929,0.6393001205479453,0.6070543561643835,0.6539489863013699,0.7397872349726776,0.7766322904109588,0.7497503972602739,0.7835793205479453,0.779604218579235,0.7272136547945205,0.8116479972602739,0.8035754661654135],\"yaxis\":\"y\",\"type\":\"scatter\"}],                        {\"template\":{\"data\":{\"bar\":[{\"error_x\":{\"color\":\"#2a3f5f\"},\"error_y\":{\"color\":\"#2a3f5f\"},\"marker\":{\"line\":{\"color\":\"#E5ECF6\",\"width\":0.5},\"pattern\":{\"fillmode\":\"overlay\",\"size\":10,\"solidity\":0.2}},\"type\":\"bar\"}],\"barpolar\":[{\"marker\":{\"line\":{\"color\":\"#E5ECF6\",\"width\":0.5},\"pattern\":{\"fillmode\":\"overlay\",\"size\":10,\"solidity\":0.2}},\"type\":\"barpolar\"}],\"carpet\":[{\"aaxis\":{\"endlinecolor\":\"#2a3f5f\",\"gridcolor\":\"white\",\"linecolor\":\"white\",\"minorgridcolor\":\"white\",\"startlinecolor\":\"#2a3f5f\"},\"baxis\":{\"endlinecolor\":\"#2a3f5f\",\"gridcolor\":\"white\",\"linecolor\":\"white\",\"minorgridcolor\":\"white\",\"startlinecolor\":\"#2a3f5f\"},\"type\":\"carpet\"}],\"choropleth\":[{\"colorbar\":{\"outlinewidth\":0,\"ticks\":\"\"},\"type\":\"choropleth\"}],\"contour\":[{\"colorbar\":{\"outlinewidth\":0,\"ticks\":\"\"},\"colorscale\":[[0.0,\"#0d0887\"],[0.1111111111111111,\"#46039f\"],[0.2222222222222222,\"#7201a8\"],[0.3333333333333333,\"#9c179e\"],[0.4444444444444444,\"#bd3786\"],[0.5555555555555556,\"#d8576b\"],[0.6666666666666666,\"#ed7953\"],[0.7777777777777778,\"#fb9f3a\"],[0.8888888888888888,\"#fdca26\"],[1.0,\"#f0f921\"]],\"type\":\"contour\"}],\"contourcarpet\":[{\"colorbar\":{\"outlinewidth\":0,\"ticks\":\"\"},\"type\":\"contourcarpet\"}],\"heatmap\":[{\"colorbar\":{\"outlinewidth\":0,\"ticks\":\"\"},\"colorscale\":[[0.0,\"#0d0887\"],[0.1111111111111111,\"#46039f\"],[0.2222222222222222,\"#7201a8\"],[0.3333333333333333,\"#9c179e\"],[0.4444444444444444,\"#bd3786\"],[0.5555555555555556,\"#d8576b\"],[0.6666666666666666,\"#ed7953\"],[0.7777777777777778,\"#fb9f3a\"],[0.8888888888888888,\"#fdca26\"],[1.0,\"#f0f921\"]],\"type\":\"heatmap\"}],\"heatmapgl\":[{\"colorbar\":{\"outlinewidth\":0,\"ticks\":\"\"},\"colorscale\":[[0.0,\"#0d0887\"],[0.1111111111111111,\"#46039f\"],[0.2222222222222222,\"#7201a8\"],[0.3333333333333333,\"#9c179e\"],[0.4444444444444444,\"#bd3786\"],[0.5555555555555556,\"#d8576b\"],[0.6666666666666666,\"#ed7953\"],[0.7777777777777778,\"#fb9f3a\"],[0.8888888888888888,\"#fdca26\"],[1.0,\"#f0f921\"]],\"type\":\"heatmapgl\"}],\"histogram\":[{\"marker\":{\"pattern\":{\"fillmode\":\"overlay\",\"size\":10,\"solidity\":0.2}},\"type\":\"histogram\"}],\"histogram2d\":[{\"colorbar\":{\"outlinewidth\":0,\"ticks\":\"\"},\"colorscale\":[[0.0,\"#0d0887\"],[0.1111111111111111,\"#46039f\"],[0.2222222222222222,\"#7201a8\"],[0.3333333333333333,\"#9c179e\"],[0.4444444444444444,\"#bd3786\"],[0.5555555555555556,\"#d8576b\"],[0.6666666666666666,\"#ed7953\"],[0.7777777777777778,\"#fb9f3a\"],[0.8888888888888888,\"#fdca26\"],[1.0,\"#f0f921\"]],\"type\":\"histogram2d\"}],\"histogram2dcontour\":[{\"colorbar\":{\"outlinewidth\":0,\"ticks\":\"\"},\"colorscale\":[[0.0,\"#0d0887\"],[0.1111111111111111,\"#46039f\"],[0.2222222222222222,\"#7201a8\"],[0.3333333333333333,\"#9c179e\"],[0.4444444444444444,\"#bd3786\"],[0.5555555555555556,\"#d8576b\"],[0.6666666666666666,\"#ed7953\"],[0.7777777777777778,\"#fb9f3a\"],[0.8888888888888888,\"#fdca26\"],[1.0,\"#f0f921\"]],\"type\":\"histogram2dcontour\"}],\"mesh3d\":[{\"colorbar\":{\"outlinewidth\":0,\"ticks\":\"\"},\"type\":\"mesh3d\"}],\"parcoords\":[{\"line\":{\"colorbar\":{\"outlinewidth\":0,\"ticks\":\"\"}},\"type\":\"parcoords\"}],\"pie\":[{\"automargin\":true,\"type\":\"pie\"}],\"scatter\":[{\"marker\":{\"colorbar\":{\"outlinewidth\":0,\"ticks\":\"\"}},\"type\":\"scatter\"}],\"scatter3d\":[{\"line\":{\"colorbar\":{\"outlinewidth\":0,\"ticks\":\"\"}},\"marker\":{\"colorbar\":{\"outlinewidth\":0,\"ticks\":\"\"}},\"type\":\"scatter3d\"}],\"scattercarpet\":[{\"marker\":{\"colorbar\":{\"outlinewidth\":0,\"ticks\":\"\"}},\"type\":\"scattercarpet\"}],\"scattergeo\":[{\"marker\":{\"colorbar\":{\"outlinewidth\":0,\"ticks\":\"\"}},\"type\":\"scattergeo\"}],\"scattergl\":[{\"marker\":{\"colorbar\":{\"outlinewidth\":0,\"ticks\":\"\"}},\"type\":\"scattergl\"}],\"scattermapbox\":[{\"marker\":{\"colorbar\":{\"outlinewidth\":0,\"ticks\":\"\"}},\"type\":\"scattermapbox\"}],\"scatterpolar\":[{\"marker\":{\"colorbar\":{\"outlinewidth\":0,\"ticks\":\"\"}},\"type\":\"scatterpolar\"}],\"scatterpolargl\":[{\"marker\":{\"colorbar\":{\"outlinewidth\":0,\"ticks\":\"\"}},\"type\":\"scatterpolargl\"}],\"scatterternary\":[{\"marker\":{\"colorbar\":{\"outlinewidth\":0,\"ticks\":\"\"}},\"type\":\"scatterternary\"}],\"surface\":[{\"colorbar\":{\"outlinewidth\":0,\"ticks\":\"\"},\"colorscale\":[[0.0,\"#0d0887\"],[0.1111111111111111,\"#46039f\"],[0.2222222222222222,\"#7201a8\"],[0.3333333333333333,\"#9c179e\"],[0.4444444444444444,\"#bd3786\"],[0.5555555555555556,\"#d8576b\"],[0.6666666666666666,\"#ed7953\"],[0.7777777777777778,\"#fb9f3a\"],[0.8888888888888888,\"#fdca26\"],[1.0,\"#f0f921\"]],\"type\":\"surface\"}],\"table\":[{\"cells\":{\"fill\":{\"color\":\"#EBF0F8\"},\"line\":{\"color\":\"white\"}},\"header\":{\"fill\":{\"color\":\"#C8D4E3\"},\"line\":{\"color\":\"white\"}},\"type\":\"table\"}]},\"layout\":{\"annotationdefaults\":{\"arrowcolor\":\"#2a3f5f\",\"arrowhead\":0,\"arrowwidth\":1},\"autotypenumbers\":\"strict\",\"coloraxis\":{\"colorbar\":{\"outlinewidth\":0,\"ticks\":\"\"}},\"colorscale\":{\"diverging\":[[0,\"#8e0152\"],[0.1,\"#c51b7d\"],[0.2,\"#de77ae\"],[0.3,\"#f1b6da\"],[0.4,\"#fde0ef\"],[0.5,\"#f7f7f7\"],[0.6,\"#e6f5d0\"],[0.7,\"#b8e186\"],[0.8,\"#7fbc41\"],[0.9,\"#4d9221\"],[1,\"#276419\"]],\"sequential\":[[0.0,\"#0d0887\"],[0.1111111111111111,\"#46039f\"],[0.2222222222222222,\"#7201a8\"],[0.3333333333333333,\"#9c179e\"],[0.4444444444444444,\"#bd3786\"],[0.5555555555555556,\"#d8576b\"],[0.6666666666666666,\"#ed7953\"],[0.7777777777777778,\"#fb9f3a\"],[0.8888888888888888,\"#fdca26\"],[1.0,\"#f0f921\"]],\"sequentialminus\":[[0.0,\"#0d0887\"],[0.1111111111111111,\"#46039f\"],[0.2222222222222222,\"#7201a8\"],[0.3333333333333333,\"#9c179e\"],[0.4444444444444444,\"#bd3786\"],[0.5555555555555556,\"#d8576b\"],[0.6666666666666666,\"#ed7953\"],[0.7777777777777778,\"#fb9f3a\"],[0.8888888888888888,\"#fdca26\"],[1.0,\"#f0f921\"]]},\"colorway\":[\"#636efa\",\"#EF553B\",\"#00cc96\",\"#ab63fa\",\"#FFA15A\",\"#19d3f3\",\"#FF6692\",\"#B6E880\",\"#FF97FF\",\"#FECB52\"],\"font\":{\"color\":\"#2a3f5f\"},\"geo\":{\"bgcolor\":\"white\",\"lakecolor\":\"white\",\"landcolor\":\"#E5ECF6\",\"showlakes\":true,\"showland\":true,\"subunitcolor\":\"white\"},\"hoverlabel\":{\"align\":\"left\"},\"hovermode\":\"closest\",\"mapbox\":{\"style\":\"light\"},\"paper_bgcolor\":\"white\",\"plot_bgcolor\":\"#E5ECF6\",\"polar\":{\"angularaxis\":{\"gridcolor\":\"white\",\"linecolor\":\"white\",\"ticks\":\"\"},\"bgcolor\":\"#E5ECF6\",\"radialaxis\":{\"gridcolor\":\"white\",\"linecolor\":\"white\",\"ticks\":\"\"}},\"scene\":{\"xaxis\":{\"backgroundcolor\":\"#E5ECF6\",\"gridcolor\":\"white\",\"gridwidth\":2,\"linecolor\":\"white\",\"showbackground\":true,\"ticks\":\"\",\"zerolinecolor\":\"white\"},\"yaxis\":{\"backgroundcolor\":\"#E5ECF6\",\"gridcolor\":\"white\",\"gridwidth\":2,\"linecolor\":\"white\",\"showbackground\":true,\"ticks\":\"\",\"zerolinecolor\":\"white\"},\"zaxis\":{\"backgroundcolor\":\"#E5ECF6\",\"gridcolor\":\"white\",\"gridwidth\":2,\"linecolor\":\"white\",\"showbackground\":true,\"ticks\":\"\",\"zerolinecolor\":\"white\"}},\"shapedefaults\":{\"line\":{\"color\":\"#2a3f5f\"}},\"ternary\":{\"aaxis\":{\"gridcolor\":\"white\",\"linecolor\":\"white\",\"ticks\":\"\"},\"baxis\":{\"gridcolor\":\"white\",\"linecolor\":\"white\",\"ticks\":\"\"},\"bgcolor\":\"#E5ECF6\",\"caxis\":{\"gridcolor\":\"white\",\"linecolor\":\"white\",\"ticks\":\"\"}},\"title\":{\"x\":0.05},\"xaxis\":{\"automargin\":true,\"gridcolor\":\"white\",\"linecolor\":\"white\",\"ticks\":\"\",\"title\":{\"standoff\":15},\"zerolinecolor\":\"white\",\"zerolinewidth\":2},\"yaxis\":{\"automargin\":true,\"gridcolor\":\"white\",\"linecolor\":\"white\",\"ticks\":\"\",\"title\":{\"standoff\":15},\"zerolinecolor\":\"white\",\"zerolinewidth\":2}}},\"xaxis\":{\"anchor\":\"y\",\"domain\":[0.0,1.0],\"title\":{\"text\":\"year\"}},\"yaxis\":{\"anchor\":\"x\",\"domain\":[0.0,1.0],\"title\":{\"text\":\"exchange_rate\"}},\"legend\":{\"title\":{\"text\":\"Country\"},\"tracegroupgap\":0},\"margin\":{\"t\":60}},                        {\"responsive\": true}                    ).then(function(){\n",
       "                            \n",
       "var gd = document.getElementById('480f29cc-3476-49dc-a219-63c63069a826');\n",
       "var x = new MutationObserver(function (mutations, observer) {{\n",
       "        var display = window.getComputedStyle(gd).display;\n",
       "        if (!display || display === 'none') {{\n",
       "            console.log([gd, 'removed!']);\n",
       "            Plotly.purge(gd);\n",
       "            observer.disconnect();\n",
       "        }}\n",
       "}});\n",
       "\n",
       "// Listen for the removal of the full notebook cells\n",
       "var notebookContainer = gd.closest('#notebook-container');\n",
       "if (notebookContainer) {{\n",
       "    x.observe(notebookContainer, {childList: true});\n",
       "}}\n",
       "\n",
       "// Listen for the clearing of the current output cell\n",
       "var outputEl = gd.closest('.output');\n",
       "if (outputEl) {{\n",
       "    x.observe(outputEl, {childList: true});\n",
       "}}\n",
       "\n",
       "                        })                };                });            </script>        </div>"
      ]
     },
     "metadata": {},
     "output_type": "display_data"
    }
   ],
   "source": [
    "fig = px.line(year_wise, x=\"year\", y=\"exchange_rate\", color='Country',markers= True)\n",
    "fig.show()"
   ]
  },
  {
   "cell_type": "markdown",
   "metadata": {
    "id": "x9njyHUE1nFl"
   },
   "source": [
    "### Decade level %change"
   ]
  },
  {
   "cell_type": "markdown",
   "metadata": {
    "id": "FcRiM3d-SRJA"
   },
   "source": [
    "For a more comprehensive analysis, we have determined that visualizing the decade-wise percentage change in exchange rates for countries would provide valuable insights. Instead of solely calculating the annual means of exchange rates for countries, we have undertaken the task of extracting decade-wise percentage changes in exchange rates. This approach allows us to discern broader trends and fluctuations over time, enhancing the depth and scope of our analysis."
   ]
  },
  {
   "cell_type": "code",
   "execution_count": 28,
   "metadata": {
    "id": "5hI3nt1iSVgv"
   },
   "outputs": [],
   "source": [
    "def decade_wise_change(df,decade_start_date, decade_end_date):\n",
    "  decade_data = df[(df['date']== decade_start_date) | (df['date']== decade_end_date)]\n",
    "  decade_data.sort_values(['Currency Name','Country','date'],inplace=True)\n",
    "  stat = decade_data.groupby(['Currency Name','Country']).apply(lambda x : ((x['exchange_rate'].iloc[-1]-x['exchange_rate'].iloc[0])/x['exchange_rate'].iloc[0]) *100.0).reset_index()\n",
    "  stat.rename(columns={0:'%change'},inplace=True)\n",
    "  stat.sort_values('%change',inplace=True)\n",
    "  return stat"
   ]
  },
  {
   "cell_type": "code",
   "execution_count": 29,
   "metadata": {
    "colab": {
     "base_uri": "https://localhost:8080/"
    },
    "id": "CxXrZsryYjQJ",
    "outputId": "d5a9a843-2c85-4b69-f3f7-7e940aee2660"
   },
   "outputs": [],
   "source": [
    "decade_start_date = '1/1/2013'\n",
    "decade_end_date = '9/1/2023'\n",
    "\n",
    "decade_level_change =decade_wise_change(sub_df_1,decade_start_date,decade_end_date)"
   ]
  },
  {
   "cell_type": "code",
   "execution_count": 30,
   "metadata": {
    "colab": {
     "base_uri": "https://localhost:8080/",
     "height": 767
    },
    "id": "OciaLpFM2gqq",
    "outputId": "ae7f2e05-d348-48b2-f165-10020ce1e286"
   },
   "outputs": [
    {
     "data": {
      "text/html": [
       "<div>                            <div id=\"44e7557f-67e0-402c-a129-fcc891ae90f9\" class=\"plotly-graph-div\" style=\"height:750px; width:750px;\"></div>            <script type=\"text/javascript\">                require([\"plotly\"], function(Plotly) {                    window.PLOTLYENV=window.PLOTLYENV || {};                                    if (document.getElementById(\"44e7557f-67e0-402c-a129-fcc891ae90f9\")) {                    Plotly.newPlot(                        \"44e7557f-67e0-402c-a129-fcc891ae90f9\",                        [{\"alignmentgroup\":\"True\",\"hovertemplate\":\"%change=%{marker.color}<br>Country=%{y}<extra></extra>\",\"legendgroup\":\"\",\"marker\":{\"color\":[-3.129307018780659,0.035078090128796265,16.614643535059002,22.34903989080127,22.34903989080127,22.34903989080127,22.34903989080127,22.34903989080127,24.001585919934996,29.53012366367913,33.296844288229835,34.27822512552584,36.647168579534465,50.46001421612545,58.67320159482995,61.27723045952135,68.47947444033211,141.76191945513855,215.28270159899247,1396.7075485513294],\"coloraxis\":\"coloraxis\",\"pattern\":{\"shape\":\"\"}},\"name\":\"\",\"offsetgroup\":\"\",\"orientation\":\"h\",\"showlegend\":false,\"textposition\":\"auto\",\"x\":[-3.129307018780659,0.035078090128796265,16.614643535059002,22.34903989080127,22.34903989080127,22.34903989080127,22.34903989080127,22.34903989080127,24.001585919934996,29.53012366367913,33.296844288229835,34.27822512552584,36.647168579534465,50.46001421612545,58.67320159482995,61.27723045952135,68.47947444033211,141.76191945513855,215.28270159899247,1396.7075485513294],\"xaxis\":\"x\",\"y\":[\"SWITZERLAND\",\"SAUDI ARABIA\",\"CHINA\",\"FRANCE\",\"GERMANY\",\"ITALY\",\"NETHERLANDS (THE)\",\"SPAIN\",\"KOREA (THE REPUBLIC OF)\",\"UNITED KINGDOM OF GREAT BRITAIN AND NORTHERN IRELAND (THE)\",\"MEXICO\",\"POLAND\",\"CANADA\",\"INDIA\",\"INDONESIA\",\"AUSTRALIA\",\"JAPAN\",\"BRAZIL\",\"RUSSIAN FEDERATION (THE)\",\"TURKEY\"],\"yaxis\":\"y\",\"type\":\"bar\"}],                        {\"template\":{\"data\":{\"bar\":[{\"error_x\":{\"color\":\"#2a3f5f\"},\"error_y\":{\"color\":\"#2a3f5f\"},\"marker\":{\"line\":{\"color\":\"#E5ECF6\",\"width\":0.5},\"pattern\":{\"fillmode\":\"overlay\",\"size\":10,\"solidity\":0.2}},\"type\":\"bar\"}],\"barpolar\":[{\"marker\":{\"line\":{\"color\":\"#E5ECF6\",\"width\":0.5},\"pattern\":{\"fillmode\":\"overlay\",\"size\":10,\"solidity\":0.2}},\"type\":\"barpolar\"}],\"carpet\":[{\"aaxis\":{\"endlinecolor\":\"#2a3f5f\",\"gridcolor\":\"white\",\"linecolor\":\"white\",\"minorgridcolor\":\"white\",\"startlinecolor\":\"#2a3f5f\"},\"baxis\":{\"endlinecolor\":\"#2a3f5f\",\"gridcolor\":\"white\",\"linecolor\":\"white\",\"minorgridcolor\":\"white\",\"startlinecolor\":\"#2a3f5f\"},\"type\":\"carpet\"}],\"choropleth\":[{\"colorbar\":{\"outlinewidth\":0,\"ticks\":\"\"},\"type\":\"choropleth\"}],\"contour\":[{\"colorbar\":{\"outlinewidth\":0,\"ticks\":\"\"},\"colorscale\":[[0.0,\"#0d0887\"],[0.1111111111111111,\"#46039f\"],[0.2222222222222222,\"#7201a8\"],[0.3333333333333333,\"#9c179e\"],[0.4444444444444444,\"#bd3786\"],[0.5555555555555556,\"#d8576b\"],[0.6666666666666666,\"#ed7953\"],[0.7777777777777778,\"#fb9f3a\"],[0.8888888888888888,\"#fdca26\"],[1.0,\"#f0f921\"]],\"type\":\"contour\"}],\"contourcarpet\":[{\"colorbar\":{\"outlinewidth\":0,\"ticks\":\"\"},\"type\":\"contourcarpet\"}],\"heatmap\":[{\"colorbar\":{\"outlinewidth\":0,\"ticks\":\"\"},\"colorscale\":[[0.0,\"#0d0887\"],[0.1111111111111111,\"#46039f\"],[0.2222222222222222,\"#7201a8\"],[0.3333333333333333,\"#9c179e\"],[0.4444444444444444,\"#bd3786\"],[0.5555555555555556,\"#d8576b\"],[0.6666666666666666,\"#ed7953\"],[0.7777777777777778,\"#fb9f3a\"],[0.8888888888888888,\"#fdca26\"],[1.0,\"#f0f921\"]],\"type\":\"heatmap\"}],\"heatmapgl\":[{\"colorbar\":{\"outlinewidth\":0,\"ticks\":\"\"},\"colorscale\":[[0.0,\"#0d0887\"],[0.1111111111111111,\"#46039f\"],[0.2222222222222222,\"#7201a8\"],[0.3333333333333333,\"#9c179e\"],[0.4444444444444444,\"#bd3786\"],[0.5555555555555556,\"#d8576b\"],[0.6666666666666666,\"#ed7953\"],[0.7777777777777778,\"#fb9f3a\"],[0.8888888888888888,\"#fdca26\"],[1.0,\"#f0f921\"]],\"type\":\"heatmapgl\"}],\"histogram\":[{\"marker\":{\"pattern\":{\"fillmode\":\"overlay\",\"size\":10,\"solidity\":0.2}},\"type\":\"histogram\"}],\"histogram2d\":[{\"colorbar\":{\"outlinewidth\":0,\"ticks\":\"\"},\"colorscale\":[[0.0,\"#0d0887\"],[0.1111111111111111,\"#46039f\"],[0.2222222222222222,\"#7201a8\"],[0.3333333333333333,\"#9c179e\"],[0.4444444444444444,\"#bd3786\"],[0.5555555555555556,\"#d8576b\"],[0.6666666666666666,\"#ed7953\"],[0.7777777777777778,\"#fb9f3a\"],[0.8888888888888888,\"#fdca26\"],[1.0,\"#f0f921\"]],\"type\":\"histogram2d\"}],\"histogram2dcontour\":[{\"colorbar\":{\"outlinewidth\":0,\"ticks\":\"\"},\"colorscale\":[[0.0,\"#0d0887\"],[0.1111111111111111,\"#46039f\"],[0.2222222222222222,\"#7201a8\"],[0.3333333333333333,\"#9c179e\"],[0.4444444444444444,\"#bd3786\"],[0.5555555555555556,\"#d8576b\"],[0.6666666666666666,\"#ed7953\"],[0.7777777777777778,\"#fb9f3a\"],[0.8888888888888888,\"#fdca26\"],[1.0,\"#f0f921\"]],\"type\":\"histogram2dcontour\"}],\"mesh3d\":[{\"colorbar\":{\"outlinewidth\":0,\"ticks\":\"\"},\"type\":\"mesh3d\"}],\"parcoords\":[{\"line\":{\"colorbar\":{\"outlinewidth\":0,\"ticks\":\"\"}},\"type\":\"parcoords\"}],\"pie\":[{\"automargin\":true,\"type\":\"pie\"}],\"scatter\":[{\"marker\":{\"colorbar\":{\"outlinewidth\":0,\"ticks\":\"\"}},\"type\":\"scatter\"}],\"scatter3d\":[{\"line\":{\"colorbar\":{\"outlinewidth\":0,\"ticks\":\"\"}},\"marker\":{\"colorbar\":{\"outlinewidth\":0,\"ticks\":\"\"}},\"type\":\"scatter3d\"}],\"scattercarpet\":[{\"marker\":{\"colorbar\":{\"outlinewidth\":0,\"ticks\":\"\"}},\"type\":\"scattercarpet\"}],\"scattergeo\":[{\"marker\":{\"colorbar\":{\"outlinewidth\":0,\"ticks\":\"\"}},\"type\":\"scattergeo\"}],\"scattergl\":[{\"marker\":{\"colorbar\":{\"outlinewidth\":0,\"ticks\":\"\"}},\"type\":\"scattergl\"}],\"scattermapbox\":[{\"marker\":{\"colorbar\":{\"outlinewidth\":0,\"ticks\":\"\"}},\"type\":\"scattermapbox\"}],\"scatterpolar\":[{\"marker\":{\"colorbar\":{\"outlinewidth\":0,\"ticks\":\"\"}},\"type\":\"scatterpolar\"}],\"scatterpolargl\":[{\"marker\":{\"colorbar\":{\"outlinewidth\":0,\"ticks\":\"\"}},\"type\":\"scatterpolargl\"}],\"scatterternary\":[{\"marker\":{\"colorbar\":{\"outlinewidth\":0,\"ticks\":\"\"}},\"type\":\"scatterternary\"}],\"surface\":[{\"colorbar\":{\"outlinewidth\":0,\"ticks\":\"\"},\"colorscale\":[[0.0,\"#0d0887\"],[0.1111111111111111,\"#46039f\"],[0.2222222222222222,\"#7201a8\"],[0.3333333333333333,\"#9c179e\"],[0.4444444444444444,\"#bd3786\"],[0.5555555555555556,\"#d8576b\"],[0.6666666666666666,\"#ed7953\"],[0.7777777777777778,\"#fb9f3a\"],[0.8888888888888888,\"#fdca26\"],[1.0,\"#f0f921\"]],\"type\":\"surface\"}],\"table\":[{\"cells\":{\"fill\":{\"color\":\"#EBF0F8\"},\"line\":{\"color\":\"white\"}},\"header\":{\"fill\":{\"color\":\"#C8D4E3\"},\"line\":{\"color\":\"white\"}},\"type\":\"table\"}]},\"layout\":{\"annotationdefaults\":{\"arrowcolor\":\"#2a3f5f\",\"arrowhead\":0,\"arrowwidth\":1},\"autotypenumbers\":\"strict\",\"coloraxis\":{\"colorbar\":{\"outlinewidth\":0,\"ticks\":\"\"}},\"colorscale\":{\"diverging\":[[0,\"#8e0152\"],[0.1,\"#c51b7d\"],[0.2,\"#de77ae\"],[0.3,\"#f1b6da\"],[0.4,\"#fde0ef\"],[0.5,\"#f7f7f7\"],[0.6,\"#e6f5d0\"],[0.7,\"#b8e186\"],[0.8,\"#7fbc41\"],[0.9,\"#4d9221\"],[1,\"#276419\"]],\"sequential\":[[0.0,\"#0d0887\"],[0.1111111111111111,\"#46039f\"],[0.2222222222222222,\"#7201a8\"],[0.3333333333333333,\"#9c179e\"],[0.4444444444444444,\"#bd3786\"],[0.5555555555555556,\"#d8576b\"],[0.6666666666666666,\"#ed7953\"],[0.7777777777777778,\"#fb9f3a\"],[0.8888888888888888,\"#fdca26\"],[1.0,\"#f0f921\"]],\"sequentialminus\":[[0.0,\"#0d0887\"],[0.1111111111111111,\"#46039f\"],[0.2222222222222222,\"#7201a8\"],[0.3333333333333333,\"#9c179e\"],[0.4444444444444444,\"#bd3786\"],[0.5555555555555556,\"#d8576b\"],[0.6666666666666666,\"#ed7953\"],[0.7777777777777778,\"#fb9f3a\"],[0.8888888888888888,\"#fdca26\"],[1.0,\"#f0f921\"]]},\"colorway\":[\"#636efa\",\"#EF553B\",\"#00cc96\",\"#ab63fa\",\"#FFA15A\",\"#19d3f3\",\"#FF6692\",\"#B6E880\",\"#FF97FF\",\"#FECB52\"],\"font\":{\"color\":\"#2a3f5f\"},\"geo\":{\"bgcolor\":\"white\",\"lakecolor\":\"white\",\"landcolor\":\"#E5ECF6\",\"showlakes\":true,\"showland\":true,\"subunitcolor\":\"white\"},\"hoverlabel\":{\"align\":\"left\"},\"hovermode\":\"closest\",\"mapbox\":{\"style\":\"light\"},\"paper_bgcolor\":\"white\",\"plot_bgcolor\":\"#E5ECF6\",\"polar\":{\"angularaxis\":{\"gridcolor\":\"white\",\"linecolor\":\"white\",\"ticks\":\"\"},\"bgcolor\":\"#E5ECF6\",\"radialaxis\":{\"gridcolor\":\"white\",\"linecolor\":\"white\",\"ticks\":\"\"}},\"scene\":{\"xaxis\":{\"backgroundcolor\":\"#E5ECF6\",\"gridcolor\":\"white\",\"gridwidth\":2,\"linecolor\":\"white\",\"showbackground\":true,\"ticks\":\"\",\"zerolinecolor\":\"white\"},\"yaxis\":{\"backgroundcolor\":\"#E5ECF6\",\"gridcolor\":\"white\",\"gridwidth\":2,\"linecolor\":\"white\",\"showbackground\":true,\"ticks\":\"\",\"zerolinecolor\":\"white\"},\"zaxis\":{\"backgroundcolor\":\"#E5ECF6\",\"gridcolor\":\"white\",\"gridwidth\":2,\"linecolor\":\"white\",\"showbackground\":true,\"ticks\":\"\",\"zerolinecolor\":\"white\"}},\"shapedefaults\":{\"line\":{\"color\":\"#2a3f5f\"}},\"ternary\":{\"aaxis\":{\"gridcolor\":\"white\",\"linecolor\":\"white\",\"ticks\":\"\"},\"baxis\":{\"gridcolor\":\"white\",\"linecolor\":\"white\",\"ticks\":\"\"},\"bgcolor\":\"#E5ECF6\",\"caxis\":{\"gridcolor\":\"white\",\"linecolor\":\"white\",\"ticks\":\"\"}},\"title\":{\"x\":0.05},\"xaxis\":{\"automargin\":true,\"gridcolor\":\"white\",\"linecolor\":\"white\",\"ticks\":\"\",\"title\":{\"standoff\":15},\"zerolinecolor\":\"white\",\"zerolinewidth\":2},\"yaxis\":{\"automargin\":true,\"gridcolor\":\"white\",\"linecolor\":\"white\",\"ticks\":\"\",\"title\":{\"standoff\":15},\"zerolinecolor\":\"white\",\"zerolinewidth\":2}}},\"xaxis\":{\"anchor\":\"y\",\"domain\":[0.0,1.0],\"title\":{\"text\":\"%change\"}},\"yaxis\":{\"anchor\":\"x\",\"domain\":[0.0,1.0],\"title\":{\"text\":\"Country\"}},\"coloraxis\":{\"colorbar\":{\"title\":{\"text\":\"%change\"}},\"colorscale\":[[0.0,\"#0d0887\"],[0.1111111111111111,\"#46039f\"],[0.2222222222222222,\"#7201a8\"],[0.3333333333333333,\"#9c179e\"],[0.4444444444444444,\"#bd3786\"],[0.5555555555555556,\"#d8576b\"],[0.6666666666666666,\"#ed7953\"],[0.7777777777777778,\"#fb9f3a\"],[0.8888888888888888,\"#fdca26\"],[1.0,\"#f0f921\"]]},\"legend\":{\"tracegroupgap\":0},\"title\":{\"text\":\"Decade level(2013 to 2023) %Change in Exchange Rate\"},\"barmode\":\"relative\",\"height\":750,\"width\":750},                        {\"responsive\": true}                    ).then(function(){\n",
       "                            \n",
       "var gd = document.getElementById('44e7557f-67e0-402c-a129-fcc891ae90f9');\n",
       "var x = new MutationObserver(function (mutations, observer) {{\n",
       "        var display = window.getComputedStyle(gd).display;\n",
       "        if (!display || display === 'none') {{\n",
       "            console.log([gd, 'removed!']);\n",
       "            Plotly.purge(gd);\n",
       "            observer.disconnect();\n",
       "        }}\n",
       "}});\n",
       "\n",
       "// Listen for the removal of the full notebook cells\n",
       "var notebookContainer = gd.closest('#notebook-container');\n",
       "if (notebookContainer) {{\n",
       "    x.observe(notebookContainer, {childList: true});\n",
       "}}\n",
       "\n",
       "// Listen for the clearing of the current output cell\n",
       "var outputEl = gd.closest('.output');\n",
       "if (outputEl) {{\n",
       "    x.observe(outputEl, {childList: true});\n",
       "}}\n",
       "\n",
       "                        })                };                });            </script>        </div>"
      ]
     },
     "metadata": {},
     "output_type": "display_data"
    }
   ],
   "source": [
    "decade_fig = px.bar(decade_level_change, y='Country', x='%change',color='%change',\n",
    "             title='Decade level(2013 to 2023) %Change in Exchange Rate', orientation='h',width=750, height=750)\n",
    "decade_fig.show()"
   ]
  },
  {
   "cell_type": "markdown",
   "metadata": {
    "id": "Ya3cLWmuZvXi"
   },
   "source": [
    "From the above graph, we can conclude that in the past decade that is (2013 to 2023), Turkey's currency has the highest depreciation wrt USD, whereas Switzerland's currency is the only currency that has appreciated in the past decade wrt USD."
   ]
  },
  {
   "cell_type": "markdown",
   "metadata": {
    "id": "QTKB5E9Raduy"
   },
   "source": [
    "Fun fact : Saudi Arabia operates under a fixed exchange rate system where the Saudi Riyal is pegged to the US Dollar. Hence there hasn't been much change for the currenies exchange rate."
   ]
  },
  {
   "cell_type": "markdown",
   "metadata": {
    "id": "sQfvsSca1uuK"
   },
   "source": [
    "### Analysis of effect on geopolitical tension or natural events on currenct exchange rates"
   ]
  },
  {
   "cell_type": "markdown",
   "metadata": {
    "id": "KbcQoWjgbwCH"
   },
   "source": [
    "In the next phase, we would like to analyze and visualize the effect of sesmic events and geopolitical tensions on the exchange rates.\n"
   ]
  },
  {
   "cell_type": "markdown",
   "metadata": {
    "id": "5Gm_Ho9DcAEt"
   },
   "source": [
    "Setting up a generic code, which is able to modify for the data in required format for any given event (by provding the date range)."
   ]
  },
  {
   "cell_type": "code",
   "execution_count": 31,
   "metadata": {
    "id": "Nic4CRD8SqpN"
   },
   "outputs": [],
   "source": [
    "def get_event_data(df,start_year,end_year,n,level = 'yearly',countries = None):\n",
    "  if countries is None:\n",
    "    sub_df = df.copy()\n",
    "  else:\n",
    "    sub_df = df[df['Country'].isin(countries)]\n",
    "\n",
    "  sub_df = sub_df[(sub_df['year']<= end_year+n) & (sub_df['year']>=start_year-n)]\n",
    "  sub_df['date'] = pd.to_datetime(sub_df['date'],format = '%m/%d/%Y')\n",
    "  sub_df['half_year'] = sub_df['date'].dt.month // 7\n",
    "\n",
    "  if level == 'half_yearly':\n",
    "    grouping = ['Currency Name','Country','year','half_year']\n",
    "  else:\n",
    "    grouping = ['Currency Name','Country','year']\n",
    "\n",
    "  agg_data = sub_df.groupby(grouping).mean().reset_index()\n",
    "  agg_data.sort_values(grouping,inplace=True)\n",
    "  agg_data['lag_1'] = agg_data.groupby(['Currency Name','Country'])['exchange_rate'].transform(lambda x : x.shift())\n",
    "\n",
    "  if level == 'half_yearly':\n",
    "    agg_data['%change_wrt_previous_halfyear'] = (agg_data['exchange_rate']- agg_data['lag_1'])/agg_data['lag_1']\n",
    "    agg_data['year_halfyear'] = agg_data['year'].astype(str) + '_' + agg_data['half_year'].astype(str)\n",
    "  else:\n",
    "    agg_data['%change_wrt_previous'] = (agg_data['exchange_rate']- agg_data['lag_1'])/agg_data['lag_1']\n",
    "  return agg_data"
   ]
  },
  {
   "cell_type": "markdown",
   "metadata": {
    "id": "lGXZb-1ofYYI"
   },
   "source": [
    "### The Global Financial Crisis\n",
    "\n",
    "The 2008 financial crisis had a significant impact on global currency markets, and the value of the USD experienced fluctuations in response to the evolving economic and financial landscape. It is evident from graph that USD has initially strengthened due to \"safe-heaven\" sentiment till 2009 and started to depreciate in the aftermath of crisis."
   ]
  },
  {
   "cell_type": "code",
   "execution_count": 32,
   "metadata": {
    "colab": {
     "base_uri": "https://localhost:8080/"
    },
    "id": "POBuGr8GS2GH",
    "outputId": "b4b1b1f7-87d0-4632-eced-39f67fdc7972"
   },
   "outputs": [],
   "source": [
    "event_df_2008 = get_event_data(sub_df_1,2007,2009,3)"
   ]
  },
  {
   "cell_type": "code",
   "execution_count": 33,
   "metadata": {
    "colab": {
     "base_uri": "https://localhost:8080/",
     "height": 542
    },
    "id": "zqGlXziJgSw5",
    "outputId": "2cdfe96d-76fa-43ec-e62a-4d7adc7a83a9"
   },
   "outputs": [
    {
     "data": {
      "text/html": [
       "<div>                            <div id=\"810d13ef-1c09-410d-9529-5b4974841da6\" class=\"plotly-graph-div\" style=\"height:525px; width:100%;\"></div>            <script type=\"text/javascript\">                require([\"plotly\"], function(Plotly) {                    window.PLOTLYENV=window.PLOTLYENV || {};                                    if (document.getElementById(\"810d13ef-1c09-410d-9529-5b4974841da6\")) {                    Plotly.newPlot(                        \"810d13ef-1c09-410d-9529-5b4974841da6\",                        [{\"hovertemplate\":\"Currency Name=Australian Dollar<br>year=%{x}<br>%change_wrt_previous=%{y}<extra></extra>\",\"legendgroup\":\"Australian Dollar\",\"line\":{\"color\":\"#636efa\",\"dash\":\"solid\"},\"marker\":{\"symbol\":\"circle\"},\"mode\":\"markers+lines\",\"name\":\"Australian Dollar\",\"orientation\":\"v\",\"showlegend\":true,\"x\":[2005,2006,2007,2008,2009,2010,2011,2012],\"xaxis\":\"x\",\"y\":[null,0.011617044528647912,-0.1001193616101421,0.0009906039049777644,0.06959169639964964,-0.14757905858570866,-0.11069231022686221,-0.0035329026220830735],\"yaxis\":\"y\",\"type\":\"scatter\"},{\"hovertemplate\":\"Currency Name=Brazilian Real<br>year=%{x}<br>%change_wrt_previous=%{y}<extra></extra>\",\"legendgroup\":\"Brazilian Real\",\"line\":{\"color\":\"#EF553B\",\"dash\":\"solid\"},\"marker\":{\"symbol\":\"circle\"},\"mode\":\"markers+lines\",\"name\":\"Brazilian Real\",\"orientation\":\"v\",\"showlegend\":true,\"x\":[2005,2006,2007,2008,2009,2010,2011,2012],\"xaxis\":\"x\",\"y\":[null,-0.08198612057348419,-0.10405608662023186,-0.058148241695502284,0.08834661910552857,-0.11813495961317272,-0.05028032242662689,0.16863999115042522],\"yaxis\":\"y\",\"type\":\"scatter\"},{\"hovertemplate\":\"Currency Name=Canadian Dollar<br>year=%{x}<br>%change_wrt_previous=%{y}<extra></extra>\",\"legendgroup\":\"Canadian Dollar\",\"line\":{\"color\":\"#00cc96\",\"dash\":\"solid\"},\"marker\":{\"symbol\":\"circle\"},\"mode\":\"markers+lines\",\"name\":\"Canadian Dollar\",\"orientation\":\"v\",\"showlegend\":true,\"x\":[2005,2006,2007,2008,2009,2010,2011,2012],\"xaxis\":\"x\",\"y\":[null,-0.06353266334378403,-0.05374030467778528,-0.007025146744493611,0.06992754581153843,-0.0963123763019973,-0.03998384080525289,0.0107266448982932],\"yaxis\":\"y\",\"type\":\"scatter\"},{\"hovertemplate\":\"Currency Name=Euro<br>year=%{x}<br>%change_wrt_previous=%{y}<extra></extra>\",\"legendgroup\":\"Euro\",\"line\":{\"color\":\"#ab63fa\",\"dash\":\"solid\"},\"marker\":{\"symbol\":\"circle\"},\"mode\":\"markers+lines\",\"name\":\"Euro\",\"orientation\":\"v\",\"showlegend\":true,\"x\":[2005,2006,2007,2008,2009,2010,2011,2012,2005,2006,2007,2008,2009,2010,2011,2012,2005,2006,2007,2008,2009,2010,2011,2012,2005,2006,2007,2008,2009,2010,2011,2012,2005,2006,2007,2008,2009,2010,2011,2012],\"xaxis\":\"x\",\"y\":[null,-0.010419571498877454,-0.08283981036546229,-0.06569707644397854,0.053387155792186045,0.05066590412116881,-0.047952065308936725,0.08239578718897173,null,-0.010419571498877454,-0.08283981036546229,-0.06569707644397854,0.053387155792186045,0.05066590412116881,-0.047952065308936725,0.08239578718897173,null,-0.010419571498877454,-0.08283981036546229,-0.06569707644397854,0.053387155792186045,0.05066590412116881,-0.047952065308936725,0.08239578718897173,null,-0.010419571498877454,-0.08283981036546229,-0.06569707644397854,0.053387155792186045,0.05066590412116881,-0.047952065308936725,0.08239578718897173,null,-0.010419571498877454,-0.08283981036546229,-0.06569707644397854,0.053387155792186045,0.05066590412116881,-0.047952065308936725,0.08239578718897173],\"yaxis\":\"y\",\"type\":\"scatter\"},{\"hovertemplate\":\"Currency Name=Indian Rupee<br>year=%{x}<br>%change_wrt_previous=%{y}<extra></extra>\",\"legendgroup\":\"Indian Rupee\",\"line\":{\"color\":\"#FFA15A\",\"dash\":\"solid\"},\"marker\":{\"symbol\":\"circle\"},\"mode\":\"markers+lines\",\"name\":\"Indian Rupee\",\"orientation\":\"v\",\"showlegend\":true,\"x\":[2005,2006,2007,2008,2009,2010,2011,2012],\"xaxis\":\"x\",\"y\":[null,0.0259710309464482,-0.0876697964535647,0.05376323561122229,0.11231478310080738,-0.05484742555318932,0.020246096305566254,0.1465742341695984],\"yaxis\":\"y\",\"type\":\"scatter\"},{\"hovertemplate\":\"Currency Name=Mexican Peso<br>year=%{x}<br>%change_wrt_previous=%{y}<extra></extra>\",\"legendgroup\":\"Mexican Peso\",\"line\":{\"color\":\"#19d3f3\",\"dash\":\"solid\"},\"marker\":{\"symbol\":\"circle\"},\"mode\":\"markers+lines\",\"name\":\"Mexican Peso\",\"orientation\":\"v\",\"showlegend\":true,\"x\":[2005,2006,2007,2008,2009,2010,2011,2012],\"xaxis\":\"x\",\"y\":[null,-0.008897094897381067,-0.0025009941463509304,0.02426633328729536,0.21845486858311863,-0.06385363041894046,-0.010272889552106442,0.06242038630219419],\"yaxis\":\"y\",\"type\":\"scatter\"},{\"hovertemplate\":\"Currency Name=Pound Sterling<br>year=%{x}<br>%change_wrt_previous=%{y}<extra></extra>\",\"legendgroup\":\"Pound Sterling\",\"line\":{\"color\":\"#FF6692\",\"dash\":\"solid\"},\"marker\":{\"symbol\":\"circle\"},\"mode\":\"markers+lines\",\"name\":\"Pound Sterling\",\"orientation\":\"v\",\"showlegend\":true,\"x\":[2005,2006,2007,2008,2009,2010,2011,2012],\"xaxis\":\"x\",\"y\":[null,-0.01278877757483845,-0.07986647509715057,0.09014632979897161,0.1757765081462001,0.01076698264700108,-0.03619690931928832,0.011660969198384044],\"yaxis\":\"y\",\"type\":\"scatter\"},{\"hovertemplate\":\"Currency Name=Rupiah<br>year=%{x}<br>%change_wrt_previous=%{y}<extra></extra>\",\"legendgroup\":\"Rupiah\",\"line\":{\"color\":\"#B6E880\",\"dash\":\"solid\"},\"marker\":{\"symbol\":\"circle\"},\"mode\":\"markers+lines\",\"name\":\"Rupiah\",\"orientation\":\"v\",\"showlegend\":true,\"x\":[2005,2006,2007,2008,2009,2010,2011,2012],\"xaxis\":\"x\",\"y\":[null,-0.07935650116146148,-0.0006615611951056145,0.06818967700204896,0.08152089618979784,-0.12406060649187951,-0.032332004222143364,0.06852023996872206],\"yaxis\":\"y\",\"type\":\"scatter\"},{\"hovertemplate\":\"Currency Name=Russian Ruble<br>year=%{x}<br>%change_wrt_previous=%{y}<extra></extra>\",\"legendgroup\":\"Russian Ruble\",\"line\":{\"color\":\"#FF97FF\",\"dash\":\"solid\"},\"marker\":{\"symbol\":\"circle\"},\"mode\":\"markers+lines\",\"name\":\"Russian Ruble\",\"orientation\":\"v\",\"showlegend\":true,\"x\":[2005,2006,2007,2008,2009,2010,2011,2012],\"xaxis\":\"x\",\"y\":[null,-0.05284492747224124,-0.055358389149876466,-0.02957745934649487,0.2784038731776712,-0.039981118781598955,-0.036915345671315616,0.06219975679086879],\"yaxis\":\"y\",\"type\":\"scatter\"},{\"hovertemplate\":\"Currency Name=Saudi Riyal<br>year=%{x}<br>%change_wrt_previous=%{y}<extra></extra>\",\"legendgroup\":\"Saudi Riyal\",\"line\":{\"color\":\"#FECB52\",\"dash\":\"solid\"},\"marker\":{\"symbol\":\"circle\"},\"mode\":\"markers+lines\",\"name\":\"Saudi Riyal\",\"orientation\":\"v\",\"showlegend\":true,\"x\":[2005,2006,2007,2008,2009,2010,2011,2012],\"xaxis\":\"x\",\"y\":[null,-0.0004990766751946964,-0.0015020735484246894,-0.001890841007727815,0.0015713123035733573,0.0008681955856365059,0.0005459476631867245,-0.0004920994401226077],\"yaxis\":\"y\",\"type\":\"scatter\"},{\"hovertemplate\":\"Currency Name=Swiss Franc<br>year=%{x}<br>%change_wrt_previous=%{y}<extra></extra>\",\"legendgroup\":\"Swiss Franc\",\"line\":{\"color\":\"#636efa\",\"dash\":\"solid\"},\"marker\":{\"symbol\":\"circle\"},\"mode\":\"markers+lines\",\"name\":\"Swiss Franc\",\"orientation\":\"v\",\"showlegend\":true,\"x\":[2005,2006,2007,2008,2009,2010,2011,2012],\"xaxis\":\"x\",\"y\":[null,0.005470304618378762,-0.04230365267619761,-0.0992376263817238,0.003470928824360469,-0.03810595005144824,-0.14974367121293475,0.05761096829982392],\"yaxis\":\"y\",\"type\":\"scatter\"},{\"hovertemplate\":\"Currency Name=Turkish Lira<br>year=%{x}<br>%change_wrt_previous=%{y}<extra></extra>\",\"legendgroup\":\"Turkish Lira\",\"line\":{\"color\":\"#EF553B\",\"dash\":\"solid\"},\"marker\":{\"symbol\":\"circle\"},\"mode\":\"markers+lines\",\"name\":\"Turkish Lira\",\"orientation\":\"v\",\"showlegend\":true,\"x\":[2005,2006,2007,2008,2009,2010,2011,2012],\"xaxis\":\"x\",\"y\":[null,0.05507664742468237,-0.09203226639031012,0.008518603973322776,0.19530902340172535,-0.028962836728692556,0.11364243891991037,0.07299122252995795],\"yaxis\":\"y\",\"type\":\"scatter\"},{\"hovertemplate\":\"Currency Name=Won<br>year=%{x}<br>%change_wrt_previous=%{y}<extra></extra>\",\"legendgroup\":\"Won\",\"line\":{\"color\":\"#00cc96\",\"dash\":\"solid\"},\"marker\":{\"symbol\":\"circle\"},\"mode\":\"markers+lines\",\"name\":\"Won\",\"orientation\":\"v\",\"showlegend\":true,\"x\":[2005,2006,2007,2008,2009,2010,2011,2012],\"xaxis\":\"x\",\"y\":[null,-0.0767521043762332,-0.01804383480597496,0.18731690892601713,0.15915392927240743,-0.09244215481571214,-0.04257341538182265,0.017272992071454836],\"yaxis\":\"y\",\"type\":\"scatter\"},{\"hovertemplate\":\"Currency Name=Yen<br>year=%{x}<br>%change_wrt_previous=%{y}<extra></extra>\",\"legendgroup\":\"Yen\",\"line\":{\"color\":\"#ab63fa\",\"dash\":\"solid\"},\"marker\":{\"symbol\":\"circle\"},\"mode\":\"markers+lines\",\"name\":\"Yen\",\"orientation\":\"v\",\"showlegend\":true,\"x\":[2005,2006,2007,2008,2009,2010,2011,2012],\"xaxis\":\"x\",\"y\":[null,0.05618831656760518,0.012351544439184603,-0.12356648201731073,-0.09293963368944548,-0.0623104189193032,-0.09142723734160775,0.0008924330200328685],\"yaxis\":\"y\",\"type\":\"scatter\"},{\"hovertemplate\":\"Currency Name=Yuan Renminbi<br>year=%{x}<br>%change_wrt_previous=%{y}<extra></extra>\",\"legendgroup\":\"Yuan Renminbi\",\"line\":{\"color\":\"#FFA15A\",\"dash\":\"solid\"},\"marker\":{\"symbol\":\"circle\"},\"mode\":\"markers+lines\",\"name\":\"Yuan Renminbi\",\"orientation\":\"v\",\"showlegend\":true,\"x\":[2005,2006,2007,2008,2009,2010,2011,2012],\"xaxis\":\"x\",\"y\":[null,-0.027514956751997593,-0.04417257252526383,-0.08760646678180704,-0.01742313426426544,-0.00742213933159078,-0.044900500240609216,-0.02411522536511072],\"yaxis\":\"y\",\"type\":\"scatter\"},{\"hovertemplate\":\"Currency Name=Zloty<br>year=%{x}<br>%change_wrt_previous=%{y}<extra></extra>\",\"legendgroup\":\"Zloty\",\"line\":{\"color\":\"#19d3f3\",\"dash\":\"solid\"},\"marker\":{\"symbol\":\"circle\"},\"mode\":\"markers+lines\",\"name\":\"Zloty\",\"orientation\":\"v\",\"showlegend\":true,\"x\":[2005,2006,2007,2008,2009,2010,2011,2012],\"xaxis\":\"x\",\"y\":[null,-0.04301930513262145,-0.107259012466103,-0.13007233230008297,0.29514831632347654,-0.031169174758210433,-0.017501929357205535,0.09842327380936815],\"yaxis\":\"y\",\"type\":\"scatter\"}],                        {\"template\":{\"data\":{\"bar\":[{\"error_x\":{\"color\":\"#2a3f5f\"},\"error_y\":{\"color\":\"#2a3f5f\"},\"marker\":{\"line\":{\"color\":\"#E5ECF6\",\"width\":0.5},\"pattern\":{\"fillmode\":\"overlay\",\"size\":10,\"solidity\":0.2}},\"type\":\"bar\"}],\"barpolar\":[{\"marker\":{\"line\":{\"color\":\"#E5ECF6\",\"width\":0.5},\"pattern\":{\"fillmode\":\"overlay\",\"size\":10,\"solidity\":0.2}},\"type\":\"barpolar\"}],\"carpet\":[{\"aaxis\":{\"endlinecolor\":\"#2a3f5f\",\"gridcolor\":\"white\",\"linecolor\":\"white\",\"minorgridcolor\":\"white\",\"startlinecolor\":\"#2a3f5f\"},\"baxis\":{\"endlinecolor\":\"#2a3f5f\",\"gridcolor\":\"white\",\"linecolor\":\"white\",\"minorgridcolor\":\"white\",\"startlinecolor\":\"#2a3f5f\"},\"type\":\"carpet\"}],\"choropleth\":[{\"colorbar\":{\"outlinewidth\":0,\"ticks\":\"\"},\"type\":\"choropleth\"}],\"contour\":[{\"colorbar\":{\"outlinewidth\":0,\"ticks\":\"\"},\"colorscale\":[[0.0,\"#0d0887\"],[0.1111111111111111,\"#46039f\"],[0.2222222222222222,\"#7201a8\"],[0.3333333333333333,\"#9c179e\"],[0.4444444444444444,\"#bd3786\"],[0.5555555555555556,\"#d8576b\"],[0.6666666666666666,\"#ed7953\"],[0.7777777777777778,\"#fb9f3a\"],[0.8888888888888888,\"#fdca26\"],[1.0,\"#f0f921\"]],\"type\":\"contour\"}],\"contourcarpet\":[{\"colorbar\":{\"outlinewidth\":0,\"ticks\":\"\"},\"type\":\"contourcarpet\"}],\"heatmap\":[{\"colorbar\":{\"outlinewidth\":0,\"ticks\":\"\"},\"colorscale\":[[0.0,\"#0d0887\"],[0.1111111111111111,\"#46039f\"],[0.2222222222222222,\"#7201a8\"],[0.3333333333333333,\"#9c179e\"],[0.4444444444444444,\"#bd3786\"],[0.5555555555555556,\"#d8576b\"],[0.6666666666666666,\"#ed7953\"],[0.7777777777777778,\"#fb9f3a\"],[0.8888888888888888,\"#fdca26\"],[1.0,\"#f0f921\"]],\"type\":\"heatmap\"}],\"heatmapgl\":[{\"colorbar\":{\"outlinewidth\":0,\"ticks\":\"\"},\"colorscale\":[[0.0,\"#0d0887\"],[0.1111111111111111,\"#46039f\"],[0.2222222222222222,\"#7201a8\"],[0.3333333333333333,\"#9c179e\"],[0.4444444444444444,\"#bd3786\"],[0.5555555555555556,\"#d8576b\"],[0.6666666666666666,\"#ed7953\"],[0.7777777777777778,\"#fb9f3a\"],[0.8888888888888888,\"#fdca26\"],[1.0,\"#f0f921\"]],\"type\":\"heatmapgl\"}],\"histogram\":[{\"marker\":{\"pattern\":{\"fillmode\":\"overlay\",\"size\":10,\"solidity\":0.2}},\"type\":\"histogram\"}],\"histogram2d\":[{\"colorbar\":{\"outlinewidth\":0,\"ticks\":\"\"},\"colorscale\":[[0.0,\"#0d0887\"],[0.1111111111111111,\"#46039f\"],[0.2222222222222222,\"#7201a8\"],[0.3333333333333333,\"#9c179e\"],[0.4444444444444444,\"#bd3786\"],[0.5555555555555556,\"#d8576b\"],[0.6666666666666666,\"#ed7953\"],[0.7777777777777778,\"#fb9f3a\"],[0.8888888888888888,\"#fdca26\"],[1.0,\"#f0f921\"]],\"type\":\"histogram2d\"}],\"histogram2dcontour\":[{\"colorbar\":{\"outlinewidth\":0,\"ticks\":\"\"},\"colorscale\":[[0.0,\"#0d0887\"],[0.1111111111111111,\"#46039f\"],[0.2222222222222222,\"#7201a8\"],[0.3333333333333333,\"#9c179e\"],[0.4444444444444444,\"#bd3786\"],[0.5555555555555556,\"#d8576b\"],[0.6666666666666666,\"#ed7953\"],[0.7777777777777778,\"#fb9f3a\"],[0.8888888888888888,\"#fdca26\"],[1.0,\"#f0f921\"]],\"type\":\"histogram2dcontour\"}],\"mesh3d\":[{\"colorbar\":{\"outlinewidth\":0,\"ticks\":\"\"},\"type\":\"mesh3d\"}],\"parcoords\":[{\"line\":{\"colorbar\":{\"outlinewidth\":0,\"ticks\":\"\"}},\"type\":\"parcoords\"}],\"pie\":[{\"automargin\":true,\"type\":\"pie\"}],\"scatter\":[{\"marker\":{\"colorbar\":{\"outlinewidth\":0,\"ticks\":\"\"}},\"type\":\"scatter\"}],\"scatter3d\":[{\"line\":{\"colorbar\":{\"outlinewidth\":0,\"ticks\":\"\"}},\"marker\":{\"colorbar\":{\"outlinewidth\":0,\"ticks\":\"\"}},\"type\":\"scatter3d\"}],\"scattercarpet\":[{\"marker\":{\"colorbar\":{\"outlinewidth\":0,\"ticks\":\"\"}},\"type\":\"scattercarpet\"}],\"scattergeo\":[{\"marker\":{\"colorbar\":{\"outlinewidth\":0,\"ticks\":\"\"}},\"type\":\"scattergeo\"}],\"scattergl\":[{\"marker\":{\"colorbar\":{\"outlinewidth\":0,\"ticks\":\"\"}},\"type\":\"scattergl\"}],\"scattermapbox\":[{\"marker\":{\"colorbar\":{\"outlinewidth\":0,\"ticks\":\"\"}},\"type\":\"scattermapbox\"}],\"scatterpolar\":[{\"marker\":{\"colorbar\":{\"outlinewidth\":0,\"ticks\":\"\"}},\"type\":\"scatterpolar\"}],\"scatterpolargl\":[{\"marker\":{\"colorbar\":{\"outlinewidth\":0,\"ticks\":\"\"}},\"type\":\"scatterpolargl\"}],\"scatterternary\":[{\"marker\":{\"colorbar\":{\"outlinewidth\":0,\"ticks\":\"\"}},\"type\":\"scatterternary\"}],\"surface\":[{\"colorbar\":{\"outlinewidth\":0,\"ticks\":\"\"},\"colorscale\":[[0.0,\"#0d0887\"],[0.1111111111111111,\"#46039f\"],[0.2222222222222222,\"#7201a8\"],[0.3333333333333333,\"#9c179e\"],[0.4444444444444444,\"#bd3786\"],[0.5555555555555556,\"#d8576b\"],[0.6666666666666666,\"#ed7953\"],[0.7777777777777778,\"#fb9f3a\"],[0.8888888888888888,\"#fdca26\"],[1.0,\"#f0f921\"]],\"type\":\"surface\"}],\"table\":[{\"cells\":{\"fill\":{\"color\":\"#EBF0F8\"},\"line\":{\"color\":\"white\"}},\"header\":{\"fill\":{\"color\":\"#C8D4E3\"},\"line\":{\"color\":\"white\"}},\"type\":\"table\"}]},\"layout\":{\"annotationdefaults\":{\"arrowcolor\":\"#2a3f5f\",\"arrowhead\":0,\"arrowwidth\":1},\"autotypenumbers\":\"strict\",\"coloraxis\":{\"colorbar\":{\"outlinewidth\":0,\"ticks\":\"\"}},\"colorscale\":{\"diverging\":[[0,\"#8e0152\"],[0.1,\"#c51b7d\"],[0.2,\"#de77ae\"],[0.3,\"#f1b6da\"],[0.4,\"#fde0ef\"],[0.5,\"#f7f7f7\"],[0.6,\"#e6f5d0\"],[0.7,\"#b8e186\"],[0.8,\"#7fbc41\"],[0.9,\"#4d9221\"],[1,\"#276419\"]],\"sequential\":[[0.0,\"#0d0887\"],[0.1111111111111111,\"#46039f\"],[0.2222222222222222,\"#7201a8\"],[0.3333333333333333,\"#9c179e\"],[0.4444444444444444,\"#bd3786\"],[0.5555555555555556,\"#d8576b\"],[0.6666666666666666,\"#ed7953\"],[0.7777777777777778,\"#fb9f3a\"],[0.8888888888888888,\"#fdca26\"],[1.0,\"#f0f921\"]],\"sequentialminus\":[[0.0,\"#0d0887\"],[0.1111111111111111,\"#46039f\"],[0.2222222222222222,\"#7201a8\"],[0.3333333333333333,\"#9c179e\"],[0.4444444444444444,\"#bd3786\"],[0.5555555555555556,\"#d8576b\"],[0.6666666666666666,\"#ed7953\"],[0.7777777777777778,\"#fb9f3a\"],[0.8888888888888888,\"#fdca26\"],[1.0,\"#f0f921\"]]},\"colorway\":[\"#636efa\",\"#EF553B\",\"#00cc96\",\"#ab63fa\",\"#FFA15A\",\"#19d3f3\",\"#FF6692\",\"#B6E880\",\"#FF97FF\",\"#FECB52\"],\"font\":{\"color\":\"#2a3f5f\"},\"geo\":{\"bgcolor\":\"white\",\"lakecolor\":\"white\",\"landcolor\":\"#E5ECF6\",\"showlakes\":true,\"showland\":true,\"subunitcolor\":\"white\"},\"hoverlabel\":{\"align\":\"left\"},\"hovermode\":\"closest\",\"mapbox\":{\"style\":\"light\"},\"paper_bgcolor\":\"white\",\"plot_bgcolor\":\"#E5ECF6\",\"polar\":{\"angularaxis\":{\"gridcolor\":\"white\",\"linecolor\":\"white\",\"ticks\":\"\"},\"bgcolor\":\"#E5ECF6\",\"radialaxis\":{\"gridcolor\":\"white\",\"linecolor\":\"white\",\"ticks\":\"\"}},\"scene\":{\"xaxis\":{\"backgroundcolor\":\"#E5ECF6\",\"gridcolor\":\"white\",\"gridwidth\":2,\"linecolor\":\"white\",\"showbackground\":true,\"ticks\":\"\",\"zerolinecolor\":\"white\"},\"yaxis\":{\"backgroundcolor\":\"#E5ECF6\",\"gridcolor\":\"white\",\"gridwidth\":2,\"linecolor\":\"white\",\"showbackground\":true,\"ticks\":\"\",\"zerolinecolor\":\"white\"},\"zaxis\":{\"backgroundcolor\":\"#E5ECF6\",\"gridcolor\":\"white\",\"gridwidth\":2,\"linecolor\":\"white\",\"showbackground\":true,\"ticks\":\"\",\"zerolinecolor\":\"white\"}},\"shapedefaults\":{\"line\":{\"color\":\"#2a3f5f\"}},\"ternary\":{\"aaxis\":{\"gridcolor\":\"white\",\"linecolor\":\"white\",\"ticks\":\"\"},\"baxis\":{\"gridcolor\":\"white\",\"linecolor\":\"white\",\"ticks\":\"\"},\"bgcolor\":\"#E5ECF6\",\"caxis\":{\"gridcolor\":\"white\",\"linecolor\":\"white\",\"ticks\":\"\"}},\"title\":{\"x\":0.05},\"xaxis\":{\"automargin\":true,\"gridcolor\":\"white\",\"linecolor\":\"white\",\"ticks\":\"\",\"title\":{\"standoff\":15},\"zerolinecolor\":\"white\",\"zerolinewidth\":2},\"yaxis\":{\"automargin\":true,\"gridcolor\":\"white\",\"linecolor\":\"white\",\"ticks\":\"\",\"title\":{\"standoff\":15},\"zerolinecolor\":\"white\",\"zerolinewidth\":2}}},\"xaxis\":{\"anchor\":\"y\",\"domain\":[0.0,1.0],\"title\":{\"text\":\"year\"}},\"yaxis\":{\"anchor\":\"x\",\"domain\":[0.0,1.0],\"title\":{\"text\":\"%change_wrt_previous\"}},\"legend\":{\"title\":{\"text\":\"Currency Name\"},\"tracegroupgap\":0},\"margin\":{\"t\":60}},                        {\"responsive\": true}                    ).then(function(){\n",
       "                            \n",
       "var gd = document.getElementById('810d13ef-1c09-410d-9529-5b4974841da6');\n",
       "var x = new MutationObserver(function (mutations, observer) {{\n",
       "        var display = window.getComputedStyle(gd).display;\n",
       "        if (!display || display === 'none') {{\n",
       "            console.log([gd, 'removed!']);\n",
       "            Plotly.purge(gd);\n",
       "            observer.disconnect();\n",
       "        }}\n",
       "}});\n",
       "\n",
       "// Listen for the removal of the full notebook cells\n",
       "var notebookContainer = gd.closest('#notebook-container');\n",
       "if (notebookContainer) {{\n",
       "    x.observe(notebookContainer, {childList: true});\n",
       "}}\n",
       "\n",
       "// Listen for the clearing of the current output cell\n",
       "var outputEl = gd.closest('.output');\n",
       "if (outputEl) {{\n",
       "    x.observe(outputEl, {childList: true});\n",
       "}}\n",
       "\n",
       "                        })                };                });            </script>        </div>"
      ]
     },
     "metadata": {},
     "output_type": "display_data"
    }
   ],
   "source": [
    "fig = px.line(event_df_2008, x=\"year\", y=\"%change_wrt_previous\", color='Currency Name',markers= True)\n",
    "fig.show()"
   ]
  },
  {
   "cell_type": "markdown",
   "metadata": {
    "id": "QPHQsDrUhaz7"
   },
   "source": [
    "### The Covid Pandemic\n",
    "\n",
    "The COVID-19 pandemic had a profound impact on foreign exchange (forex) rates, leading to significant fluctuations and changes in currency values.\n",
    "\n",
    "During times of crisis, US-based multinational corporations and investors epatriated funds from abroad. This involves converting foreign currencies into USD, increasing the demand for the US Dollar and contributing to its appreciation in its early stages.\n",
    "\n",
    "Another interesting insight from the graph is that USD started to depreciate in later stages of COVID. This can be attributed to \"Risk Appetite\". Improved market sentiment and risk appetite led investors to seek higher-yielding assets in other currencies and markets. As investors moved away from the safety of the USD, it put downward pressure on its value leading to its depeciation."
   ]
  },
  {
   "cell_type": "code",
   "execution_count": 34,
   "metadata": {
    "colab": {
     "base_uri": "https://localhost:8080/"
    },
    "id": "QQF2EgqnhpzV",
    "outputId": "4ec33da6-9976-4e21-c5ea-f32d26b1e3fd"
   },
   "outputs": [],
   "source": [
    "event_df_covid = get_event_data(sub_df_1,2020,2021,1,level = 'half_yearly')"
   ]
  },
  {
   "cell_type": "code",
   "execution_count": 35,
   "metadata": {
    "colab": {
     "base_uri": "https://localhost:8080/",
     "height": 542
    },
    "id": "AbQqqGVvTfeF",
    "outputId": "019ad27a-7e00-41d2-f12f-ba1aa68a4782"
   },
   "outputs": [
    {
     "data": {
      "text/html": [
       "<div>                            <div id=\"63765572-f149-4c2c-b278-35b5a704aea3\" class=\"plotly-graph-div\" style=\"height:525px; width:100%;\"></div>            <script type=\"text/javascript\">                require([\"plotly\"], function(Plotly) {                    window.PLOTLYENV=window.PLOTLYENV || {};                                    if (document.getElementById(\"63765572-f149-4c2c-b278-35b5a704aea3\")) {                    Plotly.newPlot(                        \"63765572-f149-4c2c-b278-35b5a704aea3\",                        [{\"hovertemplate\":\"Currency Name=Australian Dollar<br>year_halfyear=%{x}<br>%change_wrt_previous_halfyear=%{y}<extra></extra>\",\"legendgroup\":\"Australian Dollar\",\"line\":{\"color\":\"#636efa\",\"dash\":\"solid\"},\"marker\":{\"symbol\":\"circle\"},\"mode\":\"markers+lines\",\"name\":\"Australian Dollar\",\"orientation\":\"v\",\"showlegend\":true,\"x\":[\"2019_0\",\"2019_1\",\"2020_0\",\"2020_1\",\"2021_0\",\"2021_1\",\"2022_0\",\"2022_1\"],\"xaxis\":\"x\",\"y\":[null,0.03132708455600353,0.04254672109954806,-0.09166999330978311,-0.06243560756413276,0.054017987932690116,0.017231330955940836,0.07328044692020214],\"yaxis\":\"y\",\"type\":\"scatter\"},{\"hovertemplate\":\"Currency Name=Brazilian Real<br>year_halfyear=%{x}<br>%change_wrt_previous_halfyear=%{y}<extra></extra>\",\"legendgroup\":\"Brazilian Real\",\"line\":{\"color\":\"#EF553B\",\"dash\":\"solid\"},\"marker\":{\"symbol\":\"circle\"},\"mode\":\"markers+lines\",\"name\":\"Brazilian Real\",\"orientation\":\"v\",\"showlegend\":true,\"x\":[\"2019_0\",\"2019_1\",\"2020_0\",\"2020_1\",\"2021_0\",\"2021_1\",\"2022_0\",\"2022_1\"],\"xaxis\":\"x\",\"y\":[null,0.05150990652233481,0.2139804186956883,0.09938456204316555,-0.0003942496551736601,0.0030745178462766023,-0.06167350576284264,0.03521929008150212],\"yaxis\":\"y\",\"type\":\"scatter\"},{\"hovertemplate\":\"Currency Name=Canadian Dollar<br>year_halfyear=%{x}<br>%change_wrt_previous_halfyear=%{y}<extra></extra>\",\"legendgroup\":\"Canadian Dollar\",\"line\":{\"color\":\"#00cc96\",\"dash\":\"solid\"},\"marker\":{\"symbol\":\"circle\"},\"mode\":\"markers+lines\",\"name\":\"Canadian Dollar\",\"orientation\":\"v\",\"showlegend\":true,\"x\":[\"2019_0\",\"2019_1\",\"2020_0\",\"2020_1\",\"2021_0\",\"2021_1\",\"2022_0\",\"2022_1\"],\"xaxis\":\"x\",\"y\":[null,-0.010597564489054136,0.03397516715670368,-0.03435471297629898,-0.053395717183175484,0.010028263329193628,0.009163967012055936,0.04728179088279909],\"yaxis\":\"y\",\"type\":\"scatter\"},{\"hovertemplate\":\"Currency Name=Euro<br>year_halfyear=%{x}<br>%change_wrt_previous_halfyear=%{y}<extra></extra>\",\"legendgroup\":\"Euro\",\"line\":{\"color\":\"#ab63fa\",\"dash\":\"solid\"},\"marker\":{\"symbol\":\"circle\"},\"mode\":\"markers+lines\",\"name\":\"Euro\",\"orientation\":\"v\",\"showlegend\":true,\"x\":[\"2019_0\",\"2019_1\",\"2020_0\",\"2020_1\",\"2021_0\",\"2021_1\",\"2022_0\",\"2022_1\",\"2019_0\",\"2019_1\",\"2020_0\",\"2020_1\",\"2021_0\",\"2021_1\",\"2022_0\",\"2022_1\",\"2019_0\",\"2019_1\",\"2020_0\",\"2020_1\",\"2021_0\",\"2021_1\",\"2022_0\",\"2022_1\",\"2019_0\",\"2019_1\",\"2020_0\",\"2020_1\",\"2021_0\",\"2021_1\",\"2022_0\",\"2022_1\",\"2019_0\",\"2019_1\",\"2020_0\",\"2020_1\",\"2021_0\",\"2021_1\",\"2022_0\",\"2022_1\"],\"xaxis\":\"x\",\"y\":[null,0.017803458664258566,0.00705147591480555,-0.06650395367488678,-0.02023397151098683,0.03797342182579033,0.06270974518107028,0.07716875757202592,null,0.017803458664258566,0.00705147591480555,-0.06650395367488678,-0.02023397151098683,0.03797342182579033,0.06270974518107028,0.07716875757202592,null,0.017803458664258566,0.00705147591480555,-0.06650395367488678,-0.02023397151098683,0.03797342182579033,0.06270974518107028,0.07716875757202592,null,0.017803458664258566,0.00705147591480555,-0.06650395367488678,-0.02023397151098683,0.03797342182579033,0.06270974518107028,0.07716875757202592,null,0.017803458664258566,0.00705147591480555,-0.06650395367488678,-0.02023397151098683,0.03797342182579033,0.06270974518107028,0.07716875757202592],\"yaxis\":\"y\",\"type\":\"scatter\"},{\"hovertemplate\":\"Currency Name=Indian Rupee<br>year_halfyear=%{x}<br>%change_wrt_previous_halfyear=%{y}<extra></extra>\",\"legendgroup\":\"Indian Rupee\",\"line\":{\"color\":\"#FFA15A\",\"dash\":\"solid\"},\"marker\":{\"symbol\":\"circle\"},\"mode\":\"markers+lines\",\"name\":\"Indian Rupee\",\"orientation\":\"v\",\"showlegend\":true,\"x\":[\"2019_0\",\"2019_1\",\"2020_0\",\"2020_1\",\"2021_0\",\"2021_1\",\"2022_0\",\"2022_1\"],\"xaxis\":\"x\",\"y\":[null,0.01138063773841831,0.047482492702421795,0.0001458698575748813,-0.010051174753521366,0.015696941488104552,0.022775893377323178,0.0619632584351896],\"yaxis\":\"y\",\"type\":\"scatter\"},{\"hovertemplate\":\"Currency Name=Mexican Peso<br>year_halfyear=%{x}<br>%change_wrt_previous_halfyear=%{y}<extra></extra>\",\"legendgroup\":\"Mexican Peso\",\"line\":{\"color\":\"#19d3f3\",\"dash\":\"solid\"},\"marker\":{\"symbol\":\"circle\"},\"mode\":\"markers+lines\",\"name\":\"Mexican Peso\",\"orientation\":\"v\",\"showlegend\":true,\"x\":[\"2019_0\",\"2019_1\",\"2020_0\",\"2020_1\",\"2021_0\",\"2021_1\",\"2022_0\",\"2022_1\"],\"xaxis\":\"x\",\"y\":[null,0.009005624877344754,0.1191232941805002,-0.015697287284855112,-0.05223571126368183,0.009283953362239718,-0.0059796103167735655,-0.015228932592911552],\"yaxis\":\"y\",\"type\":\"scatter\"},{\"hovertemplate\":\"Currency Name=Pound Sterling<br>year_halfyear=%{x}<br>%change_wrt_previous_halfyear=%{y}<extra></extra>\",\"legendgroup\":\"Pound Sterling\",\"line\":{\"color\":\"#FF6692\",\"dash\":\"solid\"},\"marker\":{\"symbol\":\"circle\"},\"mode\":\"markers+lines\",\"name\":\"Pound Sterling\",\"orientation\":\"v\",\"showlegend\":true,\"x\":[\"2019_0\",\"2019_1\",\"2020_0\",\"2020_1\",\"2021_0\",\"2021_1\",\"2022_0\",\"2022_1\"],\"xaxis\":\"x\",\"y\":[null,0.026949675255890888,-0.00030577822595653965,-0.0352474064654969,-0.059097817590281015,0.01864402647728653,0.05080080316234801,0.10416068011071873],\"yaxis\":\"y\",\"type\":\"scatter\"},{\"hovertemplate\":\"Currency Name=Rupiah<br>year_halfyear=%{x}<br>%change_wrt_previous_halfyear=%{y}<extra></extra>\",\"legendgroup\":\"Rupiah\",\"line\":{\"color\":\"#B6E880\",\"dash\":\"solid\"},\"marker\":{\"symbol\":\"circle\"},\"mode\":\"markers+lines\",\"name\":\"Rupiah\",\"orientation\":\"v\",\"showlegend\":true,\"x\":[\"2019_0\",\"2019_1\",\"2020_0\",\"2020_1\",\"2021_0\",\"2021_1\",\"2022_0\",\"2022_1\"],\"xaxis\":\"x\",\"y\":[null,-0.008147814228291424,0.021011130440311186,0.013281592893141847,-0.015796180988401843,0.0019095022307297725,0.008714178072449796,0.054333765037595634],\"yaxis\":\"y\",\"type\":\"scatter\"},{\"hovertemplate\":\"Currency Name=Russian Ruble<br>year_halfyear=%{x}<br>%change_wrt_previous_halfyear=%{y}<extra></extra>\",\"legendgroup\":\"Russian Ruble\",\"line\":{\"color\":\"#FF97FF\",\"dash\":\"solid\"},\"marker\":{\"symbol\":\"circle\"},\"mode\":\"markers+lines\",\"name\":\"Russian Ruble\",\"orientation\":\"v\",\"showlegend\":true,\"x\":[\"2019_0\",\"2019_1\",\"2020_0\",\"2020_1\",\"2021_0\",\"2021_1\",\"2022_0\",\"2022_1\"],\"xaxis\":\"x\",\"y\":[null,-0.01749947232269548,0.08470326170347,0.07753418339686192,-0.008467806666562796,-0.01693532635319682,0.06991987990317221,-0.21193550590325733],\"yaxis\":\"y\",\"type\":\"scatter\"},{\"hovertemplate\":\"Currency Name=Saudi Riyal<br>year_halfyear=%{x}<br>%change_wrt_previous_halfyear=%{y}<extra></extra>\",\"legendgroup\":\"Saudi Riyal\",\"line\":{\"color\":\"#FECB52\",\"dash\":\"solid\"},\"marker\":{\"symbol\":\"circle\"},\"mode\":\"markers+lines\",\"name\":\"Saudi Riyal\",\"orientation\":\"v\",\"showlegend\":true,\"x\":[\"2019_0\",\"2019_1\",\"2020_0\",\"2020_1\",\"2021_0\",\"2021_1\",\"2022_0\",\"2022_1\"],\"xaxis\":\"x\",\"y\":[null,-6.178194581210912e-05,0.0015435515812257973,-6.406435293600302e-05,-6.865814772261029e-05,-0.00014429668437906907,2.9974822050723995e-05,0.0016887270624765971],\"yaxis\":\"y\",\"type\":\"scatter\"},{\"hovertemplate\":\"Currency Name=Swiss Franc<br>year_halfyear=%{x}<br>%change_wrt_previous_halfyear=%{y}<extra></extra>\",\"legendgroup\":\"Swiss Franc\",\"line\":{\"color\":\"#636efa\",\"dash\":\"solid\"},\"marker\":{\"symbol\":\"circle\"},\"mode\":\"markers+lines\",\"name\":\"Swiss Franc\",\"orientation\":\"v\",\"showlegend\":true,\"x\":[\"2019_0\",\"2019_1\",\"2020_0\",\"2020_1\",\"2021_0\",\"2021_1\",\"2022_0\",\"2022_1\"],\"xaxis\":\"x\",\"y\":[null,-0.012033881659167146,-0.022040169666887297,-0.05592500828842178,-0.0038036222959523997,0.012762494366675894,0.026645065678482523,0.021710824187603714],\"yaxis\":\"y\",\"type\":\"scatter\"},{\"hovertemplate\":\"Currency Name=Turkish Lira<br>year_halfyear=%{x}<br>%change_wrt_previous_halfyear=%{y}<extra></extra>\",\"legendgroup\":\"Turkish Lira\",\"line\":{\"color\":\"#EF553B\",\"dash\":\"solid\"},\"marker\":{\"symbol\":\"circle\"},\"mode\":\"markers+lines\",\"name\":\"Turkish Lira\",\"orientation\":\"v\",\"showlegend\":true,\"x\":[\"2019_0\",\"2019_1\",\"2020_0\",\"2020_1\",\"2021_0\",\"2021_1\",\"2022_0\",\"2022_1\"],\"xaxis\":\"x\",\"y\":[null,0.019373255175471144,0.13050151922357603,0.1654425364416099,0.0477099662049882,0.2461445740658987,0.5065496970092777,0.22946820443859187],\"yaxis\":\"y\",\"type\":\"scatter\"},{\"hovertemplate\":\"Currency Name=Won<br>year_halfyear=%{x}<br>%change_wrt_previous_halfyear=%{y}<extra></extra>\",\"legendgroup\":\"Won\",\"line\":{\"color\":\"#00cc96\",\"dash\":\"solid\"},\"marker\":{\"symbol\":\"circle\"},\"mode\":\"markers+lines\",\"name\":\"Won\",\"orientation\":\"v\",\"showlegend\":true,\"x\":[\"2019_0\",\"2019_1\",\"2020_0\",\"2020_1\",\"2021_0\",\"2021_1\",\"2022_0\",\"2022_1\"],\"xaxis\":\"x\",\"y\":[null,0.033599084605672,0.01852461156240583,-0.0427785103101485,-0.03057371239999909,0.04794626921210706,0.05229250748546171,0.09393541982759583],\"yaxis\":\"y\",\"type\":\"scatter\"},{\"hovertemplate\":\"Currency Name=Yen<br>year_halfyear=%{x}<br>%change_wrt_previous_halfyear=%{y}<extra></extra>\",\"legendgroup\":\"Yen\",\"line\":{\"color\":\"#ab63fa\",\"dash\":\"solid\"},\"marker\":{\"symbol\":\"circle\"},\"mode\":\"markers+lines\",\"name\":\"Yen\",\"orientation\":\"v\",\"showlegend\":true,\"x\":[\"2019_0\",\"2019_1\",\"2020_0\",\"2020_1\",\"2021_0\",\"2021_1\",\"2022_0\",\"2022_1\"],\"xaxis\":\"x\",\"y\":[null,-0.018346881103599312,0.002465847178760247,-0.02754030769147653,0.023514217706265782,0.03778635389694358,0.0997359696240727,0.1356301141331094],\"yaxis\":\"y\",\"type\":\"scatter\"},{\"hovertemplate\":\"Currency Name=Yuan Renminbi<br>year_halfyear=%{x}<br>%change_wrt_previous_halfyear=%{y}<extra></extra>\",\"legendgroup\":\"Yuan Renminbi\",\"line\":{\"color\":\"#FFA15A\",\"dash\":\"solid\"},\"marker\":{\"symbol\":\"circle\"},\"mode\":\"markers+lines\",\"name\":\"Yuan Renminbi\",\"orientation\":\"v\",\"showlegend\":true,\"x\":[\"2019_0\",\"2019_1\",\"2020_0\",\"2020_1\",\"2021_0\",\"2021_1\",\"2022_0\",\"2022_1\"],\"xaxis\":\"x\",\"y\":[null,0.03594638595748655,0.0008773752999530258,-0.0362636412124802,-0.04416042145104299,-0.0064400268077387576,0.007154080681332942,0.07692183370895728],\"yaxis\":\"y\",\"type\":\"scatter\"},{\"hovertemplate\":\"Currency Name=Zloty<br>year_halfyear=%{x}<br>%change_wrt_previous_halfyear=%{y}<extra></extra>\",\"legendgroup\":\"Zloty\",\"line\":{\"color\":\"#19d3f3\",\"dash\":\"solid\"},\"marker\":{\"symbol\":\"circle\"},\"mode\":\"markers+lines\",\"name\":\"Zloty\",\"orientation\":\"v\",\"showlegend\":true,\"x\":[\"2019_0\",\"2019_1\",\"2020_0\",\"2020_1\",\"2021_0\",\"2021_1\",\"2022_0\",\"2022_1\"],\"xaxis\":\"x\",\"y\":[null,0.020569789506540426,0.033169969618220885,-0.05393445751004582,-0.0059838271365975386,0.05014291555893354,0.07293897208155244,0.099558655714451],\"yaxis\":\"y\",\"type\":\"scatter\"}],                        {\"template\":{\"data\":{\"bar\":[{\"error_x\":{\"color\":\"#2a3f5f\"},\"error_y\":{\"color\":\"#2a3f5f\"},\"marker\":{\"line\":{\"color\":\"#E5ECF6\",\"width\":0.5},\"pattern\":{\"fillmode\":\"overlay\",\"size\":10,\"solidity\":0.2}},\"type\":\"bar\"}],\"barpolar\":[{\"marker\":{\"line\":{\"color\":\"#E5ECF6\",\"width\":0.5},\"pattern\":{\"fillmode\":\"overlay\",\"size\":10,\"solidity\":0.2}},\"type\":\"barpolar\"}],\"carpet\":[{\"aaxis\":{\"endlinecolor\":\"#2a3f5f\",\"gridcolor\":\"white\",\"linecolor\":\"white\",\"minorgridcolor\":\"white\",\"startlinecolor\":\"#2a3f5f\"},\"baxis\":{\"endlinecolor\":\"#2a3f5f\",\"gridcolor\":\"white\",\"linecolor\":\"white\",\"minorgridcolor\":\"white\",\"startlinecolor\":\"#2a3f5f\"},\"type\":\"carpet\"}],\"choropleth\":[{\"colorbar\":{\"outlinewidth\":0,\"ticks\":\"\"},\"type\":\"choropleth\"}],\"contour\":[{\"colorbar\":{\"outlinewidth\":0,\"ticks\":\"\"},\"colorscale\":[[0.0,\"#0d0887\"],[0.1111111111111111,\"#46039f\"],[0.2222222222222222,\"#7201a8\"],[0.3333333333333333,\"#9c179e\"],[0.4444444444444444,\"#bd3786\"],[0.5555555555555556,\"#d8576b\"],[0.6666666666666666,\"#ed7953\"],[0.7777777777777778,\"#fb9f3a\"],[0.8888888888888888,\"#fdca26\"],[1.0,\"#f0f921\"]],\"type\":\"contour\"}],\"contourcarpet\":[{\"colorbar\":{\"outlinewidth\":0,\"ticks\":\"\"},\"type\":\"contourcarpet\"}],\"heatmap\":[{\"colorbar\":{\"outlinewidth\":0,\"ticks\":\"\"},\"colorscale\":[[0.0,\"#0d0887\"],[0.1111111111111111,\"#46039f\"],[0.2222222222222222,\"#7201a8\"],[0.3333333333333333,\"#9c179e\"],[0.4444444444444444,\"#bd3786\"],[0.5555555555555556,\"#d8576b\"],[0.6666666666666666,\"#ed7953\"],[0.7777777777777778,\"#fb9f3a\"],[0.8888888888888888,\"#fdca26\"],[1.0,\"#f0f921\"]],\"type\":\"heatmap\"}],\"heatmapgl\":[{\"colorbar\":{\"outlinewidth\":0,\"ticks\":\"\"},\"colorscale\":[[0.0,\"#0d0887\"],[0.1111111111111111,\"#46039f\"],[0.2222222222222222,\"#7201a8\"],[0.3333333333333333,\"#9c179e\"],[0.4444444444444444,\"#bd3786\"],[0.5555555555555556,\"#d8576b\"],[0.6666666666666666,\"#ed7953\"],[0.7777777777777778,\"#fb9f3a\"],[0.8888888888888888,\"#fdca26\"],[1.0,\"#f0f921\"]],\"type\":\"heatmapgl\"}],\"histogram\":[{\"marker\":{\"pattern\":{\"fillmode\":\"overlay\",\"size\":10,\"solidity\":0.2}},\"type\":\"histogram\"}],\"histogram2d\":[{\"colorbar\":{\"outlinewidth\":0,\"ticks\":\"\"},\"colorscale\":[[0.0,\"#0d0887\"],[0.1111111111111111,\"#46039f\"],[0.2222222222222222,\"#7201a8\"],[0.3333333333333333,\"#9c179e\"],[0.4444444444444444,\"#bd3786\"],[0.5555555555555556,\"#d8576b\"],[0.6666666666666666,\"#ed7953\"],[0.7777777777777778,\"#fb9f3a\"],[0.8888888888888888,\"#fdca26\"],[1.0,\"#f0f921\"]],\"type\":\"histogram2d\"}],\"histogram2dcontour\":[{\"colorbar\":{\"outlinewidth\":0,\"ticks\":\"\"},\"colorscale\":[[0.0,\"#0d0887\"],[0.1111111111111111,\"#46039f\"],[0.2222222222222222,\"#7201a8\"],[0.3333333333333333,\"#9c179e\"],[0.4444444444444444,\"#bd3786\"],[0.5555555555555556,\"#d8576b\"],[0.6666666666666666,\"#ed7953\"],[0.7777777777777778,\"#fb9f3a\"],[0.8888888888888888,\"#fdca26\"],[1.0,\"#f0f921\"]],\"type\":\"histogram2dcontour\"}],\"mesh3d\":[{\"colorbar\":{\"outlinewidth\":0,\"ticks\":\"\"},\"type\":\"mesh3d\"}],\"parcoords\":[{\"line\":{\"colorbar\":{\"outlinewidth\":0,\"ticks\":\"\"}},\"type\":\"parcoords\"}],\"pie\":[{\"automargin\":true,\"type\":\"pie\"}],\"scatter\":[{\"marker\":{\"colorbar\":{\"outlinewidth\":0,\"ticks\":\"\"}},\"type\":\"scatter\"}],\"scatter3d\":[{\"line\":{\"colorbar\":{\"outlinewidth\":0,\"ticks\":\"\"}},\"marker\":{\"colorbar\":{\"outlinewidth\":0,\"ticks\":\"\"}},\"type\":\"scatter3d\"}],\"scattercarpet\":[{\"marker\":{\"colorbar\":{\"outlinewidth\":0,\"ticks\":\"\"}},\"type\":\"scattercarpet\"}],\"scattergeo\":[{\"marker\":{\"colorbar\":{\"outlinewidth\":0,\"ticks\":\"\"}},\"type\":\"scattergeo\"}],\"scattergl\":[{\"marker\":{\"colorbar\":{\"outlinewidth\":0,\"ticks\":\"\"}},\"type\":\"scattergl\"}],\"scattermapbox\":[{\"marker\":{\"colorbar\":{\"outlinewidth\":0,\"ticks\":\"\"}},\"type\":\"scattermapbox\"}],\"scatterpolar\":[{\"marker\":{\"colorbar\":{\"outlinewidth\":0,\"ticks\":\"\"}},\"type\":\"scatterpolar\"}],\"scatterpolargl\":[{\"marker\":{\"colorbar\":{\"outlinewidth\":0,\"ticks\":\"\"}},\"type\":\"scatterpolargl\"}],\"scatterternary\":[{\"marker\":{\"colorbar\":{\"outlinewidth\":0,\"ticks\":\"\"}},\"type\":\"scatterternary\"}],\"surface\":[{\"colorbar\":{\"outlinewidth\":0,\"ticks\":\"\"},\"colorscale\":[[0.0,\"#0d0887\"],[0.1111111111111111,\"#46039f\"],[0.2222222222222222,\"#7201a8\"],[0.3333333333333333,\"#9c179e\"],[0.4444444444444444,\"#bd3786\"],[0.5555555555555556,\"#d8576b\"],[0.6666666666666666,\"#ed7953\"],[0.7777777777777778,\"#fb9f3a\"],[0.8888888888888888,\"#fdca26\"],[1.0,\"#f0f921\"]],\"type\":\"surface\"}],\"table\":[{\"cells\":{\"fill\":{\"color\":\"#EBF0F8\"},\"line\":{\"color\":\"white\"}},\"header\":{\"fill\":{\"color\":\"#C8D4E3\"},\"line\":{\"color\":\"white\"}},\"type\":\"table\"}]},\"layout\":{\"annotationdefaults\":{\"arrowcolor\":\"#2a3f5f\",\"arrowhead\":0,\"arrowwidth\":1},\"autotypenumbers\":\"strict\",\"coloraxis\":{\"colorbar\":{\"outlinewidth\":0,\"ticks\":\"\"}},\"colorscale\":{\"diverging\":[[0,\"#8e0152\"],[0.1,\"#c51b7d\"],[0.2,\"#de77ae\"],[0.3,\"#f1b6da\"],[0.4,\"#fde0ef\"],[0.5,\"#f7f7f7\"],[0.6,\"#e6f5d0\"],[0.7,\"#b8e186\"],[0.8,\"#7fbc41\"],[0.9,\"#4d9221\"],[1,\"#276419\"]],\"sequential\":[[0.0,\"#0d0887\"],[0.1111111111111111,\"#46039f\"],[0.2222222222222222,\"#7201a8\"],[0.3333333333333333,\"#9c179e\"],[0.4444444444444444,\"#bd3786\"],[0.5555555555555556,\"#d8576b\"],[0.6666666666666666,\"#ed7953\"],[0.7777777777777778,\"#fb9f3a\"],[0.8888888888888888,\"#fdca26\"],[1.0,\"#f0f921\"]],\"sequentialminus\":[[0.0,\"#0d0887\"],[0.1111111111111111,\"#46039f\"],[0.2222222222222222,\"#7201a8\"],[0.3333333333333333,\"#9c179e\"],[0.4444444444444444,\"#bd3786\"],[0.5555555555555556,\"#d8576b\"],[0.6666666666666666,\"#ed7953\"],[0.7777777777777778,\"#fb9f3a\"],[0.8888888888888888,\"#fdca26\"],[1.0,\"#f0f921\"]]},\"colorway\":[\"#636efa\",\"#EF553B\",\"#00cc96\",\"#ab63fa\",\"#FFA15A\",\"#19d3f3\",\"#FF6692\",\"#B6E880\",\"#FF97FF\",\"#FECB52\"],\"font\":{\"color\":\"#2a3f5f\"},\"geo\":{\"bgcolor\":\"white\",\"lakecolor\":\"white\",\"landcolor\":\"#E5ECF6\",\"showlakes\":true,\"showland\":true,\"subunitcolor\":\"white\"},\"hoverlabel\":{\"align\":\"left\"},\"hovermode\":\"closest\",\"mapbox\":{\"style\":\"light\"},\"paper_bgcolor\":\"white\",\"plot_bgcolor\":\"#E5ECF6\",\"polar\":{\"angularaxis\":{\"gridcolor\":\"white\",\"linecolor\":\"white\",\"ticks\":\"\"},\"bgcolor\":\"#E5ECF6\",\"radialaxis\":{\"gridcolor\":\"white\",\"linecolor\":\"white\",\"ticks\":\"\"}},\"scene\":{\"xaxis\":{\"backgroundcolor\":\"#E5ECF6\",\"gridcolor\":\"white\",\"gridwidth\":2,\"linecolor\":\"white\",\"showbackground\":true,\"ticks\":\"\",\"zerolinecolor\":\"white\"},\"yaxis\":{\"backgroundcolor\":\"#E5ECF6\",\"gridcolor\":\"white\",\"gridwidth\":2,\"linecolor\":\"white\",\"showbackground\":true,\"ticks\":\"\",\"zerolinecolor\":\"white\"},\"zaxis\":{\"backgroundcolor\":\"#E5ECF6\",\"gridcolor\":\"white\",\"gridwidth\":2,\"linecolor\":\"white\",\"showbackground\":true,\"ticks\":\"\",\"zerolinecolor\":\"white\"}},\"shapedefaults\":{\"line\":{\"color\":\"#2a3f5f\"}},\"ternary\":{\"aaxis\":{\"gridcolor\":\"white\",\"linecolor\":\"white\",\"ticks\":\"\"},\"baxis\":{\"gridcolor\":\"white\",\"linecolor\":\"white\",\"ticks\":\"\"},\"bgcolor\":\"#E5ECF6\",\"caxis\":{\"gridcolor\":\"white\",\"linecolor\":\"white\",\"ticks\":\"\"}},\"title\":{\"x\":0.05},\"xaxis\":{\"automargin\":true,\"gridcolor\":\"white\",\"linecolor\":\"white\",\"ticks\":\"\",\"title\":{\"standoff\":15},\"zerolinecolor\":\"white\",\"zerolinewidth\":2},\"yaxis\":{\"automargin\":true,\"gridcolor\":\"white\",\"linecolor\":\"white\",\"ticks\":\"\",\"title\":{\"standoff\":15},\"zerolinecolor\":\"white\",\"zerolinewidth\":2}}},\"xaxis\":{\"anchor\":\"y\",\"domain\":[0.0,1.0],\"title\":{\"text\":\"year_halfyear\"}},\"yaxis\":{\"anchor\":\"x\",\"domain\":[0.0,1.0],\"title\":{\"text\":\"%change_wrt_previous_halfyear\"}},\"legend\":{\"title\":{\"text\":\"Currency Name\"},\"tracegroupgap\":0},\"margin\":{\"t\":60}},                        {\"responsive\": true}                    ).then(function(){\n",
       "                            \n",
       "var gd = document.getElementById('63765572-f149-4c2c-b278-35b5a704aea3');\n",
       "var x = new MutationObserver(function (mutations, observer) {{\n",
       "        var display = window.getComputedStyle(gd).display;\n",
       "        if (!display || display === 'none') {{\n",
       "            console.log([gd, 'removed!']);\n",
       "            Plotly.purge(gd);\n",
       "            observer.disconnect();\n",
       "        }}\n",
       "}});\n",
       "\n",
       "// Listen for the removal of the full notebook cells\n",
       "var notebookContainer = gd.closest('#notebook-container');\n",
       "if (notebookContainer) {{\n",
       "    x.observe(notebookContainer, {childList: true});\n",
       "}}\n",
       "\n",
       "// Listen for the clearing of the current output cell\n",
       "var outputEl = gd.closest('.output');\n",
       "if (outputEl) {{\n",
       "    x.observe(outputEl, {childList: true});\n",
       "}}\n",
       "\n",
       "                        })                };                });            </script>        </div>"
      ]
     },
     "metadata": {},
     "output_type": "display_data"
    }
   ],
   "source": [
    "fig = px.line(event_df_covid, x=\"year_halfyear\", y=\"%change_wrt_previous_halfyear\", color='Currency Name',markers= True)\n",
    "fig.show()"
   ]
  },
  {
   "cell_type": "markdown",
   "metadata": {
    "id": "Rn4pRrnoidL-"
   },
   "source": [
    "### Russia crisis with Ukraine\n",
    "\n",
    "In response to Russia's actions in Ukraine, the US and EU imposed a series of economic sanctions on Russia. These sanctions targeted Russian economic, financial and energy sectors. Sanctions restricted Russia's access to international capital markets and led to paraount dip in their exchange rate."
   ]
  },
  {
   "cell_type": "code",
   "execution_count": 36,
   "metadata": {
    "colab": {
     "base_uri": "https://localhost:8080/"
    },
    "id": "bF_rUX24iitw",
    "outputId": "c0079e69-9007-478c-9fd9-09bb85a5a4c8"
   },
   "outputs": [],
   "source": [
    "event_df_russia = get_event_data(sub_df_1,2022,2023,1,level = 'half_yearly',countries =['RUSSIAN FEDERATION (THE)'] )"
   ]
  },
  {
   "cell_type": "code",
   "execution_count": 37,
   "metadata": {
    "colab": {
     "base_uri": "https://localhost:8080/",
     "height": 767
    },
    "id": "_WeDImJVii4Y",
    "outputId": "f7ea6a6c-c8ba-4e32-f498-0a807cf0fd61"
   },
   "outputs": [
    {
     "data": {
      "text/html": [
       "<div>                            <div id=\"51aabd1c-e05a-4f1b-81bb-0ad71c9d690b\" class=\"plotly-graph-div\" style=\"height:750px; width:750px;\"></div>            <script type=\"text/javascript\">                require([\"plotly\"], function(Plotly) {                    window.PLOTLYENV=window.PLOTLYENV || {};                                    if (document.getElementById(\"51aabd1c-e05a-4f1b-81bb-0ad71c9d690b\")) {                    Plotly.newPlot(                        \"51aabd1c-e05a-4f1b-81bb-0ad71c9d690b\",                        [{\"hovertemplate\":\"Currency Name=Russian Ruble<br>year_halfyear=%{x}<br>%change_wrt_previous_halfyear=%{y}<extra></extra>\",\"legendgroup\":\"Russian Ruble\",\"line\":{\"color\":\"#636efa\",\"dash\":\"solid\"},\"marker\":{\"symbol\":\"circle\"},\"mode\":\"markers+lines\",\"name\":\"Russian Ruble\",\"orientation\":\"v\",\"showlegend\":true,\"x\":[\"2021_0\",\"2021_1\",\"2022_0\",\"2022_1\",\"2023_0\",\"2023_1\"],\"xaxis\":\"x\",\"y\":[null,-0.01693532635319682,0.06991987990317221,-0.21193550590325733,0.2535367884853123,0.21858825482739222],\"yaxis\":\"y\",\"type\":\"scatter\"}],                        {\"template\":{\"data\":{\"bar\":[{\"error_x\":{\"color\":\"#2a3f5f\"},\"error_y\":{\"color\":\"#2a3f5f\"},\"marker\":{\"line\":{\"color\":\"#E5ECF6\",\"width\":0.5},\"pattern\":{\"fillmode\":\"overlay\",\"size\":10,\"solidity\":0.2}},\"type\":\"bar\"}],\"barpolar\":[{\"marker\":{\"line\":{\"color\":\"#E5ECF6\",\"width\":0.5},\"pattern\":{\"fillmode\":\"overlay\",\"size\":10,\"solidity\":0.2}},\"type\":\"barpolar\"}],\"carpet\":[{\"aaxis\":{\"endlinecolor\":\"#2a3f5f\",\"gridcolor\":\"white\",\"linecolor\":\"white\",\"minorgridcolor\":\"white\",\"startlinecolor\":\"#2a3f5f\"},\"baxis\":{\"endlinecolor\":\"#2a3f5f\",\"gridcolor\":\"white\",\"linecolor\":\"white\",\"minorgridcolor\":\"white\",\"startlinecolor\":\"#2a3f5f\"},\"type\":\"carpet\"}],\"choropleth\":[{\"colorbar\":{\"outlinewidth\":0,\"ticks\":\"\"},\"type\":\"choropleth\"}],\"contour\":[{\"colorbar\":{\"outlinewidth\":0,\"ticks\":\"\"},\"colorscale\":[[0.0,\"#0d0887\"],[0.1111111111111111,\"#46039f\"],[0.2222222222222222,\"#7201a8\"],[0.3333333333333333,\"#9c179e\"],[0.4444444444444444,\"#bd3786\"],[0.5555555555555556,\"#d8576b\"],[0.6666666666666666,\"#ed7953\"],[0.7777777777777778,\"#fb9f3a\"],[0.8888888888888888,\"#fdca26\"],[1.0,\"#f0f921\"]],\"type\":\"contour\"}],\"contourcarpet\":[{\"colorbar\":{\"outlinewidth\":0,\"ticks\":\"\"},\"type\":\"contourcarpet\"}],\"heatmap\":[{\"colorbar\":{\"outlinewidth\":0,\"ticks\":\"\"},\"colorscale\":[[0.0,\"#0d0887\"],[0.1111111111111111,\"#46039f\"],[0.2222222222222222,\"#7201a8\"],[0.3333333333333333,\"#9c179e\"],[0.4444444444444444,\"#bd3786\"],[0.5555555555555556,\"#d8576b\"],[0.6666666666666666,\"#ed7953\"],[0.7777777777777778,\"#fb9f3a\"],[0.8888888888888888,\"#fdca26\"],[1.0,\"#f0f921\"]],\"type\":\"heatmap\"}],\"heatmapgl\":[{\"colorbar\":{\"outlinewidth\":0,\"ticks\":\"\"},\"colorscale\":[[0.0,\"#0d0887\"],[0.1111111111111111,\"#46039f\"],[0.2222222222222222,\"#7201a8\"],[0.3333333333333333,\"#9c179e\"],[0.4444444444444444,\"#bd3786\"],[0.5555555555555556,\"#d8576b\"],[0.6666666666666666,\"#ed7953\"],[0.7777777777777778,\"#fb9f3a\"],[0.8888888888888888,\"#fdca26\"],[1.0,\"#f0f921\"]],\"type\":\"heatmapgl\"}],\"histogram\":[{\"marker\":{\"pattern\":{\"fillmode\":\"overlay\",\"size\":10,\"solidity\":0.2}},\"type\":\"histogram\"}],\"histogram2d\":[{\"colorbar\":{\"outlinewidth\":0,\"ticks\":\"\"},\"colorscale\":[[0.0,\"#0d0887\"],[0.1111111111111111,\"#46039f\"],[0.2222222222222222,\"#7201a8\"],[0.3333333333333333,\"#9c179e\"],[0.4444444444444444,\"#bd3786\"],[0.5555555555555556,\"#d8576b\"],[0.6666666666666666,\"#ed7953\"],[0.7777777777777778,\"#fb9f3a\"],[0.8888888888888888,\"#fdca26\"],[1.0,\"#f0f921\"]],\"type\":\"histogram2d\"}],\"histogram2dcontour\":[{\"colorbar\":{\"outlinewidth\":0,\"ticks\":\"\"},\"colorscale\":[[0.0,\"#0d0887\"],[0.1111111111111111,\"#46039f\"],[0.2222222222222222,\"#7201a8\"],[0.3333333333333333,\"#9c179e\"],[0.4444444444444444,\"#bd3786\"],[0.5555555555555556,\"#d8576b\"],[0.6666666666666666,\"#ed7953\"],[0.7777777777777778,\"#fb9f3a\"],[0.8888888888888888,\"#fdca26\"],[1.0,\"#f0f921\"]],\"type\":\"histogram2dcontour\"}],\"mesh3d\":[{\"colorbar\":{\"outlinewidth\":0,\"ticks\":\"\"},\"type\":\"mesh3d\"}],\"parcoords\":[{\"line\":{\"colorbar\":{\"outlinewidth\":0,\"ticks\":\"\"}},\"type\":\"parcoords\"}],\"pie\":[{\"automargin\":true,\"type\":\"pie\"}],\"scatter\":[{\"marker\":{\"colorbar\":{\"outlinewidth\":0,\"ticks\":\"\"}},\"type\":\"scatter\"}],\"scatter3d\":[{\"line\":{\"colorbar\":{\"outlinewidth\":0,\"ticks\":\"\"}},\"marker\":{\"colorbar\":{\"outlinewidth\":0,\"ticks\":\"\"}},\"type\":\"scatter3d\"}],\"scattercarpet\":[{\"marker\":{\"colorbar\":{\"outlinewidth\":0,\"ticks\":\"\"}},\"type\":\"scattercarpet\"}],\"scattergeo\":[{\"marker\":{\"colorbar\":{\"outlinewidth\":0,\"ticks\":\"\"}},\"type\":\"scattergeo\"}],\"scattergl\":[{\"marker\":{\"colorbar\":{\"outlinewidth\":0,\"ticks\":\"\"}},\"type\":\"scattergl\"}],\"scattermapbox\":[{\"marker\":{\"colorbar\":{\"outlinewidth\":0,\"ticks\":\"\"}},\"type\":\"scattermapbox\"}],\"scatterpolar\":[{\"marker\":{\"colorbar\":{\"outlinewidth\":0,\"ticks\":\"\"}},\"type\":\"scatterpolar\"}],\"scatterpolargl\":[{\"marker\":{\"colorbar\":{\"outlinewidth\":0,\"ticks\":\"\"}},\"type\":\"scatterpolargl\"}],\"scatterternary\":[{\"marker\":{\"colorbar\":{\"outlinewidth\":0,\"ticks\":\"\"}},\"type\":\"scatterternary\"}],\"surface\":[{\"colorbar\":{\"outlinewidth\":0,\"ticks\":\"\"},\"colorscale\":[[0.0,\"#0d0887\"],[0.1111111111111111,\"#46039f\"],[0.2222222222222222,\"#7201a8\"],[0.3333333333333333,\"#9c179e\"],[0.4444444444444444,\"#bd3786\"],[0.5555555555555556,\"#d8576b\"],[0.6666666666666666,\"#ed7953\"],[0.7777777777777778,\"#fb9f3a\"],[0.8888888888888888,\"#fdca26\"],[1.0,\"#f0f921\"]],\"type\":\"surface\"}],\"table\":[{\"cells\":{\"fill\":{\"color\":\"#EBF0F8\"},\"line\":{\"color\":\"white\"}},\"header\":{\"fill\":{\"color\":\"#C8D4E3\"},\"line\":{\"color\":\"white\"}},\"type\":\"table\"}]},\"layout\":{\"annotationdefaults\":{\"arrowcolor\":\"#2a3f5f\",\"arrowhead\":0,\"arrowwidth\":1},\"autotypenumbers\":\"strict\",\"coloraxis\":{\"colorbar\":{\"outlinewidth\":0,\"ticks\":\"\"}},\"colorscale\":{\"diverging\":[[0,\"#8e0152\"],[0.1,\"#c51b7d\"],[0.2,\"#de77ae\"],[0.3,\"#f1b6da\"],[0.4,\"#fde0ef\"],[0.5,\"#f7f7f7\"],[0.6,\"#e6f5d0\"],[0.7,\"#b8e186\"],[0.8,\"#7fbc41\"],[0.9,\"#4d9221\"],[1,\"#276419\"]],\"sequential\":[[0.0,\"#0d0887\"],[0.1111111111111111,\"#46039f\"],[0.2222222222222222,\"#7201a8\"],[0.3333333333333333,\"#9c179e\"],[0.4444444444444444,\"#bd3786\"],[0.5555555555555556,\"#d8576b\"],[0.6666666666666666,\"#ed7953\"],[0.7777777777777778,\"#fb9f3a\"],[0.8888888888888888,\"#fdca26\"],[1.0,\"#f0f921\"]],\"sequentialminus\":[[0.0,\"#0d0887\"],[0.1111111111111111,\"#46039f\"],[0.2222222222222222,\"#7201a8\"],[0.3333333333333333,\"#9c179e\"],[0.4444444444444444,\"#bd3786\"],[0.5555555555555556,\"#d8576b\"],[0.6666666666666666,\"#ed7953\"],[0.7777777777777778,\"#fb9f3a\"],[0.8888888888888888,\"#fdca26\"],[1.0,\"#f0f921\"]]},\"colorway\":[\"#636efa\",\"#EF553B\",\"#00cc96\",\"#ab63fa\",\"#FFA15A\",\"#19d3f3\",\"#FF6692\",\"#B6E880\",\"#FF97FF\",\"#FECB52\"],\"font\":{\"color\":\"#2a3f5f\"},\"geo\":{\"bgcolor\":\"white\",\"lakecolor\":\"white\",\"landcolor\":\"#E5ECF6\",\"showlakes\":true,\"showland\":true,\"subunitcolor\":\"white\"},\"hoverlabel\":{\"align\":\"left\"},\"hovermode\":\"closest\",\"mapbox\":{\"style\":\"light\"},\"paper_bgcolor\":\"white\",\"plot_bgcolor\":\"#E5ECF6\",\"polar\":{\"angularaxis\":{\"gridcolor\":\"white\",\"linecolor\":\"white\",\"ticks\":\"\"},\"bgcolor\":\"#E5ECF6\",\"radialaxis\":{\"gridcolor\":\"white\",\"linecolor\":\"white\",\"ticks\":\"\"}},\"scene\":{\"xaxis\":{\"backgroundcolor\":\"#E5ECF6\",\"gridcolor\":\"white\",\"gridwidth\":2,\"linecolor\":\"white\",\"showbackground\":true,\"ticks\":\"\",\"zerolinecolor\":\"white\"},\"yaxis\":{\"backgroundcolor\":\"#E5ECF6\",\"gridcolor\":\"white\",\"gridwidth\":2,\"linecolor\":\"white\",\"showbackground\":true,\"ticks\":\"\",\"zerolinecolor\":\"white\"},\"zaxis\":{\"backgroundcolor\":\"#E5ECF6\",\"gridcolor\":\"white\",\"gridwidth\":2,\"linecolor\":\"white\",\"showbackground\":true,\"ticks\":\"\",\"zerolinecolor\":\"white\"}},\"shapedefaults\":{\"line\":{\"color\":\"#2a3f5f\"}},\"ternary\":{\"aaxis\":{\"gridcolor\":\"white\",\"linecolor\":\"white\",\"ticks\":\"\"},\"baxis\":{\"gridcolor\":\"white\",\"linecolor\":\"white\",\"ticks\":\"\"},\"bgcolor\":\"#E5ECF6\",\"caxis\":{\"gridcolor\":\"white\",\"linecolor\":\"white\",\"ticks\":\"\"}},\"title\":{\"x\":0.05},\"xaxis\":{\"automargin\":true,\"gridcolor\":\"white\",\"linecolor\":\"white\",\"ticks\":\"\",\"title\":{\"standoff\":15},\"zerolinecolor\":\"white\",\"zerolinewidth\":2},\"yaxis\":{\"automargin\":true,\"gridcolor\":\"white\",\"linecolor\":\"white\",\"ticks\":\"\",\"title\":{\"standoff\":15},\"zerolinecolor\":\"white\",\"zerolinewidth\":2}}},\"xaxis\":{\"anchor\":\"y\",\"domain\":[0.0,1.0],\"title\":{\"text\":\"year_halfyear\"}},\"yaxis\":{\"anchor\":\"x\",\"domain\":[0.0,1.0],\"title\":{\"text\":\"%change_wrt_previous_halfyear\"}},\"legend\":{\"title\":{\"text\":\"Currency Name\"},\"tracegroupgap\":0},\"margin\":{\"t\":60},\"height\":750,\"width\":750},                        {\"responsive\": true}                    ).then(function(){\n",
       "                            \n",
       "var gd = document.getElementById('51aabd1c-e05a-4f1b-81bb-0ad71c9d690b');\n",
       "var x = new MutationObserver(function (mutations, observer) {{\n",
       "        var display = window.getComputedStyle(gd).display;\n",
       "        if (!display || display === 'none') {{\n",
       "            console.log([gd, 'removed!']);\n",
       "            Plotly.purge(gd);\n",
       "            observer.disconnect();\n",
       "        }}\n",
       "}});\n",
       "\n",
       "// Listen for the removal of the full notebook cells\n",
       "var notebookContainer = gd.closest('#notebook-container');\n",
       "if (notebookContainer) {{\n",
       "    x.observe(notebookContainer, {childList: true});\n",
       "}}\n",
       "\n",
       "// Listen for the clearing of the current output cell\n",
       "var outputEl = gd.closest('.output');\n",
       "if (outputEl) {{\n",
       "    x.observe(outputEl, {childList: true});\n",
       "}}\n",
       "\n",
       "                        })                };                });            </script>        </div>"
      ]
     },
     "metadata": {},
     "output_type": "display_data"
    }
   ],
   "source": [
    "fig = px.line(event_df_russia, x=\"year_halfyear\", y=\"%change_wrt_previous_halfyear\", color='Currency Name',markers= True,width=750, height=750)\n",
    "fig.show()"
   ]
  },
  {
   "cell_type": "markdown",
   "metadata": {
    "id": "zg6K_hhgLnzt"
   },
   "source": [
    "### Conclusion:\n",
    "\n",
    "It's important to note that currency markets are influenced by a complex interplay of factors, and exchange rates can be influenced by a combination of economic, fiscal policy, and market sentiment considerations. The insights gained through this analysis of currency exchange rates during the econoimc turmoil instances stands as an approximate indicator of their financial health. If other factros affecting exchange rates were also considered for analysis, it would be possible to accurately predict the economic health.\n",
    "\n"
   ]
  }
 ],
 "metadata": {
  "colab": {
   "provenance": []
  },
  "kernelspec": {
   "display_name": "Python 3 (ipykernel)",
   "language": "python",
   "name": "python3"
  },
  "language_info": {
   "codemirror_mode": {
    "name": "ipython",
    "version": 3
   },
   "file_extension": ".py",
   "mimetype": "text/x-python",
   "name": "python",
   "nbconvert_exporter": "python",
   "pygments_lexer": "ipython3",
   "version": "3.9.12"
  }
 },
 "nbformat": 4,
 "nbformat_minor": 1
}
